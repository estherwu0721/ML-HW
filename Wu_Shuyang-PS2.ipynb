{
 "cells": [
  {
   "cell_type": "markdown",
   "metadata": {
    "ein.tags": [
     "worksheet-0"
    ],
    "slideshow": {
     "slide_type": "-"
    }
   },
   "source": [
    "# Problem Set 2, due January 23th at 5:30 pm/January 24th 3:30pm\n",
    "\n",
    "**Please Note:** This assignment will likely take you a _long_ time, especially if you are new to Python. Start early!"
   ]
  },
  {
   "cell_type": "code",
   "execution_count": 1,
   "metadata": {
    "collapsed": true
   },
   "outputs": [],
   "source": [
    "#Name: Shuyang Wu\n",
    "#Date: 1/20/2017\n",
    "#Section: C\n",
    "import pandas as pd\n",
    "import numpy as np\n",
    "import matplotlib.pyplot as plt\n",
    "from scipy.stats import ttest_ind\n",
    "from sklearn import datasets, linear_model\n",
    "import statsmodels.formula.api as smf\n",
    "import os\n",
    "import scipy.stats as stats\n",
    "%matplotlib inline"
   ]
  },
  {
   "cell_type": "markdown",
   "metadata": {
    "ein.tags": [
     "worksheet-0"
    ],
    "slideshow": {
     "slide_type": "-"
    }
   },
   "source": [
    "## Introduction to the assignment\n",
    "\n",
    "For this assignment, you will be using data from the [Progresa program](http://en.wikipedia.org/wiki/Oportunidades), a government social assistance program in Mexico. This program, as well as the details of its impact, are described in the paper \"[School subsidies for the poor: evaluating the Mexican Progresa poverty program](http://www.sciencedirect.com/science/article/pii/S0304387803001858)\", by Paul Shultz (available on Canvas). Please familiarize yourself with the PROGRESA program before beginning this problem set, so you have a rough sense of where the data come from and how they were generated. If you just proceed into the problem set without understanding Progresa or the data, it will be very difficult!\n",
    "\n",
    "The goal of this problem set is to implement some of the basic econometric techniques that you are learning in class to measure the impact of Progresa on secondary school enrollment rates. The timeline of the program was:\n",
    "\n",
    " * Baseline survey conducted in 1997\n",
    " * Intervention begins in 1998, \"Wave 1\" of data collected in 1998\n",
    " * \"Wave 2 of data\" collected in 1999\n",
    " * Evaluation ends in 2000, at which point the control villages were treated. \n",
    " \n",
    "When you are ready, download the progresa_sample.csv data from Canvas. The data are actual data collected to evaluate the impact of the Progresa program.  In this file, each row corresponds to an observation taken for a given child for a given year. There are two years of data (1997 and 1998), and just under 40,000 children who are surveyed in each year. For each child-year observation, the following variables are collected:\n",
    "\n",
    "| Variable name | Description|\n",
    "|---------|---------|\n",
    "|year\t  |year in which data is collected\n",
    "|sex\t  |male = 1|\n",
    "|indig\t  |indigenous = 1|\n",
    "|dist_sec |nearest distance to a secondary school|\n",
    "|sc\t      |enrolled in school in year of survey|\n",
    "|grc      |grade enrolled|\n",
    "|fam_n    |family size|\n",
    "|min_dist |\tmin distance to an urban center|\n",
    "|dist_cap |\tmin distance to the capital|\n",
    "|poor     |\tpoor = 1|\n",
    "|progresa |treatment =1|\n",
    "|hohedu\t  |years of schooling of head of household|\n",
    "|hohwag\t  |monthly wages of head of household|\n",
    "|welfare_index|\twelfare index used to classify poor|\n",
    "|hohsex\t  |gender of head of household (male=1)|\n",
    "|hohage   |age of head of household|\n",
    "|age      |years old|\n",
    "|folnum\t  |individual id|\n",
    "|village  |\tvillage id|\n",
    "|sc97\t  |schooling in 1997|"
   ]
  },
  {
   "cell_type": "markdown",
   "metadata": {
    "ein.tags": [
     "worksheet-0"
    ],
    "slideshow": {
     "slide_type": "-"
    }
   },
   "source": [
    "---\n",
    "\n",
    "##Part 1: Descriptive analysis\n",
    "\n",
    "### 1.1\tSummary Statistics\n",
    "\n",
    "Present summary statistics (mean and standard deviation) for all of the demographic variables in the dataset (i.e., everything except year, folnum, village). Present these in a single table alphabetized by variable name. Do NOT simply expect the grader to scroll through your output!"
   ]
  },
  {
   "cell_type": "code",
   "execution_count": 4,
   "metadata": {
    "autoscroll": "json-false",
    "collapsed": false,
    "ein.tags": [
     "worksheet-0"
    ],
    "slideshow": {
     "slide_type": "-"
    }
   },
   "outputs": [
    {
     "name": "stdout",
     "output_type": "stream",
     "text": [
      "77250 observations and 21 variables\n",
      "poor levels ['pobre' 'no pobre']\n"
     ]
    },
    {
     "data": {
      "text/html": [
       "<div>\n",
       "<table border=\"1\" class=\"dataframe\">\n",
       "  <thead>\n",
       "    <tr style=\"text-align: right;\">\n",
       "      <th></th>\n",
       "      <th>age</th>\n",
       "      <th>dist_cap</th>\n",
       "      <th>dist_sec</th>\n",
       "      <th>fam_n</th>\n",
       "      <th>grc</th>\n",
       "      <th>grc97</th>\n",
       "      <th>hohage</th>\n",
       "      <th>hohedu</th>\n",
       "      <th>hohsex</th>\n",
       "      <th>hohwag</th>\n",
       "      <th>indig</th>\n",
       "      <th>min_dist</th>\n",
       "      <th>sc</th>\n",
       "      <th>sc97</th>\n",
       "      <th>sex</th>\n",
       "      <th>welfare_index</th>\n",
       "    </tr>\n",
       "  </thead>\n",
       "  <tbody>\n",
       "    <tr>\n",
       "      <th>mean</th>\n",
       "      <td>11.366460</td>\n",
       "      <td>147.674452</td>\n",
       "      <td>2.418910</td>\n",
       "      <td>7.215715</td>\n",
       "      <td>3.963537</td>\n",
       "      <td>3.705372</td>\n",
       "      <td>44.436717</td>\n",
       "      <td>2.768104</td>\n",
       "      <td>0.925185</td>\n",
       "      <td>586.985312</td>\n",
       "      <td>0.298324</td>\n",
       "      <td>103.447520</td>\n",
       "      <td>0.819818</td>\n",
       "      <td>0.813922</td>\n",
       "      <td>0.512211</td>\n",
       "      <td>690.346564</td>\n",
       "    </tr>\n",
       "    <tr>\n",
       "      <th>std</th>\n",
       "      <td>3.167744</td>\n",
       "      <td>76.063134</td>\n",
       "      <td>2.234109</td>\n",
       "      <td>2.352900</td>\n",
       "      <td>2.499063</td>\n",
       "      <td>2.572387</td>\n",
       "      <td>11.620372</td>\n",
       "      <td>2.656106</td>\n",
       "      <td>0.263095</td>\n",
       "      <td>788.133664</td>\n",
       "      <td>0.457525</td>\n",
       "      <td>42.089441</td>\n",
       "      <td>0.384342</td>\n",
       "      <td>0.389172</td>\n",
       "      <td>0.499854</td>\n",
       "      <td>139.491130</td>\n",
       "    </tr>\n",
       "  </tbody>\n",
       "</table>\n",
       "</div>"
      ],
      "text/plain": [
       "            age    dist_cap  dist_sec     fam_n       grc     grc97  \\\n",
       "mean  11.366460  147.674452  2.418910  7.215715  3.963537  3.705372   \n",
       "std    3.167744   76.063134  2.234109  2.352900  2.499063  2.572387   \n",
       "\n",
       "         hohage    hohedu    hohsex      hohwag     indig    min_dist  \\\n",
       "mean  44.436717  2.768104  0.925185  586.985312  0.298324  103.447520   \n",
       "std   11.620372  2.656106  0.263095  788.133664  0.457525   42.089441   \n",
       "\n",
       "            sc      sc97       sex  welfare_index  \n",
       "mean  0.819818  0.813922  0.512211     690.346564  \n",
       "std   0.384342  0.389172  0.499854     139.491130  "
      ]
     },
     "execution_count": 4,
     "metadata": {},
     "output_type": "execute_result"
    }
   ],
   "source": [
    "p_df = pd.read_csv('~/Downloads/progresa_sample.csv', dtype={'progresa': str})\n",
    "p_df['progresa'] = p_df['progresa'].astype('str') \n",
    "print(p_df.shape[0], \"observations and\", p_df.shape[1], \"variables\")\n",
    "print(\"poor levels\", p_df['poor'].unique())\n",
    "summary = p_df.describe().loc[['mean','std']]\n",
    "summary.drop(['year','folnum','village'], axis=1, inplace=True)\n",
    "summary.sort_index(axis=1)"
   ]
  },
  {
   "cell_type": "markdown",
   "metadata": {
    "ein.tags": [
     "worksheet-0"
    ],
    "slideshow": {
     "slide_type": "-"
    }
   },
   "source": [
    "### 1.2 Differences at baseline?\n",
    "\n",
    "Are the baseline (1997) demographic characteristics **for the poor**  different in treatment and control villages? Hint: Use a T-Test to determine whether there is a statistically significant difference in the average values of each of the variables in the dataset. Focus only on the data from 1997 for individuals who are poor (i.e., poor=='pobre').\n",
    "\n",
    "Present your results in a single table with the following columns and 14 (or so) rows:\n",
    "\n",
    "| Variable name | Average value (Treatment villages) | Average value (Control villages) | Difference (Treat - Control) | p-value |\n",
    "|------|------|------|------|------|\n",
    "|Male  |?     |?     |?     |?     |\n"
   ]
  },
  {
   "cell_type": "code",
   "execution_count": 8,
   "metadata": {
    "autoscroll": "json-false",
    "collapsed": false,
    "ein.tags": [
     "worksheet-0"
    ],
    "slideshow": {
     "slide_type": "-"
    }
   },
   "outputs": [
    {
     "data": {
      "text/html": [
       "<div>\n",
       "<table border=\"1\" class=\"dataframe\">\n",
       "  <thead>\n",
       "    <tr style=\"text-align: right;\">\n",
       "      <th></th>\n",
       "      <th>Variable name</th>\n",
       "      <th>Average value (Treatment villages)</th>\n",
       "      <th>Average value (Control villages)</th>\n",
       "      <th>Difference(Treat - Control)</th>\n",
       "      <th>p-value</th>\n",
       "    </tr>\n",
       "  </thead>\n",
       "  <tbody>\n",
       "    <tr>\n",
       "      <th>0</th>\n",
       "      <td>sex</td>\n",
       "      <td>0.520268</td>\n",
       "      <td>0.506556</td>\n",
       "      <td>0.013713</td>\n",
       "      <td>1.956962e-02</td>\n",
       "    </tr>\n",
       "    <tr>\n",
       "      <th>1</th>\n",
       "      <td>indig</td>\n",
       "      <td>0.316744</td>\n",
       "      <td>0.325306</td>\n",
       "      <td>-0.008562</td>\n",
       "      <td>1.183760e-01</td>\n",
       "    </tr>\n",
       "    <tr>\n",
       "      <th>2</th>\n",
       "      <td>dist_sec</td>\n",
       "      <td>2.399648</td>\n",
       "      <td>2.400687</td>\n",
       "      <td>-0.001039</td>\n",
       "      <td>9.670949e-01</td>\n",
       "    </tr>\n",
       "    <tr>\n",
       "      <th>3</th>\n",
       "      <td>sc</td>\n",
       "      <td>0.822697</td>\n",
       "      <td>0.815066</td>\n",
       "      <td>0.007631</td>\n",
       "      <td>9.117959e-02</td>\n",
       "    </tr>\n",
       "    <tr>\n",
       "      <th>4</th>\n",
       "      <td>grc</td>\n",
       "      <td>3.709214</td>\n",
       "      <td>3.733653</td>\n",
       "      <td>-0.024439</td>\n",
       "      <td>3.947750e-01</td>\n",
       "    </tr>\n",
       "    <tr>\n",
       "      <th>5</th>\n",
       "      <td>fam_n</td>\n",
       "      <td>7.281032</td>\n",
       "      <td>7.302939</td>\n",
       "      <td>-0.021907</td>\n",
       "      <td>4.236088e-01</td>\n",
       "    </tr>\n",
       "    <tr>\n",
       "      <th>6</th>\n",
       "      <td>min_dist</td>\n",
       "      <td>107.395231</td>\n",
       "      <td>103.098348</td>\n",
       "      <td>4.296884</td>\n",
       "      <td>1.936661e-18</td>\n",
       "    </tr>\n",
       "    <tr>\n",
       "      <th>7</th>\n",
       "      <td>dist_cap</td>\n",
       "      <td>151.801472</td>\n",
       "      <td>154.492095</td>\n",
       "      <td>-2.690622</td>\n",
       "      <td>3.414194e-03</td>\n",
       "    </tr>\n",
       "    <tr>\n",
       "      <th>8</th>\n",
       "      <td>hohedu</td>\n",
       "      <td>2.726729</td>\n",
       "      <td>2.660982</td>\n",
       "      <td>0.065747</td>\n",
       "      <td>2.613239e-02</td>\n",
       "    </tr>\n",
       "    <tr>\n",
       "      <th>9</th>\n",
       "      <td>hohwag</td>\n",
       "      <td>550.207086</td>\n",
       "      <td>580.694452</td>\n",
       "      <td>-30.487366</td>\n",
       "      <td>2.727661e-04</td>\n",
       "    </tr>\n",
       "    <tr>\n",
       "      <th>10</th>\n",
       "      <td>welfare_index</td>\n",
       "      <td>656.810476</td>\n",
       "      <td>661.593513</td>\n",
       "      <td>-4.783037</td>\n",
       "      <td>3.724043e-04</td>\n",
       "    </tr>\n",
       "    <tr>\n",
       "      <th>11</th>\n",
       "      <td>hohsex</td>\n",
       "      <td>0.925586</td>\n",
       "      <td>0.923387</td>\n",
       "      <td>0.002199</td>\n",
       "      <td>4.781232e-01</td>\n",
       "    </tr>\n",
       "    <tr>\n",
       "      <th>12</th>\n",
       "      <td>hohage</td>\n",
       "      <td>43.631234</td>\n",
       "      <td>44.270717</td>\n",
       "      <td>-0.639483</td>\n",
       "      <td>1.925767e-06</td>\n",
       "    </tr>\n",
       "    <tr>\n",
       "      <th>13</th>\n",
       "      <td>age</td>\n",
       "      <td>10.743825</td>\n",
       "      <td>10.785586</td>\n",
       "      <td>-0.041761</td>\n",
       "      <td>2.476155e-01</td>\n",
       "    </tr>\n",
       "    <tr>\n",
       "      <th>14</th>\n",
       "      <td>village</td>\n",
       "      <td>236.520636</td>\n",
       "      <td>289.078756</td>\n",
       "      <td>-52.558120</td>\n",
       "      <td>8.322183e-196</td>\n",
       "    </tr>\n",
       "    <tr>\n",
       "      <th>15</th>\n",
       "      <td>folnum</td>\n",
       "      <td>19447.379045</td>\n",
       "      <td>19327.970092</td>\n",
       "      <td>119.408953</td>\n",
       "      <td>3.621745e-01</td>\n",
       "    </tr>\n",
       "    <tr>\n",
       "      <th>16</th>\n",
       "      <td>grc97</td>\n",
       "      <td>3.709214</td>\n",
       "      <td>3.733653</td>\n",
       "      <td>-0.024439</td>\n",
       "      <td>3.947750e-01</td>\n",
       "    </tr>\n",
       "    <tr>\n",
       "      <th>17</th>\n",
       "      <td>sc97</td>\n",
       "      <td>0.822697</td>\n",
       "      <td>0.815066</td>\n",
       "      <td>0.007631</td>\n",
       "      <td>9.117959e-02</td>\n",
       "    </tr>\n",
       "  </tbody>\n",
       "</table>\n",
       "</div>"
      ],
      "text/plain": [
       "    Variable name  Average value (Treatment villages)  \\\n",
       "0             sex                            0.520268   \n",
       "1           indig                            0.316744   \n",
       "2        dist_sec                            2.399648   \n",
       "3              sc                            0.822697   \n",
       "4             grc                            3.709214   \n",
       "5           fam_n                            7.281032   \n",
       "6        min_dist                          107.395231   \n",
       "7        dist_cap                          151.801472   \n",
       "8          hohedu                            2.726729   \n",
       "9          hohwag                          550.207086   \n",
       "10  welfare_index                          656.810476   \n",
       "11         hohsex                            0.925586   \n",
       "12         hohage                           43.631234   \n",
       "13            age                           10.743825   \n",
       "14        village                          236.520636   \n",
       "15         folnum                        19447.379045   \n",
       "16          grc97                            3.709214   \n",
       "17           sc97                            0.822697   \n",
       "\n",
       "    Average value (Control villages)  Difference(Treat - Control)  \\\n",
       "0                           0.506556                     0.013713   \n",
       "1                           0.325306                    -0.008562   \n",
       "2                           2.400687                    -0.001039   \n",
       "3                           0.815066                     0.007631   \n",
       "4                           3.733653                    -0.024439   \n",
       "5                           7.302939                    -0.021907   \n",
       "6                         103.098348                     4.296884   \n",
       "7                         154.492095                    -2.690622   \n",
       "8                           2.660982                     0.065747   \n",
       "9                         580.694452                   -30.487366   \n",
       "10                        661.593513                    -4.783037   \n",
       "11                          0.923387                     0.002199   \n",
       "12                         44.270717                    -0.639483   \n",
       "13                         10.785586                    -0.041761   \n",
       "14                        289.078756                   -52.558120   \n",
       "15                      19327.970092                   119.408953   \n",
       "16                          3.733653                    -0.024439   \n",
       "17                          0.815066                     0.007631   \n",
       "\n",
       "          p-value  \n",
       "0    1.956962e-02  \n",
       "1    1.183760e-01  \n",
       "2    9.670949e-01  \n",
       "3    9.117959e-02  \n",
       "4    3.947750e-01  \n",
       "5    4.236088e-01  \n",
       "6    1.936661e-18  \n",
       "7    3.414194e-03  \n",
       "8    2.613239e-02  \n",
       "9    2.727661e-04  \n",
       "10   3.724043e-04  \n",
       "11   4.781232e-01  \n",
       "12   1.925767e-06  \n",
       "13   2.476155e-01  \n",
       "14  8.322183e-196  \n",
       "15   3.621745e-01  \n",
       "16   3.947750e-01  \n",
       "17   9.117959e-02  "
      ]
     },
     "execution_count": 8,
     "metadata": {},
     "output_type": "execute_result"
    }
   ],
   "source": [
    "baseline = p_df.loc[(p_df.year == 97) & (p_df.poor == 'pobre'),]\n",
    "bl_treat = baseline.loc[baseline.progresa == \"basal\"].dropna()\n",
    "bl_control = baseline.loc[baseline.progresa == \"0\"].dropna()\n",
    "#print(bl_control.dtypes)\n",
    "#drop string containing columns\n",
    "bl_treat.drop(['year','poor','progresa'], axis=1, inplace=True)\n",
    "bl_control.drop(['year','poor','progresa'], axis=1, inplace=True)\n",
    "mtreat = bl_treat.mean()\n",
    "mcontrol = bl_control.mean()\n",
    "diff = bl_treat.mean() - bl_control.mean()\n",
    "output = pd.concat([mtreat, mcontrol, diff], axis=1).reset_index()\n",
    "output.rename(columns={'index': 'Variable name', 0: 'Average value (Treatment villages)', \n",
    "                       1: 'Average value (Control villages)', 2: \"Difference(Treat - Control)\"}, inplace=True)\n",
    "diff_p = []\n",
    "for column in bl_control:\n",
    "    __, p_value = ttest_ind(bl_treat[column], bl_control[column])\n",
    "    diff_p.append({'p-value': p_value})\n",
    "diff_p = pd.DataFrame(diff_p)\n",
    "final_output = pd.concat([output, diff_p], axis=1)\n",
    "pd.concat([output, diff_p], axis=1)"
   ]
  },
  {
   "cell_type": "markdown",
   "metadata": {
    "ein.tags": [
     "worksheet-0"
    ],
    "slideshow": {
     "slide_type": "-"
    }
   },
   "source": [
    "### 1.3 Interpretation\n",
    "\n",
    "* A: Are there statistically significant differences between treatment and control villages as baseline? \n",
    "\n",
    "There were statistically significant differences between treatment and control villages as baseline. specifically, sex, nearest distance to a secondary school, min distance to the capital, years of schooling of head of household, monthly wages of head of household, welfare index used to classify poor and age of head of household.\n",
    "\n",
    "* B: Why does it matter if there are differences at baseline?\n",
    "\n",
    "Differences at baseline could affect the differences measured at the end of the study.\n",
    "\n",
    "* C: What does this imply about how to measure the impact of the treatment?\n",
    "\n",
    "When measuring the impact of the treatment, one must substract the original differences between the treatment and control groups to make a conclusion of significance."
   ]
  },
  {
   "cell_type": "code",
   "execution_count": 47,
   "metadata": {
    "autoscroll": "json-false",
    "collapsed": false,
    "ein.tags": [
     "worksheet-0"
    ],
    "slideshow": {
     "slide_type": "-"
    }
   },
   "outputs": [
    {
     "data": {
      "text/html": [
       "<div>\n",
       "<table border=\"1\" class=\"dataframe\">\n",
       "  <thead>\n",
       "    <tr style=\"text-align: right;\">\n",
       "      <th></th>\n",
       "      <th>Variable name</th>\n",
       "      <th>Average value (Treatment villages)</th>\n",
       "      <th>Average value (Control villages)</th>\n",
       "      <th>Difference(Treat - Control)</th>\n",
       "      <th>p-value</th>\n",
       "    </tr>\n",
       "  </thead>\n",
       "  <tbody>\n",
       "    <tr>\n",
       "      <th>0</th>\n",
       "      <td>sex</td>\n",
       "      <td>0.520268</td>\n",
       "      <td>0.506556</td>\n",
       "      <td>0.013713</td>\n",
       "      <td>1.956962e-02</td>\n",
       "    </tr>\n",
       "    <tr>\n",
       "      <th>6</th>\n",
       "      <td>min_dist</td>\n",
       "      <td>107.395231</td>\n",
       "      <td>103.098348</td>\n",
       "      <td>4.296884</td>\n",
       "      <td>1.936661e-18</td>\n",
       "    </tr>\n",
       "    <tr>\n",
       "      <th>7</th>\n",
       "      <td>dist_cap</td>\n",
       "      <td>151.801472</td>\n",
       "      <td>154.492095</td>\n",
       "      <td>-2.690622</td>\n",
       "      <td>3.414194e-03</td>\n",
       "    </tr>\n",
       "    <tr>\n",
       "      <th>8</th>\n",
       "      <td>hohedu</td>\n",
       "      <td>2.726729</td>\n",
       "      <td>2.660982</td>\n",
       "      <td>0.065747</td>\n",
       "      <td>2.613239e-02</td>\n",
       "    </tr>\n",
       "    <tr>\n",
       "      <th>9</th>\n",
       "      <td>hohwag</td>\n",
       "      <td>550.207086</td>\n",
       "      <td>580.694452</td>\n",
       "      <td>-30.487366</td>\n",
       "      <td>2.727661e-04</td>\n",
       "    </tr>\n",
       "    <tr>\n",
       "      <th>10</th>\n",
       "      <td>welfare_index</td>\n",
       "      <td>656.810476</td>\n",
       "      <td>661.593513</td>\n",
       "      <td>-4.783037</td>\n",
       "      <td>3.724043e-04</td>\n",
       "    </tr>\n",
       "    <tr>\n",
       "      <th>12</th>\n",
       "      <td>hohage</td>\n",
       "      <td>43.631234</td>\n",
       "      <td>44.270717</td>\n",
       "      <td>-0.639483</td>\n",
       "      <td>1.925767e-06</td>\n",
       "    </tr>\n",
       "    <tr>\n",
       "      <th>14</th>\n",
       "      <td>village</td>\n",
       "      <td>236.520636</td>\n",
       "      <td>289.078756</td>\n",
       "      <td>-52.558120</td>\n",
       "      <td>8.322183e-196</td>\n",
       "    </tr>\n",
       "  </tbody>\n",
       "</table>\n",
       "</div>"
      ],
      "text/plain": [
       "    Variable name  Average value (Treatment villages)  \\\n",
       "0             sex                            0.520268   \n",
       "6        min_dist                          107.395231   \n",
       "7        dist_cap                          151.801472   \n",
       "8          hohedu                            2.726729   \n",
       "9          hohwag                          550.207086   \n",
       "10  welfare_index                          656.810476   \n",
       "12         hohage                           43.631234   \n",
       "14        village                          236.520636   \n",
       "\n",
       "    Average value (Control villages)  Difference(Treat - Control)  \\\n",
       "0                           0.506556                     0.013713   \n",
       "6                         103.098348                     4.296884   \n",
       "7                         154.492095                    -2.690622   \n",
       "8                           2.660982                     0.065747   \n",
       "9                         580.694452                   -30.487366   \n",
       "10                        661.593513                    -4.783037   \n",
       "12                         44.270717                    -0.639483   \n",
       "14                        289.078756                   -52.558120   \n",
       "\n",
       "          p-value  \n",
       "0    1.956962e-02  \n",
       "6    1.936661e-18  \n",
       "7    3.414194e-03  \n",
       "8    2.613239e-02  \n",
       "9    2.727661e-04  \n",
       "10   3.724043e-04  \n",
       "12   1.925767e-06  \n",
       "14  8.322183e-196  "
      ]
     },
     "execution_count": 47,
     "metadata": {},
     "output_type": "execute_result"
    }
   ],
   "source": [
    "#show statistically significant variables\n",
    "final_output.loc[final_output.iloc[:,-1]<= 0.05]"
   ]
  },
  {
   "cell_type": "markdown",
   "metadata": {
    "ein.tags": [
     "worksheet-0"
    ],
    "slideshow": {
     "slide_type": "-"
    }
   },
   "source": [
    "### 1.4 Graphical exploration, part 1\n",
    "\n",
    "For each level of household head education, compute the average enrollment rate in 1997. Create a scatterplot that shows this relationship. What do you notice?"
   ]
  },
  {
   "cell_type": "code",
   "execution_count": 48,
   "metadata": {
    "autoscroll": "json-false",
    "collapsed": false,
    "ein.tags": [
     "worksheet-0"
    ],
    "slideshow": {
     "slide_type": "-"
    }
   },
   "outputs": [
    {
     "data": {
      "image/png": "[encoded data removed]",
      "text/plain": [
       "<matplotlib.figure.Figure at 0x116d4a8d0>"
      ]
     },
     "metadata": {},
     "output_type": "display_data"
    }
   ],
   "source": [
    "edu = p_df.loc[(p_df.year == 97)].groupby(p_df['hohedu']).sc.mean()\n",
    "plt.plot(edu, '.')\n",
    "plt.xlabel('Level of household head education')\n",
    "plt.ylabel('Average enrollment rate in 1997')\n",
    "plt.title(\"Association between level of household head education and children's school enrollment\")\n",
    "plt.show()"
   ]
  },
  {
   "cell_type": "markdown",
   "metadata": {},
   "source": [
    "There seem to be a positive association between the level of household head education and the average school enrollment rate of that level."
   ]
  },
  {
   "cell_type": "markdown",
   "metadata": {
    "ein.tags": [
     "worksheet-0"
    ],
    "slideshow": {
     "slide_type": "-"
    }
   },
   "source": [
    "### 1.5 Graphical exploration, part 2\n",
    "\n",
    "Create a histogram of village enrollment rates **among poor households in treated villages**, before and after treatment. Specifically, for each village, calculate the average rate of enrollment of poor households in treated villages in 1997, then compute the average rate of enrollment of poor households in treated villages in 1998. Create two separate histograms showing the distribution of these average enrollments rates, one histogram for 1997 and one histogram for 1998. On each histogram, draw a vertical line that intersects the x-axis at the average value (across all households).\n",
    "* Does there appear to be a difference? Is this difference statistically significant?\n",
    "* Which D estimator in Schultz (2004) does this approach correspond to?"
   ]
  },
  {
   "cell_type": "code",
   "execution_count": 49,
   "metadata": {
    "autoscroll": "json-false",
    "collapsed": false,
    "ein.tags": [
     "worksheet-0"
    ],
    "slideshow": {
     "slide_type": "-"
    }
   },
   "outputs": [
    {
     "data": {
      "image/png": "[encoded data removed]",
      "text/plain": [
       "<matplotlib.figure.Figure at 0x108c8b518>"
      ]
     },
     "metadata": {},
     "output_type": "display_data"
    },
    {
     "data": {
      "image/png": "[encoded data removed]",
      "text/plain": [
       "<matplotlib.figure.Figure at 0x116ee9278>"
      ]
     },
     "metadata": {},
     "output_type": "display_data"
    },
    {
     "name": "stdout",
     "output_type": "stream",
     "text": [
      "Average enrollment rates before treatment: 0.8138394110596501\n",
      "Average enrollment rates after treatment: 0.8295362042630732\n"
     ]
    },
    {
     "data": {
      "text/plain": [
       "Ttest_indResult(statistic=-2.0157134865156379, pvalue=0.04424870036572115)"
      ]
     },
     "execution_count": 49,
     "metadata": {},
     "output_type": "execute_result"
    }
   ],
   "source": [
    "v97 = p_df.loc[(p_df.year == 97)&(p_df.poor == 'pobre')&\n",
    "               (p_df.progresa == \"basal\"),].groupby('village').mean()\n",
    "v97.reset_index(level=0, inplace = True)\n",
    "plt.hist(v97['sc'])\n",
    "plt.xlabel('enrollments')\n",
    "plt.ylabel('counts')\n",
    "plt.title('Histogram of enrollment before treatment')\n",
    "plt.axvline(v97['sc'].mean(), color = 'red', linewidth = 2)\n",
    "plt.show()\n",
    "\n",
    "v98 = p_df.loc[(p_df.year == 98)&(p_df.poor == 'pobre')&\n",
    "            (p_df.progresa == \"basal\"),].groupby('village').mean()\n",
    "v98.reset_index(level=0, inplace = True)\n",
    "plt.hist(v98['sc'])\n",
    "plt.xlabel('enrollments')\n",
    "plt.ylabel('counts')\n",
    "plt.title('Histogram of enrollment after treatment')\n",
    "plt.axvline(v98['sc'].mean(), color = 'red', linewidth = 2)\n",
    "plt.show()\n",
    "\n",
    "print(\"Average enrollment rates before treatment:\", v97['sc'].mean())\n",
    "print(\"Average enrollment rates after treatment:\", v98['sc'].mean())\n",
    "ttest_ind(v97['sc'].dropna(), v98['sc'].dropna())"
   ]
  },
  {
   "cell_type": "markdown",
   "metadata": {},
   "source": [
    "There appear to be a small difference between the average enrollment rates before and after treatments (0.813 and 0.829). The histograms show a difference in distributions of the enrollment rates, specifically, probability of having an over 0.8 enrollment rate is higher after treatment comparing to before. T test and the p-value suggests a statistically significant difference before and after treatment. p = 0.044 < 0.05."
   ]
  },
  {
   "cell_type": "markdown",
   "metadata": {
    "ein.tags": [
     "worksheet-0"
    ],
    "slideshow": {
     "slide_type": "-"
    }
   },
   "source": [
    "## Part 2: Measuring Impact\n",
    "\n",
    "### 2.1 Simple differences: T-test\n",
    "\n",
    "Start out by estimating the impact of Progresa using \"simple differences.\" Restricting yourself to data from 1998 (after treatment).\n",
    "* calculate the average enrollment rate among **poor** households in the Treatment villages and the average enrollment rate among **poor** households in the control villages.\n",
    "* Which difference estimator in Schultz (2004) does this approach correspond to?\n",
    "* Use a t-test to determine if this difference is statistically significant. What do you conclude?"
   ]
  },
  {
   "cell_type": "code",
   "execution_count": 50,
   "metadata": {
    "autoscroll": "json-false",
    "collapsed": false,
    "ein.tags": [
     "worksheet-0"
    ],
    "slideshow": {
     "slide_type": "-"
    }
   },
   "outputs": [
    {
     "name": "stdout",
     "output_type": "stream",
     "text": [
      "Average enrollment rate among poor households in the Treatment villages:  0.8464791213954308 \n",
      " Average enrollment rate among poor households in the control villages 0.807636956730308\n"
     ]
    },
    {
     "data": {
      "text/plain": [
       "Ttest_indResult(statistic=8.3587205674183735, pvalue=6.636344447523235e-17)"
      ]
     },
     "execution_count": 50,
     "metadata": {},
     "output_type": "execute_result"
    }
   ],
   "source": [
    "treatment = p_df.loc[(p_df.year == 98)&(p_df.poor == 'pobre')&(p_df.progresa == \"basal\"),].sc.dropna()\n",
    "control = p_df.loc[(p_df.year == 98)&(p_df.poor == 'pobre')&(p_df.progresa == '0'),].sc.dropna()\n",
    "print(\"Average enrollment rate among poor households in the Treatment villages: \", treatment.mean(),\n",
    "      \"\\n\", \"Average enrollment rate among poor households in the control villages\", control.mean())\n",
    "ttest_ind(treatment, control)"
   ]
  },
  {
   "cell_type": "markdown",
   "metadata": {},
   "source": [
    "T-test suggest that the difference is statistically significant, given a p-value smaller than 0.05. This means that the treatment is effective at improving the enrollment rate among poor households in the villages."
   ]
  },
  {
   "cell_type": "markdown",
   "metadata": {
    "ein.tags": [
     "worksheet-0"
    ],
    "slideshow": {
     "slide_type": "-"
    }
   },
   "source": [
    "### 2.2 Simple differences: Regression\n",
    "\n",
    "Estimate the effects of Progresa on enrollment using a regression model, by regressing the 1998 enrollment rates **of the poor** on treatment assignment. Discuss the following:\n",
    "\n",
    "* Based on this model, how much did Progresa increase the likelihood of a child enrolling?\n",
    "* How does your regression estimate compare to your t-test estimate from part 2.1?\n",
    "* Based on this regression model, can we reject the null hypothesis that the treatment effects are zero? \n",
    "* What is the counterfactual assumption underlying this regression?"
   ]
  },
  {
   "cell_type": "code",
   "execution_count": 51,
   "metadata": {
    "autoscroll": "json-false",
    "collapsed": false,
    "ein.tags": [
     "worksheet-0"
    ],
    "slideshow": {
     "slide_type": "-"
    }
   },
   "outputs": [
    {
     "name": "stdout",
     "output_type": "stream",
     "text": [
      "Intercept    0.810923\n",
      "progresa     0.038334\n",
      "dtype: float64\n",
      "                            OLS Regression Results                            \n",
      "==============================================================================\n",
      "Dep. Variable:                     sc   R-squared:                       0.003\n",
      "Model:                            OLS   Adj. R-squared:                  0.002\n",
      "Method:                 Least Squares   F-statistic:                     65.64\n",
      "Date:                Thu, 26 Jan 2017   Prob (F-statistic):           5.66e-16\n",
      "Time:                        13:19:56   Log-Likelihood:                -11171.\n",
      "No. Observations:               26155   AIC:                         2.235e+04\n",
      "Df Residuals:                   26153   BIC:                         2.236e+04\n",
      "Df Model:                           1                                         \n",
      "Covariance Type:            nonrobust                                         \n",
      "==============================================================================\n",
      "                 coef    std err          t      P>|t|      [95.0% Conf. Int.]\n",
      "------------------------------------------------------------------------------\n",
      "Intercept      0.8109      0.004    217.190      0.000         0.804     0.818\n",
      "progresa       0.0383      0.005      8.102      0.000         0.029     0.048\n",
      "==============================================================================\n",
      "Omnibus:                     7487.800   Durbin-Watson:                   1.734\n",
      "Prob(Omnibus):                  0.000   Jarque-Bera (JB):            15756.374\n",
      "Skew:                          -1.796   Prob(JB):                         0.00\n",
      "Kurtosis:                       4.245   Cond. No.                         3.02\n",
      "==============================================================================\n",
      "\n",
      "Warnings:\n",
      "[1] Standard Errors assume that the covariance matrix of the errors is correctly specified.\n"
     ]
    }
   ],
   "source": [
    "poor98 = p_df.loc[(p_df.year == 98)&(p_df.poor == 'pobre'),].dropna()\n",
    "poor98.progresa = (poor98['progresa'] == \"basal\").astype(int)\n",
    "pro = poor98.progresa.reshape(len(poor98.progresa), 1)\n",
    "\n",
    "simplergs = smf.ols(formula='sc ~ progresa', data=poor98).fit()\n",
    "print(simplergs.params)\n",
    "print(simplergs.summary())"
   ]
  },
  {
   "cell_type": "markdown",
   "metadata": {},
   "source": [
    "Based on the regression model, Progresa increases the likelihood of a child enrolling in school by 0.038. \n",
    "\n",
    "The regression estimate agrees with the t-test estimate from part 2.1, which is a increase of 0.039 in child enrolling after treatment.\n",
    "\n",
    "From the regression model, we can reject the null hypothesis that the treatment effects are zero because the F statistic (Prob (F-statistic): the probability that the results happened by chance) is 5.66e-16 << 0.05. Meaning that the difference in means between the two groups are statistically significant.\n",
    "\n",
    "The counterfactual assumption underlying this regression is that without treatment the children enrollment rate would not have changed comparing to the control group.\n"
   ]
  },
  {
   "cell_type": "markdown",
   "metadata": {
    "ein.tags": [
     "worksheet-0"
    ],
    "slideshow": {
     "slide_type": "-"
    }
   },
   "source": [
    "### 2.3 Multiple Regression\n",
    "\n",
    "Re-run the above regression estimated but this time include a set of control variables. Include, for instance, age, distance to a secondary school, gender, education of household head, indigenous, etc.\n",
    "\n",
    "* How do the controls affect the point estimate of treatment effect?\n",
    "* How do the controls affect the standard error on the treatment effect? \n",
    "* How do you interpret the differences (or similarities) between your estimates of 2.2 and 2.3?"
   ]
  },
  {
   "cell_type": "code",
   "execution_count": 52,
   "metadata": {
    "autoscroll": "json-false",
    "collapsed": false,
    "ein.tags": [
     "worksheet-0"
    ],
    "slideshow": {
     "slide_type": "-"
    }
   },
   "outputs": [
    {
     "data": {
      "text/html": [
       "<table class=\"simpletable\">\n",
       "<caption>OLS Regression Results</caption>\n",
       "<tr>\n",
       "  <th>Dep. Variable:</th>           <td>sc</td>        <th>  R-squared:         </th> <td>   0.268</td> \n",
       "</tr>\n",
       "<tr>\n",
       "  <th>Model:</th>                   <td>OLS</td>       <th>  Adj. R-squared:    </th> <td>   0.268</td> \n",
       "</tr>\n",
       "<tr>\n",
       "  <th>Method:</th>             <td>Least Squares</td>  <th>  F-statistic:       </th> <td>   799.3</td> \n",
       "</tr>\n",
       "<tr>\n",
       "  <th>Date:</th>             <td>Thu, 26 Jan 2017</td> <th>  Prob (F-statistic):</th>  <td>  0.00</td>  \n",
       "</tr>\n",
       "<tr>\n",
       "  <th>Time:</th>                 <td>13:19:56</td>     <th>  Log-Likelihood:    </th> <td> -7116.6</td> \n",
       "</tr>\n",
       "<tr>\n",
       "  <th>No. Observations:</th>      <td> 26155</td>      <th>  AIC:               </th> <td>1.426e+04</td>\n",
       "</tr>\n",
       "<tr>\n",
       "  <th>Df Residuals:</th>          <td> 26142</td>      <th>  BIC:               </th> <td>1.437e+04</td>\n",
       "</tr>\n",
       "<tr>\n",
       "  <th>Df Model:</th>              <td>    12</td>      <th>                     </th>     <td> </td>    \n",
       "</tr>\n",
       "<tr>\n",
       "  <th>Covariance Type:</th>      <td>nonrobust</td>    <th>                     </th>     <td> </td>    \n",
       "</tr>\n",
       "</table>\n",
       "<table class=\"simpletable\">\n",
       "<tr>\n",
       "        <td></td>           <th>coef</th>     <th>std err</th>      <th>t</th>      <th>P>|t|</th> <th>[95.0% Conf. Int.]</th> \n",
       "</tr>\n",
       "<tr>\n",
       "  <th>Intercept</th>     <td>    1.4445</td> <td>    0.018</td> <td>   79.445</td> <td> 0.000</td> <td>    1.409     1.480</td>\n",
       "</tr>\n",
       "<tr>\n",
       "  <th>progresa</th>      <td>    0.0333</td> <td>    0.004</td> <td>    8.163</td> <td> 0.000</td> <td>    0.025     0.041</td>\n",
       "</tr>\n",
       "<tr>\n",
       "  <th>sex</th>           <td>    0.0303</td> <td>    0.004</td> <td>    7.712</td> <td> 0.000</td> <td>    0.023     0.038</td>\n",
       "</tr>\n",
       "<tr>\n",
       "  <th>indig</th>         <td>    0.0223</td> <td>    0.005</td> <td>    4.606</td> <td> 0.000</td> <td>    0.013     0.032</td>\n",
       "</tr>\n",
       "<tr>\n",
       "  <th>dist_sec</th>      <td>   -0.0097</td> <td>    0.001</td> <td>  -10.363</td> <td> 0.000</td> <td>   -0.012    -0.008</td>\n",
       "</tr>\n",
       "<tr>\n",
       "  <th>fam_n</th>         <td>    0.0005</td> <td>    0.001</td> <td>    0.527</td> <td> 0.598</td> <td>   -0.001     0.002</td>\n",
       "</tr>\n",
       "<tr>\n",
       "  <th>min_dist</th>      <td>    0.0004</td> <td> 6.48e-05</td> <td>    6.471</td> <td> 0.000</td> <td>    0.000     0.001</td>\n",
       "</tr>\n",
       "<tr>\n",
       "  <th>dist_cap</th>      <td>    0.0002</td> <td> 3.75e-05</td> <td>    4.907</td> <td> 0.000</td> <td>    0.000     0.000</td>\n",
       "</tr>\n",
       "<tr>\n",
       "  <th>hohedu</th>        <td>    0.0076</td> <td>    0.001</td> <td>    8.678</td> <td> 0.000</td> <td>    0.006     0.009</td>\n",
       "</tr>\n",
       "<tr>\n",
       "  <th>hohwag</th>        <td>-2.093e-06</td> <td> 2.84e-06</td> <td>   -0.738</td> <td> 0.460</td> <td>-7.65e-06  3.46e-06</td>\n",
       "</tr>\n",
       "<tr>\n",
       "  <th>welfare_index</th> <td> 1.934e-05</td> <td> 1.85e-05</td> <td>    1.046</td> <td> 0.296</td> <td>-1.69e-05  5.56e-05</td>\n",
       "</tr>\n",
       "<tr>\n",
       "  <th>age</th>           <td>   -0.0652</td> <td>    0.001</td> <td>  -91.876</td> <td> 0.000</td> <td>   -0.067    -0.064</td>\n",
       "</tr>\n",
       "<tr>\n",
       "  <th>hohage</th>        <td>-2.586e-07</td> <td>    0.000</td> <td>   -0.001</td> <td> 0.999</td> <td>   -0.000     0.000</td>\n",
       "</tr>\n",
       "</table>\n",
       "<table class=\"simpletable\">\n",
       "<tr>\n",
       "  <th>Omnibus:</th>       <td>2967.096</td> <th>  Durbin-Watson:     </th> <td>   1.729</td>\n",
       "</tr>\n",
       "<tr>\n",
       "  <th>Prob(Omnibus):</th>  <td> 0.000</td>  <th>  Jarque-Bera (JB):  </th> <td>4084.880</td>\n",
       "</tr>\n",
       "<tr>\n",
       "  <th>Skew:</th>           <td>-0.958</td>  <th>  Prob(JB):          </th> <td>    0.00</td>\n",
       "</tr>\n",
       "<tr>\n",
       "  <th>Kurtosis:</th>       <td> 3.280</td>  <th>  Cond. No.          </th> <td>9.61e+03</td>\n",
       "</tr>\n",
       "</table>"
      ],
      "text/plain": [
       "<class 'statsmodels.iolib.summary.Summary'>\n",
       "\"\"\"\n",
       "                            OLS Regression Results                            \n",
       "==============================================================================\n",
       "Dep. Variable:                     sc   R-squared:                       0.268\n",
       "Model:                            OLS   Adj. R-squared:                  0.268\n",
       "Method:                 Least Squares   F-statistic:                     799.3\n",
       "Date:                Thu, 26 Jan 2017   Prob (F-statistic):               0.00\n",
       "Time:                        13:19:56   Log-Likelihood:                -7116.6\n",
       "No. Observations:               26155   AIC:                         1.426e+04\n",
       "Df Residuals:                   26142   BIC:                         1.437e+04\n",
       "Df Model:                          12                                         \n",
       "Covariance Type:            nonrobust                                         \n",
       "=================================================================================\n",
       "                    coef    std err          t      P>|t|      [95.0% Conf. Int.]\n",
       "---------------------------------------------------------------------------------\n",
       "Intercept         1.4445      0.018     79.445      0.000         1.409     1.480\n",
       "progresa          0.0333      0.004      8.163      0.000         0.025     0.041\n",
       "sex               0.0303      0.004      7.712      0.000         0.023     0.038\n",
       "indig             0.0223      0.005      4.606      0.000         0.013     0.032\n",
       "dist_sec         -0.0097      0.001    -10.363      0.000        -0.012    -0.008\n",
       "fam_n             0.0005      0.001      0.527      0.598        -0.001     0.002\n",
       "min_dist          0.0004   6.48e-05      6.471      0.000         0.000     0.001\n",
       "dist_cap          0.0002   3.75e-05      4.907      0.000         0.000     0.000\n",
       "hohedu            0.0076      0.001      8.678      0.000         0.006     0.009\n",
       "hohwag        -2.093e-06   2.84e-06     -0.738      0.460     -7.65e-06  3.46e-06\n",
       "welfare_index  1.934e-05   1.85e-05      1.046      0.296     -1.69e-05  5.56e-05\n",
       "age              -0.0652      0.001    -91.876      0.000        -0.067    -0.064\n",
       "hohage        -2.586e-07      0.000     -0.001      0.999        -0.000     0.000\n",
       "==============================================================================\n",
       "Omnibus:                     2967.096   Durbin-Watson:                   1.729\n",
       "Prob(Omnibus):                  0.000   Jarque-Bera (JB):             4084.880\n",
       "Skew:                          -0.958   Prob(JB):                         0.00\n",
       "Kurtosis:                       3.280   Cond. No.                     9.61e+03\n",
       "==============================================================================\n",
       "\n",
       "Warnings:\n",
       "[1] Standard Errors assume that the covariance matrix of the errors is correctly specified.\n",
       "[2] The condition number is large, 9.61e+03. This might indicate that there are\n",
       "strong multicollinearity or other numerical problems.\n",
       "\"\"\""
      ]
     },
     "execution_count": 52,
     "metadata": {},
     "output_type": "execute_result"
    }
   ],
   "source": [
    "multirgs = smf.ols(formula='sc ~ progresa + sex + indig + dist_sec + fam_n + min_dist + dist_cap + hohedu + hohwag + welfare_index + age + hohage', data=poor98).fit()\n",
    "multirgs.summary()"
   ]
  },
  {
   "cell_type": "markdown",
   "metadata": {
    "collapsed": false
   },
   "source": [
    "\n",
    "The controls decreased the point estimate of treatment effect from 0.038 to 0.033, and standard error of the point estimate from 0.05 to 0.04. Smaller standard error indicates more precise measure of the point estimate. Besides the changes in treatment effect, multivariate regression model has a better fit (R square value being 0.268 versus 0.003.\n",
    "It also has a relatively large increase in the intercept, from 0.81 to 1.44. Some of the control variables also had statistically significant effect on the enrollment rate, however the effects are minimal based on the coefficients. With the controls, the most prominent effect is still from the treatment, but the model has better fit and the point estimate of the treatment effect now has a smaller confidence interval. Therefore, adding the controls probably ruled out the noises in the treatment effect when it was the only predictor and left us with higher accuracy and precision.\n"
   ]
  },
  {
   "cell_type": "markdown",
   "metadata": {
    "ein.tags": [
     "worksheet-0"
    ],
    "slideshow": {
     "slide_type": "-"
    }
   },
   "source": [
    "### 2.4 Difference-in-Difference, version 1 (tabular)\n",
    "\n",
    "Thus far, we have computed the effects of Progresa by estimating the difference in 1998 enrollment rates across villages. An alternative approach would be to compute the treatment effect using a difference-in-differences framework.\n",
    "\n",
    "Begin by estimating the average treatment effects of the program for poor households using data from 1997 and 1998. Specifically, calculate the difference (between 1997 and 1998) in enrollment rates among poor households in treated villages; then compute the difference (between 1997 and 1998) in enrollment rates among poor households in treated villages. The difference between these two differences is your estimate.\n",
    "\n",
    "* What is your estimate of the impact, and how does it compare to your earlier (simple difference) results?\n",
    "* What is the counterfactual assumption underlying this estimate? \n"
   ]
  },
  {
   "cell_type": "code",
   "execution_count": 53,
   "metadata": {
    "autoscroll": "json-false",
    "collapsed": false,
    "ein.tags": [
     "worksheet-0"
    ],
    "slideshow": {
     "slide_type": "-"
    }
   },
   "outputs": [
    {
     "name": "stdout",
     "output_type": "stream",
     "text": [
      "0.031331280319323085\n"
     ]
    }
   ],
   "source": [
    "treatment97 = p_df.loc[(p_df.year == 97)&(p_df.poor == 'pobre')&(p_df.progresa == \"basal\"),].sc.dropna()\n",
    "treatment98 = p_df.loc[(p_df.year == 98)&(p_df.poor == 'pobre')&(p_df.progresa == \"basal\"),].sc.dropna()\n",
    "treat_effect = treatment98.mean() - treatment97.mean()\n",
    "\n",
    "control97 = p_df.loc[(p_df.year == 97)&(p_df.poor == 'pobre')&(p_df.progresa == \"0\"),].sc.dropna()\n",
    "control98 = p_df.loc[(p_df.year == 98)&(p_df.poor == 'pobre')&(p_df.progresa == \"0\"),].sc.dropna()\n",
    "control_effect = control98.mean() - control97.mean()\n",
    "\n",
    "diff_in_diff = treat_effect - control_effect\n",
    "print(diff_in_diff)"
   ]
  },
  {
   "cell_type": "markdown",
   "metadata": {},
   "source": [
    "The estimate of the impact is 0.031. It is lower than the result from the earlier simple difference methods (0.038).\n",
    "\n",
    "The counterfactual assumption underlying this estimate is that the change over time (97 to 98) in both groups would have been the same without the treatment."
   ]
  },
  {
   "cell_type": "markdown",
   "metadata": {
    "ein.tags": [
     "worksheet-0"
    ],
    "slideshow": {
     "slide_type": "-"
    }
   },
   "source": [
    "### 2.5 Difference-in-Difference, version 1 (regression)\n",
    "\n",
    "Now use a regression specification to estimate the average treatment effect of the program (on the poor) in a difference-in-differences framework. Include at least 5 control variables.\n",
    "\n",
    "* What is your estimate of the impact of Progresa? Be very specific in interpreting your coefficients and standard errors, and make sure to specify exactly what units you are measuring and estimating.\n",
    "* How do these estimates of the treatment effect compare to the estimates based on the simple difference?\n",
    "* How do these estimates compare to the difference-in-difference estimates from 2.4 above? What accounts for these differences?\n",
    "* What is the counterfactual assumption underlying this regression? "
   ]
  },
  {
   "cell_type": "code",
   "execution_count": 54,
   "metadata": {
    "autoscroll": "json-false",
    "collapsed": false,
    "ein.tags": [
     "worksheet-0"
    ],
    "slideshow": {
     "slide_type": "-"
    }
   },
   "outputs": [
    {
     "name": "stderr",
     "output_type": "stream",
     "text": [
      "//anaconda/lib/python3.5/site-packages/pandas/core/indexing.py:284: SettingWithCopyWarning: \n",
      "A value is trying to be set on a copy of a slice from a DataFrame.\n",
      "Try using .loc[row_indexer,col_indexer] = value instead\n",
      "\n",
      "See the caveats in the documentation: http://pandas.pydata.org/pandas-docs/stable/indexing.html#indexing-view-versus-copy\n",
      "  self.obj[key] = _infer_fill_value(value)\n",
      "//anaconda/lib/python3.5/site-packages/pandas/core/indexing.py:461: SettingWithCopyWarning: \n",
      "A value is trying to be set on a copy of a slice from a DataFrame.\n",
      "Try using .loc[row_indexer,col_indexer] = value instead\n",
      "\n",
      "See the caveats in the documentation: http://pandas.pydata.org/pandas-docs/stable/indexing.html#indexing-view-versus-copy\n",
      "  self.obj[item] = s\n",
      "//anaconda/lib/python3.5/site-packages/pandas/core/generic.py:2698: SettingWithCopyWarning: \n",
      "A value is trying to be set on a copy of a slice from a DataFrame.\n",
      "Try using .loc[row_indexer,col_indexer] = value instead\n",
      "\n",
      "See the caveats in the documentation: http://pandas.pydata.org/pandas-docs/stable/indexing.html#indexing-view-versus-copy\n",
      "  self[name] = value\n"
     ]
    },
    {
     "data": {
      "text/html": [
       "<table class=\"simpletable\">\n",
       "<caption>OLS Regression Results</caption>\n",
       "<tr>\n",
       "  <th>Dep. Variable:</th>           <td>sc</td>        <th>  R-squared:         </th> <td>   0.282</td> \n",
       "</tr>\n",
       "<tr>\n",
       "  <th>Model:</th>                   <td>OLS</td>       <th>  Adj. R-squared:    </th> <td>   0.282</td> \n",
       "</tr>\n",
       "<tr>\n",
       "  <th>Method:</th>             <td>Least Squares</td>  <th>  F-statistic:       </th> <td>   2296.</td> \n",
       "</tr>\n",
       "<tr>\n",
       "  <th>Date:</th>             <td>Thu, 26 Jan 2017</td> <th>  Prob (F-statistic):</th>  <td>  0.00</td>  \n",
       "</tr>\n",
       "<tr>\n",
       "  <th>Time:</th>                 <td>13:19:56</td>     <th>  Log-Likelihood:    </th> <td> -16585.</td> \n",
       "</tr>\n",
       "<tr>\n",
       "  <th>No. Observations:</th>      <td> 58344</td>      <th>  AIC:               </th> <td>3.319e+04</td>\n",
       "</tr>\n",
       "<tr>\n",
       "  <th>Df Residuals:</th>          <td> 58333</td>      <th>  BIC:               </th> <td>3.329e+04</td>\n",
       "</tr>\n",
       "<tr>\n",
       "  <th>Df Model:</th>              <td>    10</td>      <th>                     </th>     <td> </td>    \n",
       "</tr>\n",
       "<tr>\n",
       "  <th>Covariance Type:</th>      <td>nonrobust</td>    <th>                     </th>     <td> </td>    \n",
       "</tr>\n",
       "</table>\n",
       "<table class=\"simpletable\">\n",
       "<tr>\n",
       "        <td></td>           <th>coef</th>     <th>std err</th>      <th>t</th>      <th>P>|t|</th> <th>[95.0% Conf. Int.]</th> \n",
       "</tr>\n",
       "<tr>\n",
       "  <th>Intercept</th>     <td>    1.4215</td> <td>    0.009</td> <td>  158.822</td> <td> 0.000</td> <td>    1.404     1.439</td>\n",
       "</tr>\n",
       "<tr>\n",
       "  <th>progresa</th>      <td>    0.0031</td> <td>    0.004</td> <td>    0.817</td> <td> 0.414</td> <td>   -0.004     0.010</td>\n",
       "</tr>\n",
       "<tr>\n",
       "  <th>time</th>          <td>    0.0274</td> <td>    0.004</td> <td>    6.321</td> <td> 0.000</td> <td>    0.019     0.036</td>\n",
       "</tr>\n",
       "<tr>\n",
       "  <th>progresa:time</th> <td>    0.0313</td> <td>    0.005</td> <td>    5.690</td> <td> 0.000</td> <td>    0.020     0.042</td>\n",
       "</tr>\n",
       "<tr>\n",
       "  <th>sex</th>           <td>    0.0331</td> <td>    0.003</td> <td>   12.429</td> <td> 0.000</td> <td>    0.028     0.038</td>\n",
       "</tr>\n",
       "<tr>\n",
       "  <th>dist_sec</th>      <td>   -0.0093</td> <td>    0.001</td> <td>  -15.020</td> <td> 0.000</td> <td>   -0.010    -0.008</td>\n",
       "</tr>\n",
       "<tr>\n",
       "  <th>min_dist</th>      <td>    0.0004</td> <td> 4.37e-05</td> <td>    8.550</td> <td> 0.000</td> <td>    0.000     0.000</td>\n",
       "</tr>\n",
       "<tr>\n",
       "  <th>dist_cap</th>      <td>    0.0003</td> <td> 2.36e-05</td> <td>   10.821</td> <td> 0.000</td> <td>    0.000     0.000</td>\n",
       "</tr>\n",
       "<tr>\n",
       "  <th>hohedu</th>        <td>    0.0072</td> <td>    0.001</td> <td>   12.322</td> <td> 0.000</td> <td>    0.006     0.008</td>\n",
       "</tr>\n",
       "<tr>\n",
       "  <th>age</th>           <td>   -0.0657</td> <td>    0.000</td> <td> -143.888</td> <td> 0.000</td> <td>   -0.067    -0.065</td>\n",
       "</tr>\n",
       "<tr>\n",
       "  <th>hohage</th>        <td>    0.0002</td> <td>    0.000</td> <td>    1.838</td> <td> 0.066</td> <td>-1.58e-05     0.000</td>\n",
       "</tr>\n",
       "</table>\n",
       "<table class=\"simpletable\">\n",
       "<tr>\n",
       "  <th>Omnibus:</th>       <td>5488.522</td> <th>  Durbin-Watson:     </th> <td>   1.491</td>\n",
       "</tr>\n",
       "<tr>\n",
       "  <th>Prob(Omnibus):</th>  <td> 0.000</td>  <th>  Jarque-Bera (JB):  </th> <td>7205.368</td>\n",
       "</tr>\n",
       "<tr>\n",
       "  <th>Skew:</th>           <td>-0.859</td>  <th>  Prob(JB):          </th> <td>    0.00</td>\n",
       "</tr>\n",
       "<tr>\n",
       "  <th>Kurtosis:</th>       <td> 3.110</td>  <th>  Cond. No.          </th> <td>1.45e+03</td>\n",
       "</tr>\n",
       "</table>"
      ],
      "text/plain": [
       "<class 'statsmodels.iolib.summary.Summary'>\n",
       "\"\"\"\n",
       "                            OLS Regression Results                            \n",
       "==============================================================================\n",
       "Dep. Variable:                     sc   R-squared:                       0.282\n",
       "Model:                            OLS   Adj. R-squared:                  0.282\n",
       "Method:                 Least Squares   F-statistic:                     2296.\n",
       "Date:                Thu, 26 Jan 2017   Prob (F-statistic):               0.00\n",
       "Time:                        13:19:56   Log-Likelihood:                -16585.\n",
       "No. Observations:               58344   AIC:                         3.319e+04\n",
       "Df Residuals:                   58333   BIC:                         3.329e+04\n",
       "Df Model:                          10                                         \n",
       "Covariance Type:            nonrobust                                         \n",
       "=================================================================================\n",
       "                    coef    std err          t      P>|t|      [95.0% Conf. Int.]\n",
       "---------------------------------------------------------------------------------\n",
       "Intercept         1.4215      0.009    158.822      0.000         1.404     1.439\n",
       "progresa          0.0031      0.004      0.817      0.414        -0.004     0.010\n",
       "time              0.0274      0.004      6.321      0.000         0.019     0.036\n",
       "progresa:time     0.0313      0.005      5.690      0.000         0.020     0.042\n",
       "sex               0.0331      0.003     12.429      0.000         0.028     0.038\n",
       "dist_sec         -0.0093      0.001    -15.020      0.000        -0.010    -0.008\n",
       "min_dist          0.0004   4.37e-05      8.550      0.000         0.000     0.000\n",
       "dist_cap          0.0003   2.36e-05     10.821      0.000         0.000     0.000\n",
       "hohedu            0.0072      0.001     12.322      0.000         0.006     0.008\n",
       "age              -0.0657      0.000   -143.888      0.000        -0.067    -0.065\n",
       "hohage            0.0002      0.000      1.838      0.066     -1.58e-05     0.000\n",
       "==============================================================================\n",
       "Omnibus:                     5488.522   Durbin-Watson:                   1.491\n",
       "Prob(Omnibus):                  0.000   Jarque-Bera (JB):             7205.368\n",
       "Skew:                          -0.859   Prob(JB):                         0.00\n",
       "Kurtosis:                       3.110   Cond. No.                     1.45e+03\n",
       "==============================================================================\n",
       "\n",
       "Warnings:\n",
       "[1] Standard Errors assume that the covariance matrix of the errors is correctly specified.\n",
       "[2] The condition number is large, 1.45e+03. This might indicate that there are\n",
       "strong multicollinearity or other numerical problems.\n",
       "\"\"\""
      ]
     },
     "execution_count": 54,
     "metadata": {},
     "output_type": "execute_result"
    }
   ],
   "source": [
    "p_df.loc[p_df['poor'] == 'pobre', 'poor'] = 1\n",
    "p_df.loc[p_df['poor'] ==  'no pobre', 'poor'] = 0\n",
    "pd.to_numeric(p_df['poor'])\n",
    "p_poor = p_df[p_df['poor'] == 1]\n",
    "p_poor.loc[p_poor.year == 97, 'time'] = 0\n",
    "p_poor.loc[p_poor.year == 98, 'time'] = 1\n",
    "p_poor.progresa = (p_poor['progresa'] == \"basal\").astype(int)\n",
    "ddrgs = smf.ols(formula = 'sc ~ progresa + time + progresa:time + sex + dist_sec  + min_dist + dist_cap + hohedu + age + hohage', data=p_poor).fit()\n",
    "ddrgs.summary()"
   ]
  },
  {
   "cell_type": "markdown",
   "metadata": {},
   "source": [
    "What is your estimate of the impact of Progresa? Be very specific in interpreting your coefficients and standard errors, and make sure to specify exactly what units you are measuring and estimating.\n",
    "\n",
    "The estimate of the impact of Progresa is 0.0031, with standard error on 0.004, meaning it's not statistically significant. The estimate of the effect of both Progresa and the year after treatment is 0.0313, with a standard error of 0.005, statistically significant. In other words, after treatment in 1998 there is a statistically significant improvement of enrollment rate of 3.13%. The effect of time (being in 1998) alone has a estimate of 0.0274 with an standard error of 0.04, statistically signifcant. This means the enrollment rate is higher in 1998 than in 1997 by 2.74% despite of progresa.\n",
    "\n",
    "\n",
    "How do these estimates of the treatment effect compare to the estimates based on the simple difference?\n",
    "\n",
    "These estimates of the treatment effect are lower compare to the estimates based on the simple difference.(0.0031 vs. 0.038) Probably because the counterfactual assumption underlying the latter estimate is not satisfied, that without treatment the children enrollment rate would not have changed comparing to the control group.\n",
    "\n",
    "How do these estimates compare to the difference-in-difference estimates from 2.4 above? What accounts for these differences?\n",
    "\n",
    "The estimate of effect from progresa is smaller comparing to the difference-in-difference estimates from 2.4. The estimate of effect from both progresa and time is similar to the difference-in-difference estimates from 2.4. This means that the differences in estimates are caused by accounting for the interactions between progresa and time. Without looking at them separately, the sole effect of progresa was not calculated.\n",
    "\n",
    "What is the counterfactual assumption underlying this regression?\n",
    "\n",
    "The counterfactual assumption underlying this regression is that the enrollment rate in both groups would have been the same in the same year without treatment."
   ]
  },
  {
   "cell_type": "markdown",
   "metadata": {
    "ein.tags": [
     "worksheet-0"
    ],
    "slideshow": {
     "slide_type": "-"
    }
   },
   "source": [
    "### 2.6 Difference-in-Difference, version 2\n",
    "\n",
    "In the previous problem, you estimated a difference-in-differences model that compared changes in enrollment rates over time across treatment and control villages. An alternative approach would be to compare enrollment rates in 1998 between poor and non-poor across treatment and control villages. \n",
    "\n",
    "* How would we estimate this version of the treatment effects in a regression model? \n",
    "* What is the counterfactual assumption underlying this regression?\n",
    "* How do these treatment effects compare to the estimates above?\n",
    "* Discuss some possible explanations for differences or similarities "
   ]
  },
  {
   "cell_type": "code",
   "execution_count": 55,
   "metadata": {
    "autoscroll": "json-false",
    "collapsed": false,
    "ein.tags": [
     "worksheet-0"
    ],
    "slideshow": {
     "slide_type": "-"
    }
   },
   "outputs": [
    {
     "name": "stderr",
     "output_type": "stream",
     "text": [
      "//anaconda/lib/python3.5/site-packages/pandas/core/indexing.py:284: SettingWithCopyWarning: \n",
      "A value is trying to be set on a copy of a slice from a DataFrame.\n",
      "Try using .loc[row_indexer,col_indexer] = value instead\n",
      "\n",
      "See the caveats in the documentation: http://pandas.pydata.org/pandas-docs/stable/indexing.html#indexing-view-versus-copy\n",
      "  self.obj[key] = _infer_fill_value(value)\n",
      "//anaconda/lib/python3.5/site-packages/pandas/core/indexing.py:461: SettingWithCopyWarning: \n",
      "A value is trying to be set on a copy of a slice from a DataFrame.\n",
      "Try using .loc[row_indexer,col_indexer] = value instead\n",
      "\n",
      "See the caveats in the documentation: http://pandas.pydata.org/pandas-docs/stable/indexing.html#indexing-view-versus-copy\n",
      "  self.obj[item] = s\n",
      "//anaconda/lib/python3.5/site-packages/pandas/core/generic.py:2698: SettingWithCopyWarning: \n",
      "A value is trying to be set on a copy of a slice from a DataFrame.\n",
      "Try using .loc[row_indexer,col_indexer] = value instead\n",
      "\n",
      "See the caveats in the documentation: http://pandas.pydata.org/pandas-docs/stable/indexing.html#indexing-view-versus-copy\n",
      "  self[name] = value\n"
     ]
    },
    {
     "data": {
      "text/html": [
       "<table class=\"simpletable\">\n",
       "<caption>OLS Regression Results</caption>\n",
       "<tr>\n",
       "  <th>Dep. Variable:</th>           <td>sc</td>        <th>  R-squared:         </th> <td>   0.274</td> \n",
       "</tr>\n",
       "<tr>\n",
       "  <th>Model:</th>                   <td>OLS</td>       <th>  Adj. R-squared:    </th> <td>   0.274</td> \n",
       "</tr>\n",
       "<tr>\n",
       "  <th>Method:</th>             <td>Least Squares</td>  <th>  F-statistic:       </th> <td>   1344.</td> \n",
       "</tr>\n",
       "<tr>\n",
       "  <th>Date:</th>             <td>Thu, 26 Jan 2017</td> <th>  Prob (F-statistic):</th>  <td>  0.00</td>  \n",
       "</tr>\n",
       "<tr>\n",
       "  <th>Time:</th>                 <td>13:19:57</td>     <th>  Log-Likelihood:    </th> <td> -9237.3</td> \n",
       "</tr>\n",
       "<tr>\n",
       "  <th>No. Observations:</th>      <td> 32097</td>      <th>  AIC:               </th> <td>1.849e+04</td>\n",
       "</tr>\n",
       "<tr>\n",
       "  <th>Df Residuals:</th>          <td> 32087</td>      <th>  BIC:               </th> <td>1.858e+04</td>\n",
       "</tr>\n",
       "<tr>\n",
       "  <th>Df Model:</th>              <td>     9</td>      <th>                     </th>     <td> </td>    \n",
       "</tr>\n",
       "<tr>\n",
       "  <th>Covariance Type:</th>      <td>nonrobust</td>    <th>                     </th>     <td> </td>    \n",
       "</tr>\n",
       "</table>\n",
       "<table class=\"simpletable\">\n",
       "<tr>\n",
       "           <td></td>             <th>coef</th>     <th>std err</th>      <th>t</th>      <th>P>|t|</th> <th>[95.0% Conf. Int.]</th> \n",
       "</tr>\n",
       "<tr>\n",
       "  <th>Intercept</th>          <td>    0.7408</td> <td>    0.006</td> <td>  122.903</td> <td> 0.000</td> <td>    0.729     0.753</td>\n",
       "</tr>\n",
       "<tr>\n",
       "  <th>poor[T.1]</th>          <td>   -0.0211</td> <td>    0.008</td> <td>   -2.558</td> <td> 0.011</td> <td>   -0.037    -0.005</td>\n",
       "</tr>\n",
       "<tr>\n",
       "  <th>progresa</th>           <td>    0.0250</td> <td>    0.010</td> <td>    2.583</td> <td> 0.010</td> <td>    0.006     0.044</td>\n",
       "</tr>\n",
       "<tr>\n",
       "  <th>progresa:poor[T.1]</th> <td>    0.0094</td> <td>    0.010</td> <td>    0.894</td> <td> 0.371</td> <td>   -0.011     0.030</td>\n",
       "</tr>\n",
       "<tr>\n",
       "  <th>time</th>               <td>    0.7408</td> <td>    0.006</td> <td>  122.903</td> <td> 0.000</td> <td>    0.729     0.753</td>\n",
       "</tr>\n",
       "<tr>\n",
       "  <th>sex</th>                <td>    0.0306</td> <td>    0.004</td> <td>    8.493</td> <td> 0.000</td> <td>    0.024     0.038</td>\n",
       "</tr>\n",
       "<tr>\n",
       "  <th>dist_sec</th>           <td>   -0.0105</td> <td>    0.001</td> <td>  -12.741</td> <td> 0.000</td> <td>   -0.012    -0.009</td>\n",
       "</tr>\n",
       "<tr>\n",
       "  <th>min_dist</th>           <td>    0.0003</td> <td> 5.92e-05</td> <td>    5.736</td> <td> 0.000</td> <td>    0.000     0.000</td>\n",
       "</tr>\n",
       "<tr>\n",
       "  <th>dist_cap</th>           <td>    0.0003</td> <td> 3.28e-05</td> <td>    9.368</td> <td> 0.000</td> <td>    0.000     0.000</td>\n",
       "</tr>\n",
       "<tr>\n",
       "  <th>hohedu</th>             <td>    0.0085</td> <td>    0.001</td> <td>   12.210</td> <td> 0.000</td> <td>    0.007     0.010</td>\n",
       "</tr>\n",
       "<tr>\n",
       "  <th>age</th>                <td>   -0.0661</td> <td>    0.001</td> <td> -103.966</td> <td> 0.000</td> <td>   -0.067    -0.065</td>\n",
       "</tr>\n",
       "</table>\n",
       "<table class=\"simpletable\">\n",
       "<tr>\n",
       "  <th>Omnibus:</th>       <td>3179.660</td> <th>  Durbin-Watson:     </th> <td>   1.732</td>\n",
       "</tr>\n",
       "<tr>\n",
       "  <th>Prob(Omnibus):</th>  <td> 0.000</td>  <th>  Jarque-Bera (JB):  </th> <td>4231.906</td>\n",
       "</tr>\n",
       "<tr>\n",
       "  <th>Skew:</th>           <td>-0.888</td>  <th>  Prob(JB):          </th> <td>    0.00</td>\n",
       "</tr>\n",
       "<tr>\n",
       "  <th>Kurtosis:</th>       <td> 3.111</td>  <th>  Cond. No.          </th> <td>8.02e+18</td>\n",
       "</tr>\n",
       "</table>"
      ],
      "text/plain": [
       "<class 'statsmodels.iolib.summary.Summary'>\n",
       "\"\"\"\n",
       "                            OLS Regression Results                            \n",
       "==============================================================================\n",
       "Dep. Variable:                     sc   R-squared:                       0.274\n",
       "Model:                            OLS   Adj. R-squared:                  0.274\n",
       "Method:                 Least Squares   F-statistic:                     1344.\n",
       "Date:                Thu, 26 Jan 2017   Prob (F-statistic):               0.00\n",
       "Time:                        13:19:57   Log-Likelihood:                -9237.3\n",
       "No. Observations:               32097   AIC:                         1.849e+04\n",
       "Df Residuals:                   32087   BIC:                         1.858e+04\n",
       "Df Model:                           9                                         \n",
       "Covariance Type:            nonrobust                                         \n",
       "======================================================================================\n",
       "                         coef    std err          t      P>|t|      [95.0% Conf. Int.]\n",
       "--------------------------------------------------------------------------------------\n",
       "Intercept              0.7408      0.006    122.903      0.000         0.729     0.753\n",
       "poor[T.1]             -0.0211      0.008     -2.558      0.011        -0.037    -0.005\n",
       "progresa               0.0250      0.010      2.583      0.010         0.006     0.044\n",
       "progresa:poor[T.1]     0.0094      0.010      0.894      0.371        -0.011     0.030\n",
       "time                   0.7408      0.006    122.903      0.000         0.729     0.753\n",
       "sex                    0.0306      0.004      8.493      0.000         0.024     0.038\n",
       "dist_sec              -0.0105      0.001    -12.741      0.000        -0.012    -0.009\n",
       "min_dist               0.0003   5.92e-05      5.736      0.000         0.000     0.000\n",
       "dist_cap               0.0003   3.28e-05      9.368      0.000         0.000     0.000\n",
       "hohedu                 0.0085      0.001     12.210      0.000         0.007     0.010\n",
       "age                   -0.0661      0.001   -103.966      0.000        -0.067    -0.065\n",
       "==============================================================================\n",
       "Omnibus:                     3179.660   Durbin-Watson:                   1.732\n",
       "Prob(Omnibus):                  0.000   Jarque-Bera (JB):             4231.906\n",
       "Skew:                          -0.888   Prob(JB):                         0.00\n",
       "Kurtosis:                       3.111   Cond. No.                     8.02e+18\n",
       "==============================================================================\n",
       "\n",
       "Warnings:\n",
       "[1] Standard Errors assume that the covariance matrix of the errors is correctly specified.\n",
       "[2] The smallest eigenvalue is 1.98e-29. This might indicate that there are\n",
       "strong multicollinearity problems or that the design matrix is singular.\n",
       "\"\"\""
      ]
     },
     "execution_count": 55,
     "metadata": {},
     "output_type": "execute_result"
    }
   ],
   "source": [
    "p_98 = p_df[p_df['year'] == 98]\n",
    "p_98.loc[p_98.year == 97, 'time'] = 0\n",
    "p_98.loc[p_98.year == 98, 'time'] = 1\n",
    "p_98.progresa = (p_98['progresa'] == \"basal\").astype(int)\n",
    "ddrgs2 = smf.ols(formula = 'sc ~ progresa + time + progresa:poor + poor + sex + dist_sec  + min_dist + dist_cap + hohedu + age', data=p_98).fit()\n",
    "ddrgs2.summary()"
   ]
  },
  {
   "cell_type": "markdown",
   "metadata": {},
   "source": [
    "How would we estimate this version of the treatment effects in a regression model?\n",
    "\n",
    "The coefficient for progresa is 0.025 with standard error of 0.01 which mean the enrollment rate in the treatment group is statistically significantly higher than the control. The coefficient for poor Poor' coefficient value is -0.02 with standard error of 0.008 which indicates poor household have lower enrollment rates comparing to the non-poor households, statistically significant. The estimate of the interaction between progresa and poor is 0.0094, wth a standard error of 0.01, but not statistically significant.\n",
    "\n",
    "What is the counterfactual assumption underlying this regression?\n",
    "\n",
    "The counterfactual assumption underlying this regression model is that the enrollment rates between poor and non-poor households remains the same without the treatment.\n",
    "\n",
    "How do these treatment effects compare to the estimates above?\n",
    "\n",
    "The treatment effects of progresa on poor households in 1998 can be calculated by adding the coefficients separately,  progresa 0.0250 - poor 0.0211 + progresa and poor 0.0094 =  0.013. This is smaller than the estimate above, 0.0313.\n",
    "\n",
    "Discuss some possible explanations for differences or similarities\n",
    "\n",
    "The experiment was desgined that only the poor household get to benefits from the treatment, and this regression model does not capture that. Being poor probably had less effect on the outcome because non-poors are not enrolled in the treatment group. I think the differences can be explained by the non-optimal representation of the data."
   ]
  },
  {
   "cell_type": "markdown",
   "metadata": {
    "ein.tags": [
     "worksheet-0"
    ],
    "slideshow": {
     "slide_type": "-"
    }
   },
   "source": [
    "### 2.7 Spillover effects (extra credit)\n",
    "\n",
    "Thus far, we have focused on the impact of PROGRESA on poor households. Repeat your analysis in 2.5, using a double-difference regression to estimate the impact of PROGRESA on non-poor households. In other words, compare the difference in enrollments between 1997 and 1998 for non-poor households in treatment villages with the difference in enrollments between 1997 and 1998 for non-poor households in control villages.\n",
    "\n",
    "* A: Describe one or two reasons why PROGRESA might have impacted non-poor households.\n",
    "* B: Do you observe any impacts of PROGRESA on the non-poor?\n",
    "* C: What is the identifying assumption that you are using to estimate the impact of PROGRESA on non-poor households."
   ]
  },
  {
   "cell_type": "code",
   "execution_count": 56,
   "metadata": {
    "autoscroll": "json-false",
    "collapsed": false,
    "ein.tags": [
     "worksheet-0"
    ],
    "slideshow": {
     "slide_type": "-"
    }
   },
   "outputs": [
    {
     "name": "stderr",
     "output_type": "stream",
     "text": [
      "//anaconda/lib/python3.5/site-packages/pandas/core/indexing.py:284: SettingWithCopyWarning: \n",
      "A value is trying to be set on a copy of a slice from a DataFrame.\n",
      "Try using .loc[row_indexer,col_indexer] = value instead\n",
      "\n",
      "See the caveats in the documentation: http://pandas.pydata.org/pandas-docs/stable/indexing.html#indexing-view-versus-copy\n",
      "  self.obj[key] = _infer_fill_value(value)\n",
      "//anaconda/lib/python3.5/site-packages/pandas/core/indexing.py:461: SettingWithCopyWarning: \n",
      "A value is trying to be set on a copy of a slice from a DataFrame.\n",
      "Try using .loc[row_indexer,col_indexer] = value instead\n",
      "\n",
      "See the caveats in the documentation: http://pandas.pydata.org/pandas-docs/stable/indexing.html#indexing-view-versus-copy\n",
      "  self.obj[item] = s\n"
     ]
    },
    {
     "data": {
      "text/html": [
       "<table class=\"simpletable\">\n",
       "<caption>OLS Regression Results</caption>\n",
       "<tr>\n",
       "  <th>Dep. Variable:</th>           <td>sc</td>        <th>  R-squared:         </th> <td>   0.292</td>\n",
       "</tr>\n",
       "<tr>\n",
       "  <th>Model:</th>                   <td>OLS</td>       <th>  Adj. R-squared:    </th> <td>   0.291</td>\n",
       "</tr>\n",
       "<tr>\n",
       "  <th>Method:</th>             <td>Least Squares</td>  <th>  F-statistic:       </th> <td>   428.9</td>\n",
       "</tr>\n",
       "<tr>\n",
       "  <th>Date:</th>             <td>Thu, 26 Jan 2017</td> <th>  Prob (F-statistic):</th>  <td>  0.00</td> \n",
       "</tr>\n",
       "<tr>\n",
       "  <th>Time:</th>                 <td>13:19:58</td>     <th>  Log-Likelihood:    </th> <td> -3659.7</td>\n",
       "</tr>\n",
       "<tr>\n",
       "  <th>No. Observations:</th>      <td> 10423</td>      <th>  AIC:               </th> <td>   7341.</td>\n",
       "</tr>\n",
       "<tr>\n",
       "  <th>Df Residuals:</th>          <td> 10412</td>      <th>  BIC:               </th> <td>   7421.</td>\n",
       "</tr>\n",
       "<tr>\n",
       "  <th>Df Model:</th>              <td>    10</td>      <th>                     </th>     <td> </td>   \n",
       "</tr>\n",
       "<tr>\n",
       "  <th>Covariance Type:</th>      <td>nonrobust</td>    <th>                     </th>     <td> </td>   \n",
       "</tr>\n",
       "</table>\n",
       "<table class=\"simpletable\">\n",
       "<tr>\n",
       "             <td></td>               <th>coef</th>     <th>std err</th>      <th>t</th>      <th>P>|t|</th> <th>[95.0% Conf. Int.]</th> \n",
       "</tr>\n",
       "<tr>\n",
       "  <th>Intercept</th>              <td>    1.4739</td> <td>    0.024</td> <td>   61.795</td> <td> 0.000</td> <td>    1.427     1.521</td>\n",
       "</tr>\n",
       "<tr>\n",
       "  <th>progresa[T.basal]</th>      <td>    0.0249</td> <td>    0.009</td> <td>    2.692</td> <td> 0.007</td> <td>    0.007     0.043</td>\n",
       "</tr>\n",
       "<tr>\n",
       "  <th>time</th>                   <td>    0.0387</td> <td>    0.011</td> <td>    3.600</td> <td> 0.000</td> <td>    0.018     0.060</td>\n",
       "</tr>\n",
       "<tr>\n",
       "  <th>progresa[T.basal]:time</th> <td>   -0.0027</td> <td>    0.014</td> <td>   -0.194</td> <td> 0.846</td> <td>   -0.030     0.024</td>\n",
       "</tr>\n",
       "<tr>\n",
       "  <th>sex</th>                    <td>    0.0310</td> <td>    0.007</td> <td>    4.595</td> <td> 0.000</td> <td>    0.018     0.044</td>\n",
       "</tr>\n",
       "<tr>\n",
       "  <th>dist_sec</th>               <td>   -0.0154</td> <td>    0.002</td> <td>   -8.730</td> <td> 0.000</td> <td>   -0.019    -0.012</td>\n",
       "</tr>\n",
       "<tr>\n",
       "  <th>min_dist</th>               <td>-7.307e-05</td> <td>    0.000</td> <td>   -0.632</td> <td> 0.527</td> <td>   -0.000     0.000</td>\n",
       "</tr>\n",
       "<tr>\n",
       "  <th>dist_cap</th>               <td>    0.0006</td> <td> 7.47e-05</td> <td>    8.638</td> <td> 0.000</td> <td>    0.000     0.001</td>\n",
       "</tr>\n",
       "<tr>\n",
       "  <th>hohedu</th>                 <td>    0.0091</td> <td>    0.001</td> <td>    7.645</td> <td> 0.000</td> <td>    0.007     0.011</td>\n",
       "</tr>\n",
       "<tr>\n",
       "  <th>age</th>                    <td>   -0.0685</td> <td>    0.001</td> <td>  -60.095</td> <td> 0.000</td> <td>   -0.071    -0.066</td>\n",
       "</tr>\n",
       "<tr>\n",
       "  <th>hohage</th>                 <td> 6.824e-05</td> <td>    0.000</td> <td>    0.203</td> <td> 0.839</td> <td>   -0.001     0.001</td>\n",
       "</tr>\n",
       "</table>\n",
       "<table class=\"simpletable\">\n",
       "<tr>\n",
       "  <th>Omnibus:</th>       <td>845.143</td> <th>  Durbin-Watson:     </th> <td>   1.504</td> \n",
       "</tr>\n",
       "<tr>\n",
       "  <th>Prob(Omnibus):</th> <td> 0.000</td>  <th>  Jarque-Bera (JB):  </th> <td> 802.020</td> \n",
       "</tr>\n",
       "<tr>\n",
       "  <th>Skew:</th>          <td>-0.618</td>  <th>  Prob(JB):          </th> <td>6.98e-175</td>\n",
       "</tr>\n",
       "<tr>\n",
       "  <th>Kurtosis:</th>      <td> 2.437</td>  <th>  Cond. No.          </th> <td>1.27e+03</td> \n",
       "</tr>\n",
       "</table>"
      ],
      "text/plain": [
       "<class 'statsmodels.iolib.summary.Summary'>\n",
       "\"\"\"\n",
       "                            OLS Regression Results                            \n",
       "==============================================================================\n",
       "Dep. Variable:                     sc   R-squared:                       0.292\n",
       "Model:                            OLS   Adj. R-squared:                  0.291\n",
       "Method:                 Least Squares   F-statistic:                     428.9\n",
       "Date:                Thu, 26 Jan 2017   Prob (F-statistic):               0.00\n",
       "Time:                        13:19:58   Log-Likelihood:                -3659.7\n",
       "No. Observations:               10423   AIC:                             7341.\n",
       "Df Residuals:                   10412   BIC:                             7421.\n",
       "Df Model:                          10                                         \n",
       "Covariance Type:            nonrobust                                         \n",
       "==========================================================================================\n",
       "                             coef    std err          t      P>|t|      [95.0% Conf. Int.]\n",
       "------------------------------------------------------------------------------------------\n",
       "Intercept                  1.4739      0.024     61.795      0.000         1.427     1.521\n",
       "progresa[T.basal]          0.0249      0.009      2.692      0.007         0.007     0.043\n",
       "time                       0.0387      0.011      3.600      0.000         0.018     0.060\n",
       "progresa[T.basal]:time    -0.0027      0.014     -0.194      0.846        -0.030     0.024\n",
       "sex                        0.0310      0.007      4.595      0.000         0.018     0.044\n",
       "dist_sec                  -0.0154      0.002     -8.730      0.000        -0.019    -0.012\n",
       "min_dist               -7.307e-05      0.000     -0.632      0.527        -0.000     0.000\n",
       "dist_cap                   0.0006   7.47e-05      8.638      0.000         0.000     0.001\n",
       "hohedu                     0.0091      0.001      7.645      0.000         0.007     0.011\n",
       "age                       -0.0685      0.001    -60.095      0.000        -0.071    -0.066\n",
       "hohage                  6.824e-05      0.000      0.203      0.839        -0.001     0.001\n",
       "==============================================================================\n",
       "Omnibus:                      845.143   Durbin-Watson:                   1.504\n",
       "Prob(Omnibus):                  0.000   Jarque-Bera (JB):              802.020\n",
       "Skew:                          -0.618   Prob(JB):                    6.98e-175\n",
       "Kurtosis:                       2.437   Cond. No.                     1.27e+03\n",
       "==============================================================================\n",
       "\n",
       "Warnings:\n",
       "[1] Standard Errors assume that the covariance matrix of the errors is correctly specified.\n",
       "[2] The condition number is large, 1.27e+03. This might indicate that there are\n",
       "strong multicollinearity or other numerical problems.\n",
       "\"\"\""
      ]
     },
     "execution_count": 56,
     "metadata": {},
     "output_type": "execute_result"
    }
   ],
   "source": [
    "p_nonpoor = p_df[p_df['poor'] == 0]\n",
    "p_nonpoor.loc[p_nonpoor.year == 97, 'time'] = 0\n",
    "p_nonpoor.loc[p_nonpoor.year == 98, 'time'] = 1\n",
    "nprgs = smf.ols(formula = 'sc ~ progresa + time + progresa:time + sex + dist_sec  + min_dist + dist_cap + hohedu + age + hohage', data=p_nonpoor).fit()\n",
    "nprgs.summary()"
   ]
  },
  {
   "cell_type": "markdown",
   "metadata": {},
   "source": [
    "Yes, there are statistically significant impacts of progresa on the non-poor households, the average enrollment rate is 0.0249 higher with progresa than without."
   ]
  },
  {
   "cell_type": "markdown",
   "metadata": {
    "ein.tags": [
     "worksheet-0"
    ],
    "slideshow": {
     "slide_type": "-"
    }
   },
   "source": [
    "### 2.8 Summary\n",
    "\n",
    "Based on all the analysis you have undertaken to date, do you thik that Progresa had a causal impact on the enrollment rates of poor households in Mexico?"
   ]
  },
  {
   "cell_type": "markdown",
   "metadata": {
    "autoscroll": "json-false",
    "collapsed": false,
    "ein.tags": [
     "worksheet-0"
    ],
    "slideshow": {
     "slide_type": "-"
    }
   },
   "source": [
    "I don't think Progresa alone had causal impact on the enrollment rates of poor households in Mexico. Because a lot of the assumptions seems not met. The two groups had difference from the begining and their enrollment rates seem to progress differently over time (time played more role in improving the enrollment rates in the treatment group rather than Progresa). Either way, I don't think a solid conclusion can be made regarding the causal impact of Progresa on enrollment rates."
   ]
  },
  {
   "cell_type": "code",
   "execution_count": null,
   "metadata": {
    "collapsed": true
   },
   "outputs": [],
   "source": []
  }
 ],
 "metadata": {
  "kernelspec": {
   "display_name": "Python 3",
   "language": "python",
   "name": "python3"
  },
  "language_info": {
   "codemirror_mode": {
    "name": "ipython",
    "version": 3
   },
   "file_extension": ".py",
   "mimetype": "text/x-python",
   "name": "python",
   "nbconvert_exporter": "python",
   "pygments_lexer": "ipython3",
   "version": "3.5.1"
  },
  "name": "INFX574-PS2.ipynb"
 },
 "nbformat": 4,
 "nbformat_minor": 2
}
