{
 "cells": [
  {
   "cell_type": "markdown",
   "metadata": {
    "ein.tags": [
     "worksheet-0"
    ],
    "slideshow": {
     "slide_type": "-"
    }
   },
   "source": [
    "Name: Shuyang Wu\n",
    "\n",
    "Date: 1/11/2017\n",
    "\n",
    "Section: C\n",
    "# Linear algebra\n",
    "\n",
    "This is a voluntary problem set that helps you to learn linear algebra (and the related numpy commands.)  Consult Greene \"Econometric Analysis\" Appendix A when solving these problems.\n",
    "\n",
    "If handed in (and solved correctly ;-), it gives you 5 credits.\n"
   ]
  },
  {
   "cell_type": "code",
   "execution_count": 13,
   "metadata": {
    "autoscroll": "json-false",
    "collapsed": false,
    "ein.tags": [
     "worksheet-0"
    ],
    "slideshow": {
     "slide_type": "-"
    }
   },
   "outputs": [],
   "source": [
    "import numpy as np\n",
    "from numpy.linalg import matrix_rank\n",
    "from numpy.linalg import inv\n",
    "from numpy.linalg import eig\n",
    "from numpy.linalg import cond\n",
    "from cmath import sqrt"
   ]
  },
  {
   "cell_type": "markdown",
   "metadata": {
    "ein.tags": [
     "worksheet-0"
    ],
    "slideshow": {
     "slide_type": "-"
    }
   },
   "source": [
    "## 1 Matrix multiplication\n",
    "* create the following matrices:\n",
    "a = [ 1 2 3 4], b = [5 6 7 8 ]'\n",
    "(note: b includes the transposition sign)\n",
    "* compute the following matrix products $a \\cdot b$ and $a' \\cdot b'$"
   ]
  },
  {
   "cell_type": "code",
   "execution_count": 9,
   "metadata": {
    "autoscroll": "json-false",
    "collapsed": false,
    "ein.tags": [
     "worksheet-0"
    ],
    "slideshow": {
     "slide_type": "-"
    }
   },
   "outputs": [
    {
     "name": "stdout",
     "output_type": "stream",
     "text": [
      "[[1 2 3 4]] \n",
      " [[5]\n",
      " [6]\n",
      " [7]\n",
      " [8]] \n",
      " [[1]\n",
      " [2]\n",
      " [3]\n",
      " [4]] \n",
      " [[5 6 7 8]]\n",
      "[[70]]\n",
      "[[ 5  6  7  8]\n",
      " [10 12 14 16]\n",
      " [15 18 21 24]\n",
      " [20 24 28 32]]\n"
     ]
    }
   ],
   "source": [
    "a = np.array([[1,2,3,4]])\n",
    "b = np.array([[5],[6],[7],[8]])\n",
    "a_prime = a.transpose()\n",
    "b_prime = b.transpose()\n",
    "print(a, \"\\n\", b,\"\\n\",a_prime,\"\\n\",b_prime)\n",
    "print(np.dot(a,b))\n",
    "print(np.dot(a_prime, b_prime))"
   ]
  },
  {
   "cell_type": "markdown",
   "metadata": {
    "ein.tags": [
     "worksheet-0"
    ],
    "slideshow": {
     "slide_type": "-"
    }
   },
   "source": [
    "## 2 Linear (in)dependence\n",
    "Consider three vectors:\n",
    "a = [1 2 3 4],\n",
    "b = [5 6 7 8] and\n",
    "c = [9 10 11 12]\n",
    "\n",
    "* are these vectors linearly independent?  Calculate the rank, a related determinant, and show how they are related/unrelated\n",
    "\n",
    "They are related. The matrix they formed is not full rank and have a determinant equals to zero."
   ]
  },
  {
   "cell_type": "code",
   "execution_count": 5,
   "metadata": {
    "autoscroll": "json-false",
    "collapsed": false,
    "ein.tags": [
     "worksheet-0"
    ],
    "slideshow": {
     "slide_type": "-"
    }
   },
   "outputs": [
    {
     "name": "stdout",
     "output_type": "stream",
     "text": [
      "[[ 1  5  9]\n",
      " [ 2  6 10]\n",
      " [ 3  7 11]\n",
      " [ 4  8 12]]\n",
      "2\n",
      "[[ 30  70 110]\n",
      " [ 70 174 278]\n",
      " [110 278 446]]\n",
      "[  6.47032607e+02   2.96739296e+00   2.51477877e-14]\n",
      "2\n",
      "5.68434188608e-13\n"
     ]
    },
    {
     "data": {
      "text/plain": [
       "0.0"
      ]
     },
     "execution_count": 5,
     "metadata": {},
     "output_type": "execute_result"
    }
   ],
   "source": [
    "a = np.array([[1,2,3,4]])\n",
    "a = a.transpose()\n",
    "b = np.array([[5,6,7,8]])\n",
    "b = b.transpose()\n",
    "c = np.array([[9,10,11,12]])\n",
    "c = c.transpose()\n",
    "d = np.concatenate((a, b, c), axis=1)\n",
    "print(d)\n",
    "print(matrix_rank(d)) #rank = 2, vectors are not linearly independent\n",
    "e = d.transpose()\n",
    "f = np.dot(e, d)\n",
    "print(f)\n",
    "w, v = eig(f)\n",
    "print(w) #Non-zero characteristic roots in d'd\n",
    "print(matrix_rank(f))  #rank = 2, vectors are not linearly independent\n",
    "print(np.linalg.det(f))  #can be round to 0 \n",
    "round(np.linalg.det(f),6) #they are related"
   ]
  },
  {
   "cell_type": "markdown",
   "metadata": {
    "ein.tags": [
     "worksheet-0"
    ],
    "slideshow": {
     "slide_type": "-"
    }
   },
   "source": [
    "## 3 Find the inverses of the following matrices:\n",
    "\n",
    "\n",
    "A = [ <br/>\n",
    "    1 2 3 4 <br/>\n",
    "5 6 7 8 <br/>\n",
    "-1 10 11 12 <br/>\n",
    "13 14 15 17 ],\n",
    "\n",
    "B = [ <br/>\n",
    "    1 0 0 <br/>\n",
    "     0 4 0 <br/>\n",
    "     0 0 16]\n",
    "\n",
    "and\n",
    "\n",
    "C = [ <br/>\n",
    "    1 2 3 4 <br/>\n",
    "      5 6 7 8 <br/>\n",
    "      9 10 11 12 <br/>\n",
    "      13 14 15 17 ]\n",
    "\n",
    "* Check the results by left- and right multiplication of the inverse.  Explain.\n",
    "\n",
    "Only Matrix B is a square matrix and invertible. A and C are singular matrices."
   ]
  },
  {
   "cell_type": "code",
   "execution_count": 27,
   "metadata": {
    "autoscroll": "json-false",
    "collapsed": false,
    "ein.tags": [
     "worksheet-0"
    ],
    "slideshow": {
     "slide_type": "-"
    }
   },
   "outputs": [
    {
     "name": "stdout",
     "output_type": "stream",
     "text": [
      "A:  \n",
      " [[ -1.00000000e-01   2.00000000e-01  -1.00000000e-01   1.70803542e-16]\n",
      " [  4.50000000e-01  -2.65000000e+00   2.00000000e-01   1.00000000e+00]\n",
      " [ -2.60000000e+00   5.70000000e+00  -1.00000000e-01  -2.00000000e+00]\n",
      " [  2.00000000e+00  -3.00000000e+00  -7.40148683e-17   1.00000000e+00]] \n",
      " B:  \n",
      " [[ 1.      0.      0.    ]\n",
      " [ 0.      0.25    0.    ]\n",
      " [ 0.      0.      0.0625]] \n",
      " C:  \n",
      " [[ -1.54070514e+15   3.08141027e+15  -1.54070514e+15   1.87000000e+00]\n",
      " [  3.08141027e+15  -6.16282054e+15   3.08141027e+15  -2.74000000e+00]\n",
      " [ -1.54070514e+15   3.08141027e+15  -1.54070514e+15  -1.30000000e-01]\n",
      " [  1.15789474e+00  -1.31578947e+00  -8.42105263e-01   1.00000000e+00]]\n"
     ]
    },
    {
     "ename": "TypeError",
     "evalue": "only length-1 arrays can be converted to Python scalars",
     "output_type": "error",
     "traceback": [
      "\u001b[0;31m---------------------------------------------------------------------------\u001b[0m",
      "\u001b[0;31mTypeError\u001b[0m                                 Traceback (most recent call last)",
      "\u001b[0;32m<ipython-input-27-3c9bc32b500b>\u001b[0m in \u001b[0;36m<module>\u001b[0;34m()\u001b[0m\n\u001b[1;32m      6\u001b[0m \u001b[0minvC\u001b[0m \u001b[0;34m=\u001b[0m \u001b[0minv\u001b[0m\u001b[0;34m(\u001b[0m\u001b[0mC\u001b[0m\u001b[0;34m)\u001b[0m\u001b[0;34m\u001b[0m\u001b[0m\n\u001b[1;32m      7\u001b[0m \u001b[0mprint\u001b[0m\u001b[0;34m(\u001b[0m\u001b[0;34m\"A: \"\u001b[0m\u001b[0;34m,\u001b[0m\u001b[0;34m\"\\n\"\u001b[0m\u001b[0;34m,\u001b[0m \u001b[0minvA\u001b[0m\u001b[0;34m,\u001b[0m \u001b[0;34m\"\\n\"\u001b[0m\u001b[0;34m,\u001b[0m\u001b[0;34m\"B: \"\u001b[0m\u001b[0;34m,\u001b[0m\u001b[0;34m\"\\n\"\u001b[0m\u001b[0;34m,\u001b[0m \u001b[0minvB\u001b[0m\u001b[0;34m,\u001b[0m\u001b[0;34m\"\\n\"\u001b[0m\u001b[0;34m,\u001b[0m \u001b[0;34m\"C: \"\u001b[0m\u001b[0;34m,\u001b[0m\u001b[0;34m\"\\n\"\u001b[0m\u001b[0;34m,\u001b[0m \u001b[0minvC\u001b[0m\u001b[0;34m)\u001b[0m\u001b[0;34m\u001b[0m\u001b[0m\n\u001b[0;32m----> 8\u001b[0;31m \u001b[0;32mif\u001b[0m\u001b[0;34m(\u001b[0m\u001b[0ma\u001b[0m\u001b[0;34m.\u001b[0m\u001b[0mall\u001b[0m\u001b[0;34m(\u001b[0m\u001b[0mnp\u001b[0m\u001b[0;34m.\u001b[0m\u001b[0mdot\u001b[0m\u001b[0;34m(\u001b[0m\u001b[0mA\u001b[0m\u001b[0;34m,\u001b[0m\u001b[0minvA\u001b[0m\u001b[0;34m)\u001b[0m\u001b[0;34m)\u001b[0m \u001b[0;34m==\u001b[0m \u001b[0ma\u001b[0m\u001b[0;34m.\u001b[0m\u001b[0mall\u001b[0m\u001b[0;34m(\u001b[0m\u001b[0mnp\u001b[0m\u001b[0;34m.\u001b[0m\u001b[0mdot\u001b[0m\u001b[0;34m(\u001b[0m\u001b[0minvA\u001b[0m\u001b[0;34m,\u001b[0m \u001b[0mA\u001b[0m\u001b[0;34m)\u001b[0m\u001b[0;34m)\u001b[0m\u001b[0;34m)\u001b[0m\u001b[0;34m:\u001b[0m\u001b[0;34m\u001b[0m\u001b[0m\n\u001b[0m\u001b[1;32m      9\u001b[0m     \u001b[0mprint\u001b[0m\u001b[0;34m(\u001b[0m\u001b[0;34m\"Left- and right multiplication of the inverse of A are equal.\"\u001b[0m\u001b[0;34m)\u001b[0m\u001b[0;34m\u001b[0m\u001b[0m\n\u001b[1;32m     10\u001b[0m \u001b[0;32mif\u001b[0m\u001b[0;34m(\u001b[0m\u001b[0ma\u001b[0m\u001b[0;34m.\u001b[0m\u001b[0mall\u001b[0m\u001b[0;34m(\u001b[0m\u001b[0mnp\u001b[0m\u001b[0;34m.\u001b[0m\u001b[0mdot\u001b[0m\u001b[0;34m(\u001b[0m\u001b[0mB\u001b[0m\u001b[0;34m,\u001b[0m\u001b[0minvB\u001b[0m\u001b[0;34m)\u001b[0m\u001b[0;34m)\u001b[0m \u001b[0;34m==\u001b[0m \u001b[0ma\u001b[0m\u001b[0;34m.\u001b[0m\u001b[0mall\u001b[0m\u001b[0;34m(\u001b[0m\u001b[0mnp\u001b[0m\u001b[0;34m.\u001b[0m\u001b[0mdot\u001b[0m\u001b[0;34m(\u001b[0m\u001b[0minvB\u001b[0m\u001b[0;34m,\u001b[0m \u001b[0mB\u001b[0m\u001b[0;34m)\u001b[0m\u001b[0;34m)\u001b[0m\u001b[0;34m)\u001b[0m\u001b[0;34m:\u001b[0m\u001b[0;34m\u001b[0m\u001b[0m\n",
      "\u001b[0;32m//anaconda/lib/python3.5/site-packages/numpy/core/_methods.py\u001b[0m in \u001b[0;36m_all\u001b[0;34m(a, axis, dtype, out, keepdims)\u001b[0m\n\u001b[1;32m     39\u001b[0m \u001b[0;34m\u001b[0m\u001b[0m\n\u001b[1;32m     40\u001b[0m \u001b[0;32mdef\u001b[0m \u001b[0m_all\u001b[0m\u001b[0;34m(\u001b[0m\u001b[0ma\u001b[0m\u001b[0;34m,\u001b[0m \u001b[0maxis\u001b[0m\u001b[0;34m=\u001b[0m\u001b[0;32mNone\u001b[0m\u001b[0;34m,\u001b[0m \u001b[0mdtype\u001b[0m\u001b[0;34m=\u001b[0m\u001b[0;32mNone\u001b[0m\u001b[0;34m,\u001b[0m \u001b[0mout\u001b[0m\u001b[0;34m=\u001b[0m\u001b[0;32mNone\u001b[0m\u001b[0;34m,\u001b[0m \u001b[0mkeepdims\u001b[0m\u001b[0;34m=\u001b[0m\u001b[0;32mFalse\u001b[0m\u001b[0;34m)\u001b[0m\u001b[0;34m:\u001b[0m\u001b[0;34m\u001b[0m\u001b[0m\n\u001b[0;32m---> 41\u001b[0;31m     \u001b[0;32mreturn\u001b[0m \u001b[0mumr_all\u001b[0m\u001b[0;34m(\u001b[0m\u001b[0ma\u001b[0m\u001b[0;34m,\u001b[0m \u001b[0maxis\u001b[0m\u001b[0;34m,\u001b[0m \u001b[0mdtype\u001b[0m\u001b[0;34m,\u001b[0m \u001b[0mout\u001b[0m\u001b[0;34m,\u001b[0m \u001b[0mkeepdims\u001b[0m\u001b[0;34m)\u001b[0m\u001b[0;34m\u001b[0m\u001b[0m\n\u001b[0m\u001b[1;32m     42\u001b[0m \u001b[0;34m\u001b[0m\u001b[0m\n\u001b[1;32m     43\u001b[0m \u001b[0;32mdef\u001b[0m \u001b[0m_count_reduce_items\u001b[0m\u001b[0;34m(\u001b[0m\u001b[0marr\u001b[0m\u001b[0;34m,\u001b[0m \u001b[0maxis\u001b[0m\u001b[0;34m)\u001b[0m\u001b[0;34m:\u001b[0m\u001b[0;34m\u001b[0m\u001b[0m\n",
      "\u001b[0;31mTypeError\u001b[0m: only length-1 arrays can be converted to Python scalars"
     ]
    }
   ],
   "source": [
    "A = [[1, 2, 3, 4], [5, 6, 7, 8], [-1, 10, 11, 12], [13, 14, 15, 17]]\n",
    "B = [[1, 0, 0], [0, 4, 0], [0, 0, 16]]\n",
    "C = [[1, 2, 3, 4],[5, 6, 7, 8],[9, 10, 11, 12], [13, 14, 15, 17]]\n",
    "invA = inv(A)\n",
    "invB = inv(B)\n",
    "invC = inv(C)\n",
    "print(\"A: \",\"\\n\", invA, \"\\n\",\"B: \",\"\\n\", invB,\"\\n\", \"C: \",\"\\n\", invC)\n",
    "print(np.dot(A,invA) == np.dot(invA, A))\n",
    "print(np.dot(B,invB) == np.dot(invB, B))\n",
    "print(np.dot(C,invC) == np.dot(invC, C))\n",
    "#Only Matrix B is a square matrix and invertible. A and C are singular matrices."
   ]
  },
  {
   "cell_type": "markdown",
   "metadata": {
    "ein.tags": [
     "worksheet-0"
    ],
    "slideshow": {
     "slide_type": "-"
    }
   },
   "source": [
    "## 4 Characteristic roots\n",
    "* Find the roots (eigenvalues) of the matrices A, B, C above.\n",
    "* Calculate the condition numbers of these matrices in two ways: the default numpy way, and in this way as it is explained in Greene (2003, page 829)\n",
    "* Explain the results\n",
    "\n",
    "The condition numbers from two ways of calculation are not the same, first of all, the minimun roots of A and C are negative numbers when using Greene's way. Also, the default calculation used by python might not have taken the squareroots of the [max/min]."
   ]
  },
  {
   "cell_type": "code",
   "execution_count": 22,
   "metadata": {
    "autoscroll": "json-false",
    "collapsed": false,
    "ein.tags": [
     "worksheet-0"
    ],
    "slideshow": {
     "slide_type": "-"
    }
   },
   "outputs": [
    {
     "name": "stdout",
     "output_type": "stream",
     "text": [
      "Characteristic roots of A:  [ 35.83449756   1.34371891  -1.6853005   -0.49291597]\n",
      "Characteristic roots of B:  [  1.   4.  16.]\n",
      "Characteristic roots of C:  [  3.66727818e+01  -2.00000000e+00  -2.08470091e-15   3.27218155e-01]\n",
      "Default way for A:  299.050204082\n",
      "Default way for A:  16.0\n",
      "Default way for A:  7.60469682786e+16\n",
      "Greene's way for A:  4.6111790371235095j\n",
      "Greene's way for B:  (4+0j)\n",
      "Greene's way for C:  4.282101227515895j\n"
     ]
    }
   ],
   "source": [
    "w, v = eig(A)\n",
    "print(\"Characteristic roots of A: \", w)\n",
    "w, v = eig(B)\n",
    "print(\"Characteristic roots of B: \", w)\n",
    "w, v = eig(C)\n",
    "print(\"Characteristic roots of C: \", w)\n",
    "\n",
    "#defualt way\n",
    "print(\"Default way for A: \", cond(A))\n",
    "print(\"Default way for A: \",cond(B))\n",
    "print(\"Default way for A: \",cond(C))\n",
    "\n",
    "#Greene\n",
    "a, v = eig(A)\n",
    "amx = np.amax(a)\n",
    "amn = min(a)\n",
    "conda = sqrt(amx/amn)\n",
    "print(\"Greene's way for A: \", conda)\n",
    "b, v = eig(B)\n",
    "bmx = np.amax(b)\n",
    "bmn = min(b)\n",
    "condb = sqrt(bmx/bmn)\n",
    "print(\"Greene's way for B: \", condb)\n",
    "c, v = eig(C)\n",
    "cmx = np.amax(c)\n",
    "cmn = min(c)\n",
    "condc = sqrt(cmx/cmn)\n",
    "print(\"Greene's way for C: \", condc)"
   ]
  },
  {
   "cell_type": "code",
   "execution_count": null,
   "metadata": {
    "collapsed": true
   },
   "outputs": [],
   "source": []
  }
 ],
 "metadata": {
  "anaconda-cloud": {},
  "kernelspec": {
   "display_name": "Python 3",
   "language": "python",
   "name": "python3"
  },
  "language_info": {
   "codemirror_mode": {
    "name": "ipython",
    "version": 3
   },
   "file_extension": ".py",
   "mimetype": "text/x-python",
   "name": "python",
   "nbconvert_exporter": "python",
   "pygments_lexer": "ipython3",
   "version": "3.5.1"
  },
  "name": "01_linear_algebra.ipynb"
 },
 "nbformat": 4,
 "nbformat_minor": 2
}
