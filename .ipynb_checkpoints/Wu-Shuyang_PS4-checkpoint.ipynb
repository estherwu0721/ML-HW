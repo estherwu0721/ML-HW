{
 "cells": [
  {
   "cell_type": "markdown",
   "metadata": {},
   "source": [
    "# Problem Set 4, due February 23 at 11:59am, mid-day, noon.\n",
    "\n",
    "### Before You Start\n",
    "\n",
    "This is a fun but challenging problem set. It will test your python skills, as well as your understanding of the material in class and in the readings. Start early and debug often! Some notes:\n",
    "\n",
    "* Part 1 is meant to be easy, so get through it quickly.\n",
    "* Part 2 (especially 2.1) will be difficult, but it is the lynchpin of this problem set to make sure to do it well and understand what you've done. If you find your gradient descent algorithm is taking more than a few minutes to complete, debug more, compare notes with others, and go to the TA sessions.\n",
    "* Depending on how well you've done 2.1, parts 2.3 and 4.3 will be relatively painless or incredibly painful. \n",
    "* Part 4 (especially 3.3) will be computationally intensive. Don't leave this until the last minute, otherwise your code might be running when the deadline arrives.\n",
    "* Do the extra credit problems last.\n",
    "\n",
    "Name: Shuyang Wu\n",
    "\n",
    "Date: 2/14/2017\n",
    "\n",
    "Section: C"
   ]
  },
  {
   "cell_type": "markdown",
   "metadata": {},
   "source": [
    "---\n",
    "\n",
    "## Introduction to the assignment\n",
    "\n",
    "As with the last assignment, you will be using the [Boston Housing Prices Data Set](http://archive.ics.uci.edu/ml/datasets/Housing)."
   ]
  },
  {
   "cell_type": "code",
   "execution_count": 1,
   "metadata": {
    "collapsed": false
   },
   "outputs": [],
   "source": [
    "import IPython\n",
    "import numpy as np\n",
    "import scipy as sp\n",
    "import pandas as pd\n",
    "import matplotlib\n",
    "import sklearn\n",
    "\n",
    "%matplotlib inline  \n",
    "import matplotlib.pyplot as plt  \n",
    "import statsmodels.api as sm\n",
    "from sklearn.linear_model import LinearRegression\n",
    "from sklearn.metrics import mean_squared_error\n",
    "import statsmodels.formula.api as smf"
   ]
  },
  {
   "cell_type": "code",
   "execution_count": 2,
   "metadata": {
    "collapsed": true
   },
   "outputs": [],
   "source": [
    "from sklearn.datasets import load_boston\n",
    "bdata = load_boston()"
   ]
  },
  {
   "cell_type": "markdown",
   "metadata": {},
   "source": [
    "---\n",
    "\n",
    "## Part 1: Getting oriented\n",
    "\n",
    "Use different learning rates\n",
    "\n",
    "### 1.1 Use existing libraries\n",
    "\n",
    "Soon, you will write your own gradient descent algorithm, which you will then use to minimize the squared error cost function.  First, however, let's use the canned versions that come with Python, to make sure we understand what we're aiming to achieve.\n",
    "\n",
    "Using the same Boston housing prices dataset, use the [Linear Regression class](http://scikit-learn.org/stable/modules/generated/sklearn.linear_model.LinearRegression.html) from sklearn or the [OLS class](http://wiki.scipy.org/Cookbook/OLS) from SciPy to explore the relationship between  median housing price and number of rooms per house. Do this by first (a) regressing the housing price on the number of rooms per house, and then (b) regressing the housing price on the number of rooms per house and the (number of rooms per house) squared.  Interpret your results."
   ]
  },
  {
   "cell_type": "code",
   "execution_count": 1,
   "metadata": {
    "collapsed": false
   },
   "outputs": [
    {
     "ename": "NameError",
     "evalue": "name 'bdata' is not defined",
     "output_type": "error",
     "traceback": [
      "\u001b[0;31m---------------------------------------------------------------------------\u001b[0m",
      "\u001b[0;31mNameError\u001b[0m                                 Traceback (most recent call last)",
      "\u001b[0;32m<ipython-input-1-4d7b097fedea>\u001b[0m in \u001b[0;36m<module>\u001b[0;34m()\u001b[0m\n\u001b[1;32m      2\u001b[0m \u001b[0;31m#print(bdata.keys())\u001b[0m\u001b[0;34m\u001b[0m\u001b[0;34m\u001b[0m\u001b[0m\n\u001b[1;32m      3\u001b[0m \u001b[0;31m#print(bdata.feature_names)\u001b[0m\u001b[0;34m\u001b[0m\u001b[0;34m\u001b[0m\u001b[0m\n\u001b[0;32m----> 4\u001b[0;31m \u001b[0mprint\u001b[0m\u001b[0;34m(\u001b[0m\u001b[0mbdata\u001b[0m\u001b[0;34m.\u001b[0m\u001b[0mdata\u001b[0m\u001b[0;34m.\u001b[0m\u001b[0mshape\u001b[0m\u001b[0;34m)\u001b[0m\u001b[0;34m\u001b[0m\u001b[0m\n\u001b[0m\u001b[1;32m      5\u001b[0m \u001b[0;31m#print(bdata.target.shape)\u001b[0m\u001b[0;34m\u001b[0m\u001b[0;34m\u001b[0m\u001b[0m\n\u001b[1;32m      6\u001b[0m \u001b[0mprint\u001b[0m\u001b[0;34m(\u001b[0m\u001b[0mbdata\u001b[0m\u001b[0;34m.\u001b[0m\u001b[0mDESCR\u001b[0m\u001b[0;34m)\u001b[0m\u001b[0;34m\u001b[0m\u001b[0m\n",
      "\u001b[0;31mNameError\u001b[0m: name 'bdata' is not defined"
     ]
    }
   ],
   "source": [
    "# uncomment the following if you want to see a lengthy description of the dataset\n",
    "#print(bdata.keys())\n",
    "#print(bdata.feature_names)\n",
    "print(bdata.data.shape)\n",
    "#print(bdata.target.shape)\n",
    "print(bdata.DESCR)\n",
    "\n",
    "# Your code here\n",
    "df = pd.DataFrame(bdata.data)\n",
    "df.columns = bdata.feature_names[:]\n",
    "\n",
    "house = pd.DataFrame(bdata.target)\n",
    "house.columns = ['MEDV']\n",
    "\n",
    "df = pd.concat([df, house], axis=1)\n",
    "\n",
    "#(a)regressing the housing price on the number of rooms per house\n",
    "lm = smf.ols(formula='MEDV ~ RM', data=df).fit()\n",
    "print(lm.params, '\\n')\n",
    "\n",
    "df['RMsqed'] = df['RM']**2\n",
    "#(b)regressing the housing price on the number of rooms per house and the (number of rooms per house) squared\n",
    "lm = smf.ols(formula='MEDV ~ RM + RMsqed', data=df).fit()\n",
    "print(lm.params)"
   ]
  },
  {
   "cell_type": "markdown",
   "metadata": {},
   "source": [
    "*Enter your observations here*\n",
    "\n",
    "Regressing median house value on number of rooms: \n",
    "\n",
    "median house value = -34.67 + 9.1 * Number of Rooms. The number of rooms is positively associated with the house prices.\n",
    "\n",
    "Regressing the housing price on the number of rooms per house and the (number of rooms per house) squared: \n",
    "\n",
    "median house value = 66.06 -22.64 * Number of Rooms + 2.47 * Number of Rooms^2. The number of rooms is negatively associated with the house prices, but the squared number of rooms is positively associated with house prices but with a smaller power (2.47 comparing to 9.1 from the previous regression).\n",
    "\n"
   ]
  },
  {
   "cell_type": "markdown",
   "metadata": {},
   "source": [
    "### 1.2 Training and testing\n",
    "\n",
    "Chances are, for the above problem you used all of your data to fit the regression line. In some circumstances this is a reasonable thing to do, but often this will result in overfitting. Let's redo the above results the ML way, using careful cross-validation.  Since you are now experts in cross-validation, and have written your own cross-validation algorithm from scratch, you can now take a shortcut and use the libraries that others have built for you.\n",
    "\n",
    "Using the [cross-validation functions](http://scikit-learn.org/stable/modules/cross_validation.html) from scikit-learn, use 250-fold cross-validation to fit regression (a) above, i.e. the linear fit of housing price on number of rooms per house. Each fold of cross-validation will give you one slope coefficient and one intercept coefficient.  Plot the distribution of the 250 slope coefficients using a histogram with 25 bins, then draw a vertical line at the value of the slope coefficient that you estimated in 1.1 using the full dataset.  What do you notice?"
   ]
  },
  {
   "cell_type": "code",
   "execution_count": 4,
   "metadata": {
    "collapsed": false
   },
   "outputs": [
    {
     "data": {
      "text/plain": [
       "<matplotlib.lines.Line2D at 0x115562b70>"
      ]
     },
     "execution_count": 4,
     "metadata": {},
     "output_type": "execute_result"
    },
    {
     "data": {
      "image/png": "[encoded data removed]",
      "text/plain": [
       "<matplotlib.figure.Figure at 0x11550d9e8>"
      ]
     },
     "metadata": {},
     "output_type": "display_data"
    }
   ],
   "source": [
    "from sklearn.model_selection import KFold\n",
    "# your code here\n",
    "kf = KFold(n_splits=250)\n",
    "slopes = []\n",
    "\n",
    "for train, test in kf.split(df):\n",
    "    X_train, X_test = df.iloc[train], df.iloc[test]\n",
    "    lm = smf.ols(formula='MEDV ~ RM', data=X_train).fit()\n",
    "    slopes.append(lm.params.get('RM'))\n",
    "\n",
    "plt.hist(slopes, bins = 25)\n",
    "plt.axvline(x=9.102109, color='r', linestyle='dashed', linewidth=2)"
   ]
  },
  {
   "cell_type": "markdown",
   "metadata": {},
   "source": [
    "*Enter your observations here*\n",
    "\n",
    "The slope I calculated with the entire dataset fits in the most frequent bin of slopes calculated from cross-validation. This means the estimated parameter 9.102109 is likely to be representative of the true paramter."
   ]
  },
  {
   "cell_type": "markdown",
   "metadata": {},
   "source": [
    "### 1.3 Regression lines\n",
    "\n",
    "Create a scatterplot of housing price on rooms per house, and add the two regression lines from 1.1 (or 1.2 if you prefer to do so). Show the linear regression line in red, and the linear+quadratic regression line (which may have curvature) in blue.  Label these two regression lines with the corresponding regression equations (i.e. the slope and intercept of the line).\n",
    "\n",
    "Bonus: Add the 95% confidence bands (i.e.,  the area that has a 95% chance of containing the true regression line) to each of these lines."
   ]
  },
  {
   "cell_type": "markdown",
   "metadata": {},
   "source": [
    "\n"
   ]
  },
  {
   "cell_type": "code",
   "execution_count": 5,
   "metadata": {
    "collapsed": false
   },
   "outputs": [
    {
     "data": {
      "text/plain": [
       "<matplotlib.text.Text at 0x117e9bd68>"
      ]
     },
     "execution_count": 5,
     "metadata": {},
     "output_type": "execute_result"
    },
    {
     "data": {
      "image/png": "[encoded data removed]",
      "text/plain": [
       "<matplotlib.figure.Figure at 0x115516208>"
      ]
     },
     "metadata": {},
     "output_type": "display_data"
    }
   ],
   "source": [
    "# Your code here\n",
    "plt.scatter(df['RM'],df['MEDV'], color = 'pink')\n",
    "X_plot = np.arange(df.RM.min(),df.RM.max())\n",
    "plt.plot(X_plot, X_plot*9.102109-34.670621, color = 'r')\n",
    "plt.text(4, 0, r'Y = 9.102109 * X - 34.670621', color = 'r')\n",
    "plt.plot(X_plot, (X_plot*X_plot*2.470124) + (X_plot*-22.643262) + 66.058847, color = 'b')\n",
    "plt.text(5, 50, r'Y = 2.470124 * (X)^2 - 22.643262 * X + 66.058847', color = 'b')"
   ]
  },
  {
   "cell_type": "markdown",
   "metadata": {},
   "source": [
    "## Part 2: Gradient descent: Linear Regression\n",
    "\n",
    "This is where it gets fun!\n",
    "\n",
    "### 2.1 Implement gradient descent with one independent variable (Average rooms per house)\n",
    "\n",
    "Implement the batch gradient descent algorithm that we discussed in class. Use the version you implement to regress the housing price on the number of rooms per house. Experiment with 3-4 different values of the learning rate *R*, and do the following:\n",
    "\n",
    "* Report the values of alpha and beta that minimize the loss function\n",
    "* Report the number of iterations it takes for your algorithm to converge (for each value of *R*)\n",
    "* Report the total running time of your algorithm, in seconds\n",
    "\n",
    "Some skeleton code is provided below, but you should feel free to delete this code and start from scratch if you prefer.\n",
    "\n",
    "* *Hint 1: Don't forget to implement a stopping condition, so that at every iteration you check whether your results have converged. Common approaches to this are to (a) check to see if the loss has stopped decreasing; and (b) check if both your current parameter esimates are close to the estimates from the previous iteration.  In both cases, \"close\" should not be ==0, it should be <=epsilon, where epsilon is something very small (like 0.0001).*\n",
    "* *Hint 2: Some people like to include a MaxIterations parameter in their gradient descent algorithm, to prevent divergence. *"
   ]
  },
  {
   "cell_type": "code",
   "execution_count": 8,
   "metadata": {
    "collapsed": false
   },
   "outputs": [
    {
     "name": "stdout",
     "output_type": "stream",
     "text": [
      "When R = 0.01\n",
      "Converged at iteration:  31252\n",
      "Time taken: 0.67 seconds\n",
      "(-33.839026020569712, array([ 8.97137807]))\n",
      "\n",
      " When R = 0.02\n",
      "Converged at iteration:  18507\n",
      "Time taken: 0.6 seconds\n",
      "(-34.254887890404511, array([ 9.03675366]))\n",
      "\n",
      " When R = 0.001\n",
      "Converged at iteration:  122107\n",
      "Time taken: 2.41 seconds\n",
      "(-26.353843249632209, array([ 7.79466939]))\n"
     ]
    }
   ],
   "source": [
    "import time\n",
    "\n",
    "\"\"\"\n",
    "Function\n",
    "--------\n",
    "bivariate_ols\n",
    "    Gradient Decent to minimize OLS. Used to find co-efficients of bivariate OLS Linear regression\n",
    "\n",
    "Parameters\n",
    "----------\n",
    "xvalues, yvalues : narray\n",
    "    xvalues: independent variable\n",
    "    yvalues: dependent variable\n",
    "    \n",
    "R: float\n",
    "    Learning rate\n",
    "    \n",
    "MaxIterations: Int\n",
    "    maximum number of iterations\n",
    "    \n",
    "\n",
    "Returns\n",
    "-------\n",
    "alpha: float\n",
    "    intercept\n",
    "    \n",
    "beta: float\n",
    "    co-efficient\n",
    "\"\"\"\n",
    "def bivariate_ols(xvalues, yvalues, R, MaxIterations):\n",
    "    # initialize the parameters\n",
    "    start_time = time.time()\n",
    "    converged = False\n",
    "    iter = 0\n",
    "    m = len(xvalues) \n",
    "    beta = np.random.random(xvalues.shape[1])\n",
    "\n",
    "    # Iterate Loop\n",
    "    while not converged:\n",
    "        J = xvalues.dot(beta) - yvalues\n",
    "        grad = xvalues.T.dot(J)/m\n",
    "       \n",
    "        # update the theta_temp\n",
    "        temp = beta - R * grad\n",
    "    \n",
    "        if (abs(temp - beta) <= 0.0001).all():\n",
    "            print('Converged at iteration: ', iter)\n",
    "            converged = True\n",
    "    \n",
    "        beta = temp   # update error \n",
    "        iter += 1  # update iter\n",
    "    \n",
    "        if iter == MaxIterations:\n",
    "            print('Max interactions exceeded, did not converge.')\n",
    "            converged = True\n",
    "            \n",
    "    print(\"Time taken: \" + str(round(time.time() - start_time,2)) + \" seconds\")\n",
    "    alpha = beta[-1]\n",
    "    beta = beta[:-1]\n",
    "    return alpha, beta\n",
    "\n",
    "# example function call\n",
    "ones = np.ones(df.shape[0])\n",
    "X = np.concatenate((df,ones[:, None]), axis = 1)\n",
    "X = X[:, (5, -1)]\n",
    "Y = np.array(df['MEDV'])\n",
    "print('When R = 0.01')\n",
    "print(bivariate_ols(X, Y, 0.01, 10000000))\n",
    "\n",
    "print('\\n','When R = 0.02')\n",
    "print(bivariate_ols(X, Y, 0.02, 10000000))\n",
    "\n",
    "print('\\n','When R = 0.001')\n",
    "print(bivariate_ols(X, Y, 0.001, 10000000))"
   ]
  },
  {
   "cell_type": "markdown",
   "metadata": {},
   "source": [
    "*Enter your observations here*\n",
    "\n",
    "The convergence iteration and running time increased as R value decreases (number of iteration increased from 18507 to 122107 while R decreased from 0.02 to 0.001; running time increased from 0.6 sec to 2.41 sec). Smaller learning rate/step size means the amount of change made in each iteration is smaller, which leads to more iterations to reach the same goal.\n"
   ]
  },
  {
   "cell_type": "markdown",
   "metadata": {},
   "source": [
    "### 2.2 Data normalization (done for you!)\n",
    "\n",
    "Soon, you will implement a version of gradient descent that can use an arbitrary number of independent variables. Before doing this, we want to give you some code in case you want to standardize your features."
   ]
  },
  {
   "cell_type": "code",
   "execution_count": 7,
   "metadata": {
    "collapsed": false
   },
   "outputs": [],
   "source": [
    "def standardize(raw_data):\n",
    "    return ((raw_data - np.mean(raw_data, axis = 0)) / np.std(raw_data, axis = 0))"
   ]
  },
  {
   "cell_type": "markdown",
   "metadata": {},
   "source": [
    "### 2.3 Implement gradient descent with an arbitrary number of independent variables\n",
    "\n",
    "Now that you have a simple version of gradient descent working, create a version of gradient descent that can take more than one independent variable.  Assume all independent variables will be continuous.  Test your algorithm using CRIM and RM as independent variables. Standardize these variables before before inputting them to the gradient descent algorithm. \n",
    "\n",
    "As before,  report and interpret your estimated coefficients, the number of iterations before convergence, and the total running time of your algorithm. Experiment with 2-3 different values of R.\n",
    "\n",
    "* *Hint 1: Be careful to implement this efficiently, otherwise it might take a long time for your code to run. Commands like `np.dot` can be a good friend to you on this problem*"
   ]
  },
  {
   "cell_type": "code",
   "execution_count": 8,
   "metadata": {
    "collapsed": false
   },
   "outputs": [
    {
     "name": "stdout",
     "output_type": "stream",
     "text": [
      "When R = 0.001\n",
      "Converged at iteration:  5394\n",
      "Time taken: 0.12 seconds\n",
      "(22.432929691170823, array([-2.26479013,  5.86754342]))\n",
      "\n",
      " When R = 0.01\n",
      "Converged at iteration:  767\n",
      "Time taken: 0.02 seconds\n",
      "(22.522976301102926, array([-2.25145497,  5.89084176]))\n",
      "\n",
      " When R = 0.1\n",
      "Converged at iteration:  95\n",
      "Time taken: 0.0 seconds\n",
      "(22.531933170458924, array([-2.24912505,  5.893868  ]))\n"
     ]
    }
   ],
   "source": [
    "\"\"\"\n",
    "Function\n",
    "--------\n",
    "multivariate_ols\n",
    "    Gradient Decent to minimize OLS. Used to find co-efficients of bivariate OLS Linear regression\n",
    "\n",
    "Parameters\n",
    "----------\n",
    "xvalue_matrix, yvalues : narray\n",
    "    xvalue_matrix: independent variable\n",
    "    yvalues: dependent variable\n",
    "    \n",
    "R: float\n",
    "    Learning rate\n",
    "    \n",
    "MaxIterations: Int\n",
    "    maximum number of iterations\n",
    "    \n",
    "\n",
    "Returns\n",
    "-------\n",
    "alpha: float\n",
    "    intercept\n",
    "    \n",
    "beta_array: array[float]\n",
    "    co-efficient\n",
    "\"\"\"\n",
    "\n",
    "def multivariate_ols(xvalue_matrix, yvalues, R, MaxIterations):\n",
    "    start_time = time.time()\n",
    "    converged = False\n",
    "    iter = 0\n",
    "    m = len(xvalue_matrix) \n",
    "    beta = np.random.random(xvalue_matrix.shape[1])\n",
    "\n",
    "    # Iterate Loop\n",
    "    while not converged:\n",
    "        J = xvalue_matrix.dot(beta) - yvalues\n",
    "        grad = xvalue_matrix.T.dot(J)/m\n",
    "       \n",
    "        # update the theta_temp\n",
    "        temp = beta - R * grad\n",
    "\n",
    "        if (abs(temp - beta) <= 0.0001).all():\n",
    "            print('Converged at iteration: ', iter)\n",
    "            converged = True\n",
    "    \n",
    "        beta = temp   # update error \n",
    "        iter += 1  # update iter\n",
    "    \n",
    "        if iter == MaxIterations:\n",
    "            print('Max interactions exceeded, did not converge.')\n",
    "            converged = True\n",
    "            \n",
    "    print(\"Time taken: \" + str(round(time.time() - start_time,2)) + \" seconds\")\n",
    "    alpha = beta[-1]\n",
    "    beta = beta[:-1]\n",
    "    return alpha, beta\n",
    "\n",
    "X = standardize(bdata.data[:,(0,5)])\n",
    "ones = np.ones(X.shape[0])\n",
    "X = np.concatenate((X,ones[:, None]), axis = 1)\n",
    "Y = bdata.target[:]\n",
    "print('When R = 0.001')\n",
    "print(multivariate_ols(X, Y, 0.001, 100000))\n",
    "\n",
    "print('\\n','When R = 0.01')\n",
    "print(multivariate_ols(X, Y, 0.01, 100000))\n",
    "\n",
    "print('\\n','When R = 0.1')\n",
    "print(multivariate_ols(X, Y, 0.1, 100000))"
   ]
  },
  {
   "cell_type": "markdown",
   "metadata": {},
   "source": [
    "*Enter your observations here*\n",
    "\n",
    "The convergence iteration and running time increased as R value decreases (number of iteration increased from 96 to 5412 while R decreased from 0.1 to 0.001; running time increased from 0.0 sec to 0.22 sec). Smaller learning rate/step size means the amount of change made in each iteration is smaller, which leads to more iterations to reach the same goal."
   ]
  },
  {
   "cell_type": "markdown",
   "metadata": {},
   "source": [
    "### 2.4 Compare standardized vs. non-standardized results\n",
    "\n",
    "Repeat the analysis from 2.3, but this time do not standardize your variables - i.e., use the original data. Use the same three values of R (0.1, 0.01, and 0.001). What do you notice about the running time and convergence properties of your algorithm?"
   ]
  },
  {
   "cell_type": "code",
   "execution_count": 9,
   "metadata": {
    "collapsed": false
   },
   "outputs": [
    {
     "name": "stdout",
     "output_type": "stream",
     "text": [
      "When R = 0.001\n",
      "Converged at iteration:  110273\n",
      "Time taken: 1.95 seconds\n",
      "(-20.375730710956955, array([-0.29163778,  7.0102108 ])) \n",
      "\n",
      "When R = 0.01\n",
      "Converged at iteration:  31347\n",
      "Time taken: 0.59 seconds\n",
      "(-28.409255132595469, array([-0.26480382,  8.25882586])) \n",
      "\n",
      "When R = 0.1\n",
      "Max interactions exceeded, did not converge.\n",
      "Time taken: 19.61 seconds\n",
      "(nan, array([ nan,  nan])) \n",
      "\n"
     ]
    }
   ],
   "source": [
    "# Your code here\n",
    "X = bdata.data[:,(0,5)]\n",
    "ones = np.ones(X.shape[0])\n",
    "X = np.concatenate((X,ones[:, None]), axis = 1)\n",
    "Y = bdata.target[:]\n",
    "print('When R = 0.001')\n",
    "print(multivariate_ols(X, Y, 0.001, 1000000), '\\n')\n",
    "\n",
    "print('When R = 0.01')\n",
    "print(multivariate_ols(X, Y, 0.01, 1000000), '\\n')\n",
    "\n",
    "print('When R = 0.1')\n",
    "print(multivariate_ols(X, Y, 0.1, 1000000), '\\n')"
   ]
  },
  {
   "cell_type": "markdown",
   "metadata": {},
   "source": [
    "*Enter your observations here*\n",
    "\n",
    "Without normalization, the running time became much longer (e.g. when R = 0.001, running time with normalization versus without is 0.11 vs 1.86) and convergence took more iterations to be reached (e.g. when R = 0.001, iteration of convergence with normalization versus without is 5384th vs 108591th)."
   ]
  },
  {
   "cell_type": "markdown",
   "metadata": {},
   "source": [
    "## 3. Prediction\n",
    "\n",
    "Let's use our fitted model to make predictions about housing prices. Since the focus is now on prediction rather than the interpretation of the coefficients, it would be wise for you to first standardize your features before proceeding.\n",
    "\n",
    "### 3.1 Cross-Validation\n",
    "\n",
    "Unless you were careful above, you probably overfit your data again. Let's fix that in one of two ways. If you're feeling confident, use k-fold cross-validation to re-fit the multivariate regression from 2.3 above, and report your estimated coefficients (there should be three, corresponding to the intercept and the two coefficients for CRIM and RM). Or if you want to do the quick and dirty version, randomly divide your data into a training set (66%) and testing set (34%) and use the training set to re-fit the regression from 2.3 above. "
   ]
  },
  {
   "cell_type": "code",
   "execution_count": 10,
   "metadata": {
    "collapsed": false
   },
   "outputs": [
    {
     "name": "stdout",
     "output_type": "stream",
     "text": [
      "Converged at iteration:  5370\n",
      "Time taken: 0.12 seconds\n",
      "(22.459925368517752, array([-2.44824656,  5.90566875]))\n"
     ]
    }
   ],
   "source": [
    "# Your code here\n",
    "from sklearn.model_selection import train_test_split\n",
    "std_bdata = standardize(bdata.data)\n",
    "Xtrain, Xtest, Ytrain, Ytest = train_test_split(std_bdata, bdata.target, test_size = 0.34, random_state=42)\n",
    "X = Xtrain[:,(0,5)]\n",
    "ones = np.ones(X.shape[0])\n",
    "X = np.concatenate((X,ones[:, None]), axis = 1)\n",
    "Y = Ytrain[:]\n",
    "print(multivariate_ols(X, Y, 0.001, 100000))"
   ]
  },
  {
   "cell_type": "markdown",
   "metadata": {},
   "source": [
    "*Discuss your results here*\n",
    "\n",
    "Training on 66% of the dataset produced similar results comparing to using the whole dataset. \n",
    "\n",
    "Using the entire dataset:  (When R = 0.001)\n",
    "\n",
    "(22.432993121063181, array([-2.26143419,  5.8706921 ]))\n",
    "\n",
    "Using just the taining set:\n",
    "\n",
    "(22.459998372857232, array([-2.45425446,  5.90172244]))"
   ]
  },
  {
   "cell_type": "markdown",
   "metadata": {},
   "source": [
    "### 3.2 Predicted values and RMSE\n",
    "\n",
    "Let's figure out how accurate this predictive model turned out to be. Compute the RMSE on your test cases, i.e. take the model parameters that you found above and compare the actual to the predicted values for just the test instances. If you did this the k-fold way above, this will be the average RMSE across the k test sets. If you did this the quick and dirty way above, this will just be the RMSE on your single test set.\n",
    "\n",
    "What is your test RMSE?  How does it compare to the performance of your nearest neighbor algorithm from the last problem set?"
   ]
  },
  {
   "cell_type": "code",
   "execution_count": 11,
   "metadata": {
    "collapsed": false
   },
   "outputs": [
    {
     "data": {
      "text/plain": [
       "5.7700287296345092"
      ]
     },
     "execution_count": 11,
     "metadata": {},
     "output_type": "execute_result"
    }
   ],
   "source": [
    "# Your code here\n",
    "pred = -2.44089124*Xtest[:,0] + 5.91048075*Xtest[:,5] + 22.45981643\n",
    "np.sqrt(((pred - Ytest) ** 2).mean())"
   ]
  },
  {
   "cell_type": "markdown",
   "metadata": {},
   "source": [
    "*Discuss your results here*\n",
    "\n",
    "The test RMSE is 5.77, better (smaller) than the performance of the nearest neighbor algorithm from the last problem set, which was 7.82 before normalization and 9.693 after normalization. I think gradient descent allowed the model to reach global minimun which was not an option with nearest neighbor algorithm."
   ]
  },
  {
   "cell_type": "markdown",
   "metadata": {},
   "source": [
    "## 4 Regularization \n",
    "\n",
    "### 4.1 Get prepped\n",
    "\n",
    "Step 1: Create new interaction variables between each possible pair of the F_s features. If you originally had *K* features, you should now have *K+K^2/2* features. Standardize all of your features.\n",
    "\n",
    "Step 2: For simplicity, generate a single training and testing set.  Randomly sample 66% of your data and call this the training set, and set aside the remaining 34% as your test set."
   ]
  },
  {
   "cell_type": "code",
   "execution_count": 13,
   "metadata": {
    "collapsed": false
   },
   "outputs": [],
   "source": [
    "##Step 1\n",
    "features = pd.DataFrame(bdata.data)\n",
    "features.columns = bdata.feature_names[:]\n",
    "outcome = pd.DataFrame(bdata.target)\n",
    "outcome.columns = ['MEDV']\n",
    "\n",
    "for i in features:\n",
    "    for j in features:\n",
    "        if i != j:\n",
    "            outcome[i+'_'+j] = df[i] * df[j]\n",
    "\n",
    "big = pd.concat([features, outcome], axis=1)\n",
    "big_std = standardize(big.ix[:, big.columns != 'MEDV'])\n",
    "big_std['MEDV'] = big['MEDV']\n",
    "\n",
    "##Step 2\n",
    "big_train, big_test = train_test_split(big_std, test_size = 0.34, random_state=42)\n"
   ]
  },
  {
   "cell_type": "markdown",
   "metadata": {},
   "source": [
    "### 4.2 Let's overfit!\n",
    "Now, using your version of multivariate regression from 2.3, let's overfit the training data. Using your training set, regress housing price on as many of those *K+K/2* features as you can.  If you get too greedy, it's possible this will take a long time to compute, so start with 5-10 features, and if you have the time, add more features.\n",
    "\n",
    "Report the RMSE when you apply your model to your training set and to your testing set. How do these numbers compare to each other, and to the RMSE from 3.2 and nearest neighbors?"
   ]
  },
  {
   "cell_type": "code",
   "execution_count": 14,
   "metadata": {
    "collapsed": false
   },
   "outputs": [
    {
     "name": "stdout",
     "output_type": "stream",
     "text": [
      "Regressed on first 5 features\n",
      "Converged at iteration:  5440\n",
      "Time taken: 0.96 seconds\n",
      "alpha =  22.8263953739 \n",
      "beta =  [-2.01161109  1.02518485 -2.14004196  2.31413609 -1.21866557]\n",
      "RMSE =  10.2597046662 \n",
      "\n",
      "Regressed on first 10 features\n",
      "Converged at iteration:  10651\n",
      "Time taken: 2.59 seconds\n",
      "alpha =  22.5869767362 \n",
      "beta =  [-1.35352758  1.16007025 -0.34531576  1.37152017 -1.35487774  4.92276364\n",
      " -1.65048231 -3.02607223 -0.10377917 -1.21078612]\n",
      "RMSE =  11.1375455495 \n",
      "\n",
      "Regressed on first 20 features\n",
      "Converged at iteration:  12541\n",
      "Time taken: 3.39 seconds\n",
      "alpha =  22.4100948987 \n",
      "beta =  [-0.03678582  0.48038652  0.43133883  0.06084733 -1.961301    2.94305199\n",
      " -0.59502883 -2.84117856  1.13893873 -0.77553548 -1.855002    0.92233092\n",
      " -3.66868561  0.44713247  0.91939807  1.23991895 -0.24356115 -1.13370055\n",
      "  0.33832398 -0.85826012]\n",
      "RMSE =  11.5513912653 \n",
      "\n",
      "Regressed on first 100 features\n",
      "Converged at iteration:  11283\n",
      "Time taken: 3.82 seconds\n",
      "alpha =  22.34616743 \n",
      "beta =  [  1.90786112e-01  -3.21911231e-01   8.54362927e-01   6.53727276e-02\n",
      "  -1.08657434e-02   3.09649190e+00   3.70689211e-01  -4.95490987e-01\n",
      "   1.54844686e+00  -2.95797165e-02  -1.09545964e+00  -7.88424936e-02\n",
      "   7.18523700e-02   5.95508392e-01   1.76877678e-02   1.05868147e+00\n",
      "  -2.93797851e-01  -4.31728078e-01   5.06069637e-01   2.58742314e-02\n",
      "  -3.22756462e-01   3.09984575e-01   7.12280288e-01   1.39428513e-01\n",
      "  -1.54116923e-01   1.88446709e-01  -4.26897730e-01  -2.13769137e-01\n",
      "  -2.11071251e-01   3.49296895e-01  -5.45009841e-02   2.75871432e-02\n",
      "  -1.73921552e-01   2.23216577e-02   4.22650442e-01   1.08834862e-01\n",
      "  -6.69935201e-01  -4.62892981e-02  -3.18689205e-01  -3.45079781e-01\n",
      "   6.90703398e-02   2.20795539e-01   3.05229400e-01  -4.13471267e-01\n",
      "   6.41635728e-01   4.17195296e-01  -2.49906445e-02   4.66186897e-01\n",
      "  -2.07089095e-01   1.19202305e+00   3.85709807e-01   2.23882020e-02\n",
      "  -6.98356287e-01   1.53176835e-01   5.90521747e-01  -2.05582126e-01\n",
      "  -9.14033651e-01  -3.07905960e-01   3.67888281e-01   1.01383719e+00\n",
      "  -1.19867635e+00  -3.57631178e-01   1.46140487e-01   5.31769514e-01\n",
      "  -2.69856674e-01  -2.58228127e-01  -4.31121690e-01  -1.24021827e+00\n",
      "   3.93686914e-01  -8.26506508e-01  -1.23476612e+00  -6.60514153e-01\n",
      "  -4.51656484e-01  -8.99488976e-01   5.72568179e-01  -3.56940588e-01\n",
      "   4.10570868e-01  -9.34145696e-02   1.48184255e-01   9.47596145e-01\n",
      "  -4.41938763e-01  -1.57764532e+00  -2.27527953e-01   1.77039044e+00\n",
      "  -2.55576055e+00  -1.89507987e-01   8.15411281e-03   1.89340799e-01\n",
      "   2.41626614e-03   1.50581358e-02  -1.38696865e-01  -3.76760573e-01\n",
      "   7.21156288e-01  -1.26681917e-01  -2.06412932e-02  -3.81252917e-01\n",
      "  -7.00799256e-01  -7.22394273e-01  -2.77204151e-01  -7.20680821e-01]\n",
      "RMSE =  11.6647755937 \n",
      "\n"
     ]
    }
   ],
   "source": [
    "#first 5 features\n",
    "X = big_train.ix[:, 0:5]\n",
    "ones = np.ones(big_train.shape[0])\n",
    "X = np.concatenate((X,ones[:, None]), axis = 1)\n",
    "Y = big_train['MEDV']\n",
    "print('Regressed on first 5 features')\n",
    "a, b = multivariate_ols(X, Y, 0.001, 100000)\n",
    "print('alpha = ', a, '\\nbeta = ', b)\n",
    "pred = (np.matrix(big_test.ix[:,0:5])) * (np.matrix(b)).T\n",
    "pred = np.array(pred) + a\n",
    "RMSE5 = np.sqrt(((pred - np.array(big_test['MEDV'])) ** 2).mean())\n",
    "print('RMSE = ', RMSE5, '\\n')\n",
    "\n",
    "#first 10 features\n",
    "X = big_train.ix[:, 0:10]\n",
    "ones = np.ones(big_train.shape[0])\n",
    "X = np.concatenate((X,ones[:, None]), axis = 1)\n",
    "Y = big_train['MEDV']\n",
    "print('Regressed on first 10 features')\n",
    "a, b = multivariate_ols(X, Y, 0.001, 100000)\n",
    "print('alpha = ', a, '\\nbeta = ', b)\n",
    "pred = (np.matrix(big_test.ix[:,0:10])) * (np.matrix(b)).T\n",
    "pred = np.array(pred) + a\n",
    "RMSE10 = np.sqrt(((pred - np.array(big_test['MEDV'])) ** 2).mean())\n",
    "print('RMSE = ', RMSE10, '\\n')\n",
    "\n",
    "#first 20 features\n",
    "X = big_train.ix[:, 0:20]\n",
    "ones = np.ones(big_train.shape[0])\n",
    "X = np.concatenate((X,ones[:, None]), axis = 1)\n",
    "Y = big_train['MEDV']\n",
    "print('Regressed on first 20 features')\n",
    "a, b = multivariate_ols(X, Y, 0.001, 100000)\n",
    "print('alpha = ', a, '\\nbeta = ', b)\n",
    "pred = (np.matrix(big_test.ix[:,0:20])) * (np.matrix(b)).T\n",
    "pred = np.array(pred) + a\n",
    "RMSE20 = np.sqrt(((pred - np.array(big_test['MEDV'])) ** 2).mean())\n",
    "print('RMSE = ', RMSE20, '\\n')\n",
    "\n",
    "#first 100 features\n",
    "X = big_train.ix[:, 0:100]\n",
    "ones = np.ones(big_train.shape[0])\n",
    "X = np.concatenate((X,ones[:, None]), axis = 1)\n",
    "Y = big_train['MEDV']\n",
    "print('Regressed on first 100 features')\n",
    "a, b = multivariate_ols(X, Y, 0.001, 100000)\n",
    "print('alpha = ', a, '\\nbeta = ', b)\n",
    "pred = (np.matrix(big_test.ix[:,0:100])) * (np.matrix(b)).T\n",
    "pred = np.array(pred) + a\n",
    "RMSE100 = np.sqrt(((pred - np.array(big_test['MEDV'])) ** 2).mean())\n",
    "print('RMSE = ', RMSE100, '\\n')"
   ]
  },
  {
   "cell_type": "markdown",
   "metadata": {},
   "source": [
    "*Discuss your results here*\n",
    "\n",
    "Adding more features (5 to 100) increased the RMSE from 10.26 to 11.74. Comparing to when only using CRIM and RM as features, the RMSE increased by a large extent (from 5.77 to 10.26 and 11.74). Comparing to the nearest neighbor model which also only used CRIM and RM as features, the RMSE increased from 7.82 {before normalization) and 9.693 (after normalization) to 10.26 through 11.74. I think the increase in caused by introducing little important features which increased the dimensionality but not the prediction accuracy. Thus, the more features included, the higher the RMSE."
   ]
  },
  {
   "cell_type": "markdown",
   "metadata": {},
   "source": [
    "### 4.3 Ridge regularization\n",
    "Incorporate L2 (Ridge) regularization into your multivariate_ols regression. Write a new version of your gradient descent algorithm that includes a regularization term \"lambda\" to penalize excessive complexity. \n",
    "\n",
    "Use your regularized regression to re-fit the model from 3.2 above on your training data. Try this for several different values of lambda, and report your RMSE for each lambda separately for your training and testing data. How do these numbers compare to each other, to the RMSE from 4.2,  to the RMSE from 2.3, and to the RMSE from nearest neighbors?\n",
    "\n",
    "Go brag to your friends about how you just implemented ridge-regularized multivariate regression using gradient descent optimization, from scratch. If you still have friends."
   ]
  },
  {
   "cell_type": "code",
   "execution_count": 15,
   "metadata": {
    "collapsed": false
   },
   "outputs": [
    {
     "name": "stdout",
     "output_type": "stream",
     "text": [
      "When lambda = 0.1\n",
      "Converged at iteration:  5359\n",
      "Time taken: 0.27 seconds\n",
      "(22.453340567994612, array([-2.45432801,  5.90086092]))\n",
      "RMSE =  5.77101194067\n",
      "\n",
      " When lambda = 1\n",
      "Converged at iteration:  5332\n",
      "Time taken: 0.19 seconds\n",
      "(22.393675029923983, array([-2.44266854,  5.89335013]))\n",
      "RMSE =  5.77168549892\n",
      "\n",
      " When lambda = 0.01\n",
      "Converged at iteration:  5389\n",
      "Time taken: 0.14 seconds\n",
      "(22.459269926028377, array([-2.44180617,  5.90845078]))\n",
      "RMSE =  5.77029645113\n",
      "\n",
      " When lambda = 10\n",
      "Converged at iteration:  5203\n",
      "Time taken: 0.11 seconds\n",
      "(21.813777313140459, array([-2.40647596,  5.7917622 ]))\n",
      "RMSE =  5.8017490785\n"
     ]
    }
   ],
   "source": [
    "# Your code here\n",
    "def multivariate_ols_ridge(xvalue_matrix, yvalues, lamda, R, MaxIterations=100000):\n",
    "    start_time = time.time()\n",
    "    converged = False\n",
    "    iter = 0\n",
    "    m = len(xvalue_matrix) \n",
    "    beta = np.random.random(xvalue_matrix.shape[1])\n",
    "\n",
    "    # Iterate Loop\n",
    "    while not converged:\n",
    "        J = xvalue_matrix.dot(beta) - yvalues\n",
    "        grad = xvalue_matrix.T.dot(J) + lamda * beta\n",
    "       \n",
    "        # update the theta_temp\n",
    "        temp = beta - R * grad/m\n",
    "\n",
    "        if (abs(temp - beta) <= 0.0001).all():\n",
    "            print('Converged at iteration: ', iter)\n",
    "            converged = True\n",
    "    \n",
    "        beta = temp   # update error \n",
    "        iter += 1  # update iter\n",
    "    \n",
    "        if iter == MaxIterations:\n",
    "            print('Max interactions exceeded, did not converge.')\n",
    "            converged = True\n",
    "            \n",
    "    print(\"Time taken: \" + str(round(time.time() - start_time,2)) + \" seconds\")\n",
    "    alpha = beta[-1]\n",
    "    beta = beta[:-1]\n",
    "    return alpha, beta\n",
    "\n",
    "\n",
    "std_bdata = standardize(bdata.data)\n",
    "Xtrain, Xtest, Ytrain, Ytest = train_test_split(std_bdata, bdata.target, test_size = 0.34, random_state=42)\n",
    "X = Xtrain[:,(0,5)]\n",
    "ones = np.ones(X.shape[0])\n",
    "X = np.concatenate((X,ones[:, None]), axis = 1)\n",
    "Y = Ytrain[:]\n",
    "print('When lambda = 0.1')\n",
    "print(multivariate_ols_ridge(X, Y, 0.1, 0.001, 100000))\n",
    "pred = -2.45200156*Xtest[:,0] + 5.90295582*Xtest[:,5] + 22.453244444084891\n",
    "print('RMSE = ', np.sqrt(((pred - Ytest) ** 2).mean()))\n",
    "\n",
    "print(\"\\n\", 'When lambda = 1')\n",
    "print(multivariate_ols_ridge(X, Y, 1, 0.001, 100000))\n",
    "pred = -2.45651429*Xtest[:,0] + 5.88695804*Xtest[:,5] + 22.393691682381704\n",
    "print('RMSE = ', np.sqrt(((pred - Ytest) ** 2).mean()))\n",
    "\n",
    "print(\"\\n\", 'When lambda = 0.01')\n",
    "print(multivariate_ols_ridge(X, Y, 0.01, 0.001, 100000))\n",
    "pred = -2.44387942*Xtest[:,0] + 5.90891932*Xtest[:,5] + 22.459177766203517\n",
    "print('RMSE = ', np.sqrt(((pred - Ytest) ** 2).mean()))\n",
    "\n",
    "print(\"\\n\", 'When lambda = 10')\n",
    "print(multivariate_ols_ridge(X, Y, 10, 0.001, 100000))\n",
    "pred = -2.40869855*Xtest[:,0] + 5.79118048*Xtest[:,5] + 21.813659904385176\n",
    "print('RMSE = ', np.sqrt(((pred - Ytest) ** 2).mean()))"
   ]
  },
  {
   "cell_type": "markdown",
   "metadata": {},
   "source": [
    "*Discuss your results here*\n",
    "\n",
    "I changed the lambda value from 0.01, 0.1, 1 and 10, the changes in RMSE were minimal. The smallest RMSE is 5.7702 corresponding to lambda equals to 0.01. Comparing to the RMSE (which is around 11) from 4.2, RMSE is drastically smaller. I think because in 4.2, I included more features that are less important, they increased the dimensionality but also error rates. Comparing to the RMSE from 2.3 which is 5.770, the RMSE after ridge regularization, 5.7702, is actually a little bit bigger. I think it's because there are only two features fitted and they are both relatively important so regularization is not really necessary. Comparing to the RMSE from nearest neighbors, 7.82 before normalization and 9.693 after normalization, using gradient descent decreased the RMSE to 5.77."
   ]
  }
 ],
 "metadata": {
  "kernelspec": {
   "display_name": "Python 3",
   "language": "python",
   "name": "python3"
  },
  "language_info": {
   "codemirror_mode": {
    "name": "ipython",
    "version": 3
   },
   "file_extension": ".py",
   "mimetype": "text/x-python",
   "name": "python",
   "nbconvert_exporter": "python",
   "pygments_lexer": "ipython3",
   "version": "3.6.0"
  }
 },
 "nbformat": 4,
 "nbformat_minor": 0
}
