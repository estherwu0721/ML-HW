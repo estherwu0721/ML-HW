{
 "cells": [
  {
   "cell_type": "markdown",
   "metadata": {},
   "source": [
    "# Problem Set 1, due January 13th at 12:00pm \n",
    "(in other words, it is due at noon, or one minute after 11:59am).\n",
    "\n",
    "###Before You Start\n",
    "Make sure to at least take a basic tutorial in the IPython notebook, otherwise you'll be totally lost.  For this problem set, you should download INFX574-PS1.ipynb and the flights.zip dataset from Canvas. Create a local copy of the notebook and rename it LASTNAME_FIRSTNAME-PS1.ipynb. Then edit your renamed file directly in your browser by typing:\n",
    "```\n",
    "ipython notebook <name_of_downloaded_file>\n",
    "```\n",
    "\n",
    "You should also make sure the following libraries load correctly (click on the box below and hit Ctrl-Enter)"
   ]
  },
  {
   "cell_type": "code",
   "execution_count": null,
   "metadata": {
    "collapsed": true
   },
   "outputs": [],
   "source": [
    "#Name: Shuyang Wu\n",
    "#Date: 1/13/2017\n",
    "#Section: C"
   ]
  },
  {
   "cell_type": "code",
   "execution_count": 2,
   "metadata": {
    "collapsed": false
   },
   "outputs": [
    {
     "name": "stdout",
     "output_type": "stream",
     "text": [
      "IPython version:       4.1.2 (need at least 1.0)\n",
      "Numpy version:        1.10.4 (need at least 1.7.1)\n",
      "SciPy version:        0.17.0 (need at least 0.12.0)\n",
      "Pandas version:       0.18.0 (need at least 0.11.0)\n",
      "Mapltolib version:     1.5.1 (need at least 1.2.1)\n",
      "Scikit-Learn version: 0.17.1 (need at least 0.13.1)\n"
     ]
    }
   ],
   "source": [
    "#IPython is what you are using now to run the notebook\n",
    "import IPython\n",
    "print (\"IPython version:      %6.6s (need at least 1.0)\" % IPython.__version__)\n",
    "\n",
    "# Numpy is a library for working with Arrays\n",
    "import numpy as np\n",
    "print (\"Numpy version:        %6.6s (need at least 1.7.1)\" % np.__version__)\n",
    "\n",
    "# SciPy implements many different numerical algorithms\n",
    "import scipy as sp\n",
    "print (\"SciPy version:        %6.6s (need at least 0.12.0)\" % sp.__version__)\n",
    "\n",
    "# Pandas makes working with data tables easier\n",
    "import pandas as pd\n",
    "print (\"Pandas version:       %6.6s (need at least 0.11.0)\" % pd.__version__)\n",
    "\n",
    "# Module for plotting\n",
    "import matplotlib\n",
    "print (\"Mapltolib version:    %6.6s (need at least 1.2.1)\" % matplotlib.__version__)\n",
    "\n",
    "# SciKit Learn implements several Machine Learning algorithms\n",
    "import sklearn\n",
    "print (\"Scikit-Learn version: %6.6s (need at least 0.13.1)\" % sklearn.__version__)"
   ]
  },
  {
   "cell_type": "markdown",
   "metadata": {},
   "source": [
    "##About the Problem Set: \n",
    "This is the same problem set used by Emma Spiro in INFX573. The only difference is that instead of doing the problem set in R, you will use Python and the IPython notebook.\n",
    "\n",
    "##Instructions: \n",
    "In this problem set you will perform a basic exploratory analysis on an example dataset, bringing to bear all of your new skills in data manipulation and visualization. You will be required to submit well commented python code, documenting all code used in this problem set, along with a write up answering all questions below. Use figures as appropriate to support your answers, and when required by the problem. \n",
    "This data set uses the NYCFlights13 dataset. You can download the dataset from canvas."
   ]
  },
  {
   "cell_type": "code",
   "execution_count": 3,
   "metadata": {
    "collapsed": false
   },
   "outputs": [],
   "source": [
    "import pandas as pd\n",
    "import numpy as np\n",
    "import matplotlib.pyplot as plt"
   ]
  },
  {
   "cell_type": "code",
   "execution_count": 119,
   "metadata": {
    "collapsed": false
   },
   "outputs": [],
   "source": [
    "flights_df= pd.read_csv('~/Downloads/flights.csv')"
   ]
  },
  {
   "cell_type": "code",
   "execution_count": 5,
   "metadata": {
    "collapsed": false
   },
   "outputs": [
    {
     "name": "stdout",
     "output_type": "stream",
     "text": [
      "(336776, 17)\n",
      "Index(['Unnamed: 0', 'year', 'month', 'day', 'dep_time', 'dep_delay',\n",
      "       'arr_time', 'arr_delay', 'carrier', 'tailnum', 'flight', 'origin',\n",
      "       'dest', 'air_time', 'distance', 'hour', 'minute'],\n",
      "      dtype='object')\n",
      "Unnamed: 0      int64\n",
      "year            int64\n",
      "month           int64\n",
      "day             int64\n",
      "dep_time      float64\n",
      "dep_delay     float64\n",
      "arr_time      float64\n",
      "arr_delay     float64\n",
      "carrier        object\n",
      "tailnum        object\n",
      "flight          int64\n",
      "origin         object\n",
      "dest           object\n",
      "air_time      float64\n",
      "distance        int64\n",
      "hour          float64\n",
      "minute        float64\n",
      "dtype: object\n"
     ]
    }
   ],
   "source": [
    "print (flights_df.shape)\n",
    "print (flights_df.columns)\n",
    "print (flights_df.dtypes)"
   ]
  },
  {
   "cell_type": "code",
   "execution_count": 6,
   "metadata": {
    "collapsed": false
   },
   "outputs": [
    {
     "data": {
      "text/html": [
       "<div>\n",
       "<table border=\"1\" class=\"dataframe\">\n",
       "  <thead>\n",
       "    <tr style=\"text-align: right;\">\n",
       "      <th></th>\n",
       "      <th>Unnamed: 0</th>\n",
       "      <th>year</th>\n",
       "      <th>month</th>\n",
       "      <th>day</th>\n",
       "      <th>dep_time</th>\n",
       "      <th>dep_delay</th>\n",
       "      <th>arr_time</th>\n",
       "      <th>arr_delay</th>\n",
       "      <th>carrier</th>\n",
       "      <th>tailnum</th>\n",
       "      <th>flight</th>\n",
       "      <th>origin</th>\n",
       "      <th>dest</th>\n",
       "      <th>air_time</th>\n",
       "      <th>distance</th>\n",
       "      <th>hour</th>\n",
       "      <th>minute</th>\n",
       "    </tr>\n",
       "  </thead>\n",
       "  <tbody>\n",
       "    <tr>\n",
       "      <th>0</th>\n",
       "      <td>1</td>\n",
       "      <td>2013</td>\n",
       "      <td>1</td>\n",
       "      <td>1</td>\n",
       "      <td>517.0</td>\n",
       "      <td>2.0</td>\n",
       "      <td>830.0</td>\n",
       "      <td>11.0</td>\n",
       "      <td>UA</td>\n",
       "      <td>N14228</td>\n",
       "      <td>1545</td>\n",
       "      <td>EWR</td>\n",
       "      <td>IAH</td>\n",
       "      <td>227.0</td>\n",
       "      <td>1400</td>\n",
       "      <td>5.0</td>\n",
       "      <td>17.0</td>\n",
       "    </tr>\n",
       "    <tr>\n",
       "      <th>1</th>\n",
       "      <td>2</td>\n",
       "      <td>2013</td>\n",
       "      <td>1</td>\n",
       "      <td>1</td>\n",
       "      <td>533.0</td>\n",
       "      <td>4.0</td>\n",
       "      <td>850.0</td>\n",
       "      <td>20.0</td>\n",
       "      <td>UA</td>\n",
       "      <td>N24211</td>\n",
       "      <td>1714</td>\n",
       "      <td>LGA</td>\n",
       "      <td>IAH</td>\n",
       "      <td>227.0</td>\n",
       "      <td>1416</td>\n",
       "      <td>5.0</td>\n",
       "      <td>33.0</td>\n",
       "    </tr>\n",
       "    <tr>\n",
       "      <th>2</th>\n",
       "      <td>3</td>\n",
       "      <td>2013</td>\n",
       "      <td>1</td>\n",
       "      <td>1</td>\n",
       "      <td>542.0</td>\n",
       "      <td>2.0</td>\n",
       "      <td>923.0</td>\n",
       "      <td>33.0</td>\n",
       "      <td>AA</td>\n",
       "      <td>N619AA</td>\n",
       "      <td>1141</td>\n",
       "      <td>JFK</td>\n",
       "      <td>MIA</td>\n",
       "      <td>160.0</td>\n",
       "      <td>1089</td>\n",
       "      <td>5.0</td>\n",
       "      <td>42.0</td>\n",
       "    </tr>\n",
       "    <tr>\n",
       "      <th>3</th>\n",
       "      <td>4</td>\n",
       "      <td>2013</td>\n",
       "      <td>1</td>\n",
       "      <td>1</td>\n",
       "      <td>544.0</td>\n",
       "      <td>-1.0</td>\n",
       "      <td>1004.0</td>\n",
       "      <td>-18.0</td>\n",
       "      <td>B6</td>\n",
       "      <td>N804JB</td>\n",
       "      <td>725</td>\n",
       "      <td>JFK</td>\n",
       "      <td>BQN</td>\n",
       "      <td>183.0</td>\n",
       "      <td>1576</td>\n",
       "      <td>5.0</td>\n",
       "      <td>44.0</td>\n",
       "    </tr>\n",
       "    <tr>\n",
       "      <th>4</th>\n",
       "      <td>5</td>\n",
       "      <td>2013</td>\n",
       "      <td>1</td>\n",
       "      <td>1</td>\n",
       "      <td>554.0</td>\n",
       "      <td>-6.0</td>\n",
       "      <td>812.0</td>\n",
       "      <td>-25.0</td>\n",
       "      <td>DL</td>\n",
       "      <td>N668DN</td>\n",
       "      <td>461</td>\n",
       "      <td>LGA</td>\n",
       "      <td>ATL</td>\n",
       "      <td>116.0</td>\n",
       "      <td>762</td>\n",
       "      <td>5.0</td>\n",
       "      <td>54.0</td>\n",
       "    </tr>\n",
       "    <tr>\n",
       "      <th>5</th>\n",
       "      <td>6</td>\n",
       "      <td>2013</td>\n",
       "      <td>1</td>\n",
       "      <td>1</td>\n",
       "      <td>554.0</td>\n",
       "      <td>-4.0</td>\n",
       "      <td>740.0</td>\n",
       "      <td>12.0</td>\n",
       "      <td>UA</td>\n",
       "      <td>N39463</td>\n",
       "      <td>1696</td>\n",
       "      <td>EWR</td>\n",
       "      <td>ORD</td>\n",
       "      <td>150.0</td>\n",
       "      <td>719</td>\n",
       "      <td>5.0</td>\n",
       "      <td>54.0</td>\n",
       "    </tr>\n",
       "    <tr>\n",
       "      <th>6</th>\n",
       "      <td>7</td>\n",
       "      <td>2013</td>\n",
       "      <td>1</td>\n",
       "      <td>1</td>\n",
       "      <td>555.0</td>\n",
       "      <td>-5.0</td>\n",
       "      <td>913.0</td>\n",
       "      <td>19.0</td>\n",
       "      <td>B6</td>\n",
       "      <td>N516JB</td>\n",
       "      <td>507</td>\n",
       "      <td>EWR</td>\n",
       "      <td>FLL</td>\n",
       "      <td>158.0</td>\n",
       "      <td>1065</td>\n",
       "      <td>5.0</td>\n",
       "      <td>55.0</td>\n",
       "    </tr>\n",
       "    <tr>\n",
       "      <th>7</th>\n",
       "      <td>8</td>\n",
       "      <td>2013</td>\n",
       "      <td>1</td>\n",
       "      <td>1</td>\n",
       "      <td>557.0</td>\n",
       "      <td>-3.0</td>\n",
       "      <td>709.0</td>\n",
       "      <td>-14.0</td>\n",
       "      <td>EV</td>\n",
       "      <td>N829AS</td>\n",
       "      <td>5708</td>\n",
       "      <td>LGA</td>\n",
       "      <td>IAD</td>\n",
       "      <td>53.0</td>\n",
       "      <td>229</td>\n",
       "      <td>5.0</td>\n",
       "      <td>57.0</td>\n",
       "    </tr>\n",
       "    <tr>\n",
       "      <th>8</th>\n",
       "      <td>9</td>\n",
       "      <td>2013</td>\n",
       "      <td>1</td>\n",
       "      <td>1</td>\n",
       "      <td>557.0</td>\n",
       "      <td>-3.0</td>\n",
       "      <td>838.0</td>\n",
       "      <td>-8.0</td>\n",
       "      <td>B6</td>\n",
       "      <td>N593JB</td>\n",
       "      <td>79</td>\n",
       "      <td>JFK</td>\n",
       "      <td>MCO</td>\n",
       "      <td>140.0</td>\n",
       "      <td>944</td>\n",
       "      <td>5.0</td>\n",
       "      <td>57.0</td>\n",
       "    </tr>\n",
       "    <tr>\n",
       "      <th>9</th>\n",
       "      <td>10</td>\n",
       "      <td>2013</td>\n",
       "      <td>1</td>\n",
       "      <td>1</td>\n",
       "      <td>558.0</td>\n",
       "      <td>-2.0</td>\n",
       "      <td>753.0</td>\n",
       "      <td>8.0</td>\n",
       "      <td>AA</td>\n",
       "      <td>N3ALAA</td>\n",
       "      <td>301</td>\n",
       "      <td>LGA</td>\n",
       "      <td>ORD</td>\n",
       "      <td>138.0</td>\n",
       "      <td>733</td>\n",
       "      <td>5.0</td>\n",
       "      <td>58.0</td>\n",
       "    </tr>\n",
       "  </tbody>\n",
       "</table>\n",
       "</div>"
      ],
      "text/plain": [
       "   Unnamed: 0  year  month  day  dep_time  dep_delay  arr_time  arr_delay  \\\n",
       "0           1  2013      1    1     517.0        2.0     830.0       11.0   \n",
       "1           2  2013      1    1     533.0        4.0     850.0       20.0   \n",
       "2           3  2013      1    1     542.0        2.0     923.0       33.0   \n",
       "3           4  2013      1    1     544.0       -1.0    1004.0      -18.0   \n",
       "4           5  2013      1    1     554.0       -6.0     812.0      -25.0   \n",
       "5           6  2013      1    1     554.0       -4.0     740.0       12.0   \n",
       "6           7  2013      1    1     555.0       -5.0     913.0       19.0   \n",
       "7           8  2013      1    1     557.0       -3.0     709.0      -14.0   \n",
       "8           9  2013      1    1     557.0       -3.0     838.0       -8.0   \n",
       "9          10  2013      1    1     558.0       -2.0     753.0        8.0   \n",
       "\n",
       "  carrier tailnum  flight origin dest  air_time  distance  hour  minute  \n",
       "0      UA  N14228    1545    EWR  IAH     227.0      1400   5.0    17.0  \n",
       "1      UA  N24211    1714    LGA  IAH     227.0      1416   5.0    33.0  \n",
       "2      AA  N619AA    1141    JFK  MIA     160.0      1089   5.0    42.0  \n",
       "3      B6  N804JB     725    JFK  BQN     183.0      1576   5.0    44.0  \n",
       "4      DL  N668DN     461    LGA  ATL     116.0       762   5.0    54.0  \n",
       "5      UA  N39463    1696    EWR  ORD     150.0       719   5.0    54.0  \n",
       "6      B6  N516JB     507    EWR  FLL     158.0      1065   5.0    55.0  \n",
       "7      EV  N829AS    5708    LGA  IAD      53.0       229   5.0    57.0  \n",
       "8      B6  N593JB      79    JFK  MCO     140.0       944   5.0    57.0  \n",
       "9      AA  N3ALAA     301    LGA  ORD     138.0       733   5.0    58.0  "
      ]
     },
     "execution_count": 6,
     "metadata": {},
     "output_type": "execute_result"
    }
   ],
   "source": [
    "flights_df.dest.unique()\n",
    "flights_df.head(10)"
   ]
  },
  {
   "cell_type": "markdown",
   "metadata": {},
   "source": [
    "##Some Tips\n",
    "\n",
    "* This assignment involves extensive Data frame splitting and aggregation. You should look into the details of the methods groupby, transform, sum, count, mean etc\n",
    "* Many of the tasks in the assignment can be done either through the Pandas Data Frame or by converting the data frames to Series. Many of the methods in the numpy are applicable to Series only. When stuck, try to explore the type of object (Pandas Data Frame or Numpy Series) you are dealing with."
   ]
  },
  {
   "cell_type": "markdown",
   "metadata": {},
   "source": [
    "##Question 1\n",
    "Let’s explore flights from NYC to Seattle. Use the flights dataset to answer the following questions.\n",
    "\n",
    "(a) How many flights were there from NYC airports to Seattle in 2013?"
   ]
  },
  {
   "cell_type": "code",
   "execution_count": 11,
   "metadata": {
    "collapsed": false
   },
   "outputs": [
    {
     "name": "stdout",
     "output_type": "stream",
     "text": [
      "Number of flights from NYC to SEA:  66691\n"
     ]
    }
   ],
   "source": [
    "# Your code here\n",
    "sea = flights_df[flights_df[\"dest\"] == \"SEA\"]\n",
    "print(\"Number of flights from NYC to SEA: \", sea.size)"
   ]
  },
  {
   "cell_type": "markdown",
   "metadata": {},
   "source": [
    " -- Write your answer in English here -- \n",
    " \n",
    " There were 66691 flights from NYC airports to Seattle in 2013."
   ]
  },
  {
   "cell_type": "markdown",
   "metadata": {},
   "source": [
    "(b) How many airlines fly from NYC to Seattle?"
   ]
  },
  {
   "cell_type": "code",
   "execution_count": 15,
   "metadata": {
    "collapsed": false
   },
   "outputs": [
    {
     "data": {
      "text/plain": [
       "5"
      ]
     },
     "execution_count": 15,
     "metadata": {},
     "output_type": "execute_result"
    }
   ],
   "source": [
    "# Your code here\n",
    "sea.carrier.nunique()"
   ]
  },
  {
   "cell_type": "markdown",
   "metadata": {},
   "source": [
    " -- Write your answer in English here -- \n",
    " \n",
    " 5 different airlines fly from NYC to Seattle"
   ]
  },
  {
   "cell_type": "markdown",
   "metadata": {},
   "source": [
    "(c) How many unique air planes fly from NYC to Seattle?"
   ]
  },
  {
   "cell_type": "code",
   "execution_count": 23,
   "metadata": {
    "collapsed": false
   },
   "outputs": [
    {
     "data": {
      "text/plain": [
       "166"
      ]
     },
     "execution_count": 23,
     "metadata": {},
     "output_type": "execute_result"
    }
   ],
   "source": [
    "# Your code here\n",
    "sea.groupby(\"carrier\").flight.nunique().sum()"
   ]
  },
  {
   "cell_type": "markdown",
   "metadata": {},
   "source": [
    " -- Write your answer in English here -- \n",
    " \n",
    " There were 166 unique airplanes flew from NYC to Seattle."
   ]
  },
  {
   "cell_type": "markdown",
   "metadata": {},
   "source": [
    "(d) What is the average arrival delay for flights from NC to Seattle?"
   ]
  },
  {
   "cell_type": "code",
   "execution_count": 29,
   "metadata": {
    "collapsed": false
   },
   "outputs": [
    {
     "data": {
      "text/plain": [
       "-1.0990990990990992"
      ]
     },
     "execution_count": 29,
     "metadata": {},
     "output_type": "execute_result"
    }
   ],
   "source": [
    "# Your code here\n",
    "sea.arr_delay.mean()"
   ]
  },
  {
   "cell_type": "markdown",
   "metadata": {},
   "source": [
    " -- Write your answer in English here -- \n",
    " \n",
    " The average arrival delay for flights from NYC to Seattle was about -1.1 minutes."
   ]
  },
  {
   "cell_type": "markdown",
   "metadata": {},
   "source": [
    "(e) What proportion of flights to Seattle come from each NYC airport?"
   ]
  },
  {
   "cell_type": "code",
   "execution_count": 37,
   "metadata": {
    "collapsed": false
   },
   "outputs": [
    {
     "data": {
      "text/plain": [
       "origin\n",
       "EWR    0.466735\n",
       "JFK    0.533265\n",
       "dtype: float64"
      ]
     },
     "execution_count": 37,
     "metadata": {},
     "output_type": "execute_result"
    }
   ],
   "source": [
    "# Your code here\n",
    "sea.groupby(\"origin\").size()/(sea.origin.size)"
   ]
  },
  {
   "cell_type": "markdown",
   "metadata": {},
   "source": [
    " -- Write your answer in English here -- \n",
    " \n",
    " 46.7% of flights came from EWR airport, 53.3% of flights came from JFK airport."
   ]
  },
  {
   "cell_type": "markdown",
   "metadata": {},
   "source": [
    "## Question 2 (two ways of answering per question)\n",
    "Flights are often delayed. Consider the following questions exploring delay patterns.\n",
    "\n",
    "(a) Which date has the largest average departure delay? Which date has the largest average arrival delay?"
   ]
  },
  {
   "cell_type": "code",
   "execution_count": 67,
   "metadata": {
    "collapsed": false
   },
   "outputs": [
    {
     "name": "stdout",
     "output_type": "stream",
     "text": [
      "(2013, 3, 8)\n",
      "(2013, 3, 8)\n",
      "(2013, 3, 8)\n",
      "(2013, 3, 8)\n"
     ]
    }
   ],
   "source": [
    "#First approach\n",
    "ave_dep = flights_df.groupby([\"year\",\"month\",\"day\"]).dep_delay.mean() #groupby date, get the mean delay for each date\n",
    "print(ave_dep.idxmax()) #get the index of the max value\n",
    "ave_arr = flights_df.groupby([\"year\",\"month\",\"day\"]).arr_delay.mean()\n",
    "print(ave_arr.idxmax())\n",
    "\n",
    "#Second approach\n",
    "ave_dep1 = flights_df.groupby([\"year\",\"month\",\"day\"]).dep_delay.mean()\n",
    "print(ave_dep1.sort_values().index[-1]) #sort in ascending order, then get the index of the last element\n",
    "ave_arr1 = flights_df.groupby([\"year\",\"month\",\"day\"]).arr_delay.mean()\n",
    "print(ave_arr1.sort_values().index[-1])"
   ]
  },
  {
   "cell_type": "markdown",
   "metadata": {},
   "source": [
    " -- Write your answer in English here -- \n",
    " \n",
    " 2013/3/8 had both the largest average departure delay and arrival delay."
   ]
  },
  {
   "cell_type": "markdown",
   "metadata": {},
   "source": [
    "(b) What was the worst day to fly out of NYC in 2013 if you dislike delayed flights?\n"
   ]
  },
  {
   "cell_type": "code",
   "execution_count": null,
   "metadata": {
    "collapsed": false
   },
   "outputs": [],
   "source": [
    "# Same as question 2(a)\n",
    "#First approach\n",
    "ave_dep = flights_df.groupby([\"year\",\"month\",\"day\"]).dep_delay.mean() #groupby date, get the mean delay for each date\n",
    "print(ave_dep.idxmax()) #get the index of the max value\n",
    "ave_arr = flights_df.groupby([\"year\",\"month\",\"day\"]).arr_delay.mean()\n",
    "print(ave_arr.idxmax())\n",
    "\n",
    "#Second approach\n",
    "ave_dep1 = flights_df.groupby([\"year\",\"month\",\"day\"]).dep_delay.mean()\n",
    "print(ave_dep1.sort_values().index[-1]) #sort in ascending order, then get the index of the last element\n",
    "ave_arr1 = flights_df.groupby([\"year\",\"month\",\"day\"]).arr_delay.mean()\n",
    "print(ave_arr1.sort_values().index[-1])"
   ]
  },
  {
   "cell_type": "markdown",
   "metadata": {},
   "source": [
    " -- Write your answer in English here -- \n",
    " 2013/3/8 was the worst day to fly out of NYC if you dislike delayed flights."
   ]
  },
  {
   "cell_type": "markdown",
   "metadata": {},
   "source": [
    "(c) Are there any seasonal patterns in departure delays for flights from NYC?"
   ]
  },
  {
   "cell_type": "code",
   "execution_count": 145,
   "metadata": {
    "collapsed": false
   },
   "outputs": [
    {
     "name": "stdout",
     "output_type": "stream",
     "text": [
      "season\n",
      "Fall       6.136711\n",
      "Spring    13.380705\n",
      "Summer    18.334437\n",
      "Winter    12.569983\n",
      "Name: dep_delay, dtype: float64\n",
      "winter    10.036665\n",
      "winter    10.816843\n",
      "spring    13.227076\n",
      "spring    13.938038\n",
      "spring    12.986859\n",
      "summer    20.846332\n",
      "summer    21.727787\n",
      "summer    12.611040\n",
      "fall       6.722476\n",
      "fall       6.243988\n",
      "fall       5.435362\n",
      "winter    16.576688\n",
      "Name: dep_delay, dtype: float64\n"
     ]
    }
   ],
   "source": [
    "# Your code here\n",
    "#First Approach\n",
    "#Assign seasons to months\n",
    "flights_df['season'] = pd.Series(np.random.randn(len(flights_df[\"month\"])), index=flights_df.index)\n",
    "flights_df.loc[(flights_df[\"month\"] == 12)| (flights_df[\"month\"] == 1)|(flights_df[\"month\"] == 2), [\"season\"]] = \"Winter\"\n",
    "flights_df.loc[(flights_df[\"month\"] == 3) | (flights_df[\"month\"] == 4)|(flights_df[\"month\"] == 5), [\"season\"]] = \"Spring\"\n",
    "flights_df.loc[(flights_df[\"month\"] == 6) | (flights_df[\"month\"] == 7) |(flights_df[\"month\"] == 8), [\"season\"]] = \"Summer\"\n",
    "flights_df.loc[(flights_df[\"month\"] == 9) | (flights_df[\"month\"] == 10) | (flights_df[\"month\"] == 11), [\"season\"]] = \"Fall\"\n",
    "#groupby seasons\n",
    "print(flights_df.groupby(\"season\").dep_delay.mean())\n",
    "\n",
    "#Second Approach\n",
    "#groupby months\n",
    "mon_delay = flights_df.groupby(\"month\").dep_delay.mean()\n",
    "index = ['winter', 'winter','spring', 'spring', 'spring', 'summer', 'summer', 'summer', 'fall', 'fall','fall', 'winter']\n",
    "#reindexing months into seasons\n",
    "mon_delay.index = (index)\n",
    "print(mon_delay)\n",
    "#show pattern\n",
    "mon_delay.plot()\n",
    "plt.show()"
   ]
  },
  {
   "cell_type": "markdown",
   "metadata": {},
   "source": [
    " -- Write your answer in English here -- \n",
    " \n",
    " Summer tends to have the longest delay time which was 18 minutes on average.\n",
    " Fall tends to have the shortest delay time which was 6 minutes on average."
   ]
  },
  {
   "cell_type": "markdown",
   "metadata": {},
   "source": [
    "(d) On average, how do departure delays vary over the course of a day?"
   ]
  },
  {
   "cell_type": "code",
   "execution_count": 154,
   "metadata": {
    "collapsed": false
   },
   "outputs": [
    {
     "data": {
      "text/plain": [
       "m/n\n",
       "Afternoon    13.035694\n",
       "Evening      35.786907\n",
       "Morning       2.788139\n",
       "Night        16.764357\n",
       "Name: dep_delay, dtype: float64"
      ]
     },
     "execution_count": 154,
     "metadata": {},
     "output_type": "execute_result"
    }
   ],
   "source": [
    "# Your code here\n",
    "#First Approach, use line plot to show pattern\n",
    "timevsdelay = flights_df.groupby(\"dep_time\").dep_delay.mean()\n",
    "np.corrcoef(timevsdelay.index,timevsdelay.values) #correlation coefficient between time of the day and delay\n",
    "timevsdelay.plot(kind = \"line\")\n",
    "plt.show()\n",
    "\n",
    "#Second Approach\n",
    "#categorize time of a day\n",
    "flights_df['m/n'] = pd.Series(np.nan, index=flights_df.index)\n",
    "flights_df.loc[(flights_df[\"hour\"] >= 6.0)&(flights_df[\"hour\"] <= 12.0), [\"m/n\"]] = \"Morning\"\n",
    "flights_df.loc[(flights_df[\"hour\"] >= 13.0)&(flights_df[\"hour\"] <= 18.0), [\"m/n\"]] = \"Afternoon\"\n",
    "flights_df.loc[(flights_df[\"hour\"] >= 19.0)&(flights_df[\"hour\"] <= 23.0), [\"m/n\"]] = \"Evening\"\n",
    "flights_df.loc[(flights_df[\"hour\"] >= 24.0)|(flights_df[\"hour\"] <= 5.0), [\"m/n\"]] = \"Night\"\n",
    "flights_df.groupby(\"m/n\").dep_delay.mean()"
   ]
  },
  {
   "cell_type": "markdown",
   "metadata": {},
   "source": [
    " -- Write your answer in English here -- \n",
    " \n",
    "Departure delays on average tend to be much higher during the evenings (7pm - 11pm, highest) and nights, with a sudden decrease before 5 am. Mornings have very small mean delay time, 2.7 minutes.\n"
   ]
  },
  {
   "cell_type": "markdown",
   "metadata": {},
   "source": [
    "## Question 3\n",
    "    Which flight departing NYC in 2013 flew the fastest?"
   ]
  },
  {
   "cell_type": "code",
   "execution_count": 88,
   "metadata": {
    "collapsed": false
   },
   "outputs": [
    {
     "name": "stdout",
     "output_type": "stream",
     "text": [
      "DL\n",
      "1919\n"
     ]
    }
   ],
   "source": [
    "# Your code here\n",
    "print(flights_df[\"carrier\"][flights_df.air_time.min()])\n",
    "print(flights_df[\"flight\"][flights_df.air_time.min()])"
   ]
  },
  {
   "cell_type": "markdown",
   "metadata": {},
   "source": [
    " -- Write your answer in English here -- \n",
    " \n",
    " DL 1919 flew the fastest in 2013."
   ]
  },
  {
   "cell_type": "markdown",
   "metadata": {},
   "source": [
    "## Question 4\n",
    "Which flights (i.e. carrier + flight + dest) happen every day? Where do they fly to?"
   ]
  },
  {
   "cell_type": "code",
   "execution_count": 168,
   "metadata": {
    "collapsed": false
   },
   "outputs": [
    {
     "name": "stdout",
     "output_type": "stream",
     "text": [
      "347\n"
     ]
    },
    {
     "data": {
      "text/plain": [
       "carrier  flight  dest\n",
       "AA       59      SFO     347\n",
       "         119     LAX     347\n",
       "         181     LAX     347\n",
       "         1357    SJU     347\n",
       "         1611    MIA     347\n",
       "B6       219     CLT     347\n",
       "         359     BUR     347\n",
       "         371     FLL     347\n",
       "         431     SRQ     347\n",
       "         703     SJU     347\n",
       "         1783    MCO     347\n",
       "DL       2159    MCO     347\n",
       "         2391    TPA     347\n",
       "EV       5712    IAD     347\n",
       "UA       15      HNL     347\n",
       "VX       251     LAS     347\n",
       "         407     LAX     347\n",
       "         411     LAX     347\n",
       "         413     LAX     347\n",
       "Name: date, dtype: int64"
      ]
     },
     "execution_count": 168,
     "metadata": {},
     "output_type": "execute_result"
    }
   ],
   "source": [
    "# Your code here\n",
    "#get total number of days \n",
    "flights_df[\"date\"] = flights_df[\"month\"].map(str) + flights_df[\"day\"].map(str)\n",
    "ndays = flights_df.date.nunique()\n",
    "print(ndays)\n",
    "cfd = flights_df.groupby([\"carrier\",\"flight\",\"dest\"]).date.nunique() #get number of days each flight flew\n",
    "cfd[cfd == ndays] "
   ]
  },
  {
   "cell_type": "markdown",
   "metadata": {},
   "source": [
    " -- Write your answer in English here -- \n",
    " \n",
    " The flight numbers and destinations of everyday flights are:\n",
    " \n",
    " AA59 to SFO, AA119 to LAX, AA181 to LAX, AA1357 to SJU, AA1611 to MIA;\n",
    " \n",
    " B6219 to CLT, B6359 to BUR, B6371 to FLL, B6431 to SRQ, B6703 to SJU, B61783 to MCO;\n",
    " \n",
    " DL2159 to MCO, DL2391 to TPA;\n",
    " \n",
    " EV5712 to IAD;\n",
    " \n",
    " UA15 to HNL;\n",
    " \n",
    " VX251 to LAS, VX407 to LAX, VX411 to LAX, VX413 to LAX;"
   ]
  },
  {
   "cell_type": "markdown",
   "metadata": {},
   "source": [
    "## Question 5\n",
    "Develop one research question you can address using the nycflights2013 dataset. Provide two visualizations to support your exploration of this question. Discuss what you find.\n"
   ]
  },
  {
   "cell_type": "code",
   "execution_count": 192,
   "metadata": {
    "collapsed": false
   },
   "outputs": [
    {
     "name": "stdout",
     "output_type": "stream",
     "text": [
      "year  month\n",
      "2013  2        24951\n",
      "      1        27004\n",
      "      11       27268\n",
      "      9        27574\n",
      "      12       28135\n",
      "      6        28243\n",
      "      4        28330\n",
      "      5        28796\n",
      "      3        28834\n",
      "      10       28889\n",
      "      8        29327\n",
      "      7        29425\n",
      "Name: flight, dtype: int64\n",
      "season\n",
      "Winter    80090\n",
      "Fall      83731\n",
      "Spring    85960\n",
      "Summer    86995\n",
      "Name: flight, dtype: int64\n"
     ]
    }
   ],
   "source": [
    "# Your code here\n",
    "#research questions: Is there a pattern for flights dispatching in regards to the days/months?\n",
    "#plot the number of flights leaving NYC everyday\n",
    "daily = flights_df.groupby([\"year\",\"month\",\"day\"]).flight.count()\n",
    "daily.plot(kind = \"line\")\n",
    "plt.show()\n",
    "#plot the number of flights leaving NYC every month\n",
    "monthly = flights_df.groupby([\"year\",\"month\"]).flight.count()\n",
    "monthly.plot(kind = \"bar\")\n",
    "plt.ylim(ymin=24000)\n",
    "plt.ylim(ymax=30000)\n",
    "plt.show()\n",
    "print(monthly.sort_values())\n",
    "seasonly = flights_df.groupby(\"season\").flight.count()\n",
    "seasonly.plot(kind = \"bar\")\n",
    "plt.ylim(ymin=75000)\n",
    "plt.ylim(ymax=90000)\n",
    "plt.show()\n",
    "print(seasonly.sort_values())"
   ]
  },
  {
   "cell_type": "markdown",
   "metadata": {},
   "source": [
    " -- Enter your discussion here --\n",
    " \n",
    "There seem to be quite large oscillations in terms of number of flights leaving NYC vary from day to day. On average, February had the smallest number of flights, whereas July had the largest. More generally speaking, there were fewer flights in winter and more flights in summer."
   ]
  },
  {
   "cell_type": "markdown",
   "metadata": {},
   "source": [
    "## Question 6\n",
    "What weather conditions are associated with flight delays leaving NYC? Use graphics to explore."
   ]
  },
  {
   "cell_type": "code",
   "execution_count": null,
   "metadata": {
    "collapsed": false
   },
   "outputs": [
    {
     "name": "stdout",
     "output_type": "stream",
     "text": [
      "(8719, 15)\n",
      "Index(['Unnamed: 0', 'origin', 'year', 'month', 'day', 'hour', 'temp', 'dewp',\n",
      "       'humid', 'wind_dir', 'wind_speed', 'wind_gust', 'precip', 'pressure',\n",
      "       'visib'],\n",
      "      dtype='object')\n",
      "Unnamed: 0      int64\n",
      "origin         object\n",
      "year            int64\n",
      "month         float64\n",
      "day           float64\n",
      "hour          float64\n",
      "temp          float64\n",
      "dewp          float64\n",
      "humid         float64\n",
      "wind_dir      float64\n",
      "wind_speed    float64\n",
      "wind_gust     float64\n",
      "precip        float64\n",
      "pressure      float64\n",
      "visib         float64\n",
      "dtype: object\n",
      "dep_delay     1.000000\n",
      "temp          0.058980\n",
      "dewp          0.098020\n",
      "humid         0.106202\n",
      "wind_dir     -0.041077\n",
      "wind_speed   -0.002850\n",
      "wind_gust    -0.002850\n",
      "precip        0.044321\n",
      "pressure     -0.071745\n",
      "visib        -0.089652\n",
      "Name: dep_delay, dtype: float64\n"
     ]
    }
   ],
   "source": [
    "# Your code here\n",
    "#look at the dataset\n",
    "weather= pd.read_csv('~/Downloads/weather.csv')\n",
    "print (weather.shape)\n",
    "print (weather.columns)\n",
    "print (weather.dtypes)\n",
    "#print (weather.head(10))\n",
    "\n",
    "#Combine two datasets into df\n",
    "flights_d = flights_df[flights_df.dep_delay >= 30] #keep only the flights whose delay time is over 30 mins\n",
    "dd = pd.concat([flights_df['month'],flights_df['day'], flights_df['dep_delay']], axis=1)\n",
    "df = pd.merge(dd, weather, on=['month','day'], how='outer')\n",
    "df = df.drop(df.columns[[0, 1, 3,4,5,6]], axis=1) #keep only the weather-related columns\n",
    "#correlation coefficient between departure delay and all weather related information\n",
    "print(df.corr()['dep_delay']) \n",
    "\n",
    "#scatterplot of the association between departure delay and humidity\n",
    "m, b = np.polyfit(df.humid, df.dep_delay, 1)\n",
    "plt.plot(df.humid, df.dep_delay, '.')\n",
    "plt.plot(df.humid, m*df.humid + b, '-')\n",
    "plt.show()"
   ]
  },
  {
   "cell_type": "markdown",
   "metadata": {},
   "source": [
    "-- Enter your interpretation here --\n",
    "\n",
    "There seem to be no strong association between weather condition and delayed departure time. The strongest correlation amongst all is between delayed departure time and humidity, with a correlation coefficient of 0.106. Scatterplot also show little evidence of significant association."
   ]
  }
 ],
 "metadata": {
  "kernelspec": {
   "display_name": "Python 3",
   "language": "python",
   "name": "python3"
  },
  "language_info": {
   "codemirror_mode": {
    "name": "ipython",
    "version": 3
   },
   "file_extension": ".py",
   "mimetype": "text/x-python",
   "name": "python",
   "nbconvert_exporter": "python",
   "pygments_lexer": "ipython3",
   "version": "3.5.1"
  }
 },
 "nbformat": 4,
 "nbformat_minor": 0
}
