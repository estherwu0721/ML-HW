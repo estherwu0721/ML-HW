{
 "cells": [
  {
   "cell_type": "markdown",
   "metadata": {},
   "source": [
    "# Problem Set 3, due February 10 at 11:59am (i.e., noon).\n",
    "\n",
    "###Before You Start\n",
    "\n",
    "Make sure the following libraries load correctly (hit Ctrl-Enter). Note that while you are loading several powerful libraries, including machine learning libraries, the goal of this problem set is to implement several algorithms from scratch. In particular, you should *not* be using any built-in libraries for nearest neighbors, distance metrics, or cross-validation -- your mission is to write those algorithms in Python! Parts 1 and 2 will be relatively easy; Part 3 will take more time.\n",
    "\n",
    "*Also note:* For this assignment we are requiring you to use base **matplotlib** - no more Seaborn or other packages. This will help you become familiar with techniques for maintaining fine-grained control over your data visualizations. It will also help our graders, who spent countless hours trying to make various versions import for grading."
   ]
  },
  {
   "cell_type": "code",
   "execution_count": 476,
   "metadata": {
    "collapsed": false
   },
   "outputs": [],
   "source": [
    "import IPython\n",
    "import numpy as np\n",
    "import scipy as sp\n",
    "import pandas as pd\n",
    "import matplotlib\n",
    "import sklearn\n",
    "import math\n",
    "from sklearn.cross_validation import train_test_split\n",
    "from random import randrange"
   ]
  },
  {
   "cell_type": "markdown",
   "metadata": {},
   "source": [
    "---\n",
    "\n",
    "## Introduction to the assignment\n",
    "\n",
    "For this assignment, you will be using the [Boston Housing Prices Data Set](http://archive.ics.uci.edu/ml/datasets/Housing).  Please read about the dataset carefully before continuing.  Use the following commands to load the dataset:\n"
   ]
  },
  {
   "cell_type": "code",
   "execution_count": 477,
   "metadata": {
    "collapsed": false
   },
   "outputs": [],
   "source": [
    "from sklearn.datasets import load_boston\n",
    "bdata = load_boston()"
   ]
  },
  {
   "cell_type": "markdown",
   "metadata": {},
   "source": [
    "The following commands will provide some basic information about the shape of the data:"
   ]
  },
  {
   "cell_type": "code",
   "execution_count": 478,
   "metadata": {
    "collapsed": false
   },
   "outputs": [
    {
     "name": "stdout",
     "output_type": "stream",
     "text": [
      "dict_keys(['DESCR', 'target', 'data', 'feature_names'])\n",
      "['CRIM' 'ZN' 'INDUS' 'CHAS' 'NOX' 'RM' 'AGE' 'DIS' 'RAD' 'TAX' 'PTRATIO'\n",
      " 'B' 'LSTAT']\n",
      "(506, 13)\n",
      "(506,)\n",
      "Boston House Prices dataset\n",
      "\n",
      "Notes\n",
      "------\n",
      "Data Set Characteristics:  \n",
      "\n",
      "    :Number of Instances: 506 \n",
      "\n",
      "    :Number of Attributes: 13 numeric/categorical predictive\n",
      "    \n",
      "    :Median Value (attribute 14) is usually the target\n",
      "\n",
      "    :Attribute Information (in order):\n",
      "        - CRIM     per capita crime rate by town\n",
      "        - ZN       proportion of residential land zoned for lots over 25,000 sq.ft.\n",
      "        - INDUS    proportion of non-retail business acres per town\n",
      "        - CHAS     Charles River dummy variable (= 1 if tract bounds river; 0 otherwise)\n",
      "        - NOX      nitric oxides concentration (parts per 10 million)\n",
      "        - RM       average number of rooms per dwelling\n",
      "        - AGE      proportion of owner-occupied units built prior to 1940\n",
      "        - DIS      weighted distances to five Boston employment centres\n",
      "        - RAD      index of accessibility to radial highways\n",
      "        - TAX      full-value property-tax rate per $10,000\n",
      "        - PTRATIO  pupil-teacher ratio by town\n",
      "        - B        1000(Bk - 0.63)^2 where Bk is the proportion of blacks by town\n",
      "        - LSTAT    % lower status of the population\n",
      "        - MEDV     Median value of owner-occupied homes in $1000's\n",
      "\n",
      "    :Missing Attribute Values: None\n",
      "\n",
      "    :Creator: Harrison, D. and Rubinfeld, D.L.\n",
      "\n",
      "This is a copy of UCI ML housing dataset.\n",
      "http://archive.ics.uci.edu/ml/datasets/Housing\n",
      "\n",
      "\n",
      "This dataset was taken from the StatLib library which is maintained at Carnegie Mellon University.\n",
      "\n",
      "The Boston house-price data of Harrison, D. and Rubinfeld, D.L. 'Hedonic\n",
      "prices and the demand for clean air', J. Environ. Economics & Management,\n",
      "vol.5, 81-102, 1978.   Used in Belsley, Kuh & Welsch, 'Regression diagnostics\n",
      "...', Wiley, 1980.   N.B. Various transformations are used in the table on\n",
      "pages 244-261 of the latter.\n",
      "\n",
      "The Boston house-price data has been used in many machine learning papers that address regression\n",
      "problems.   \n",
      "     \n",
      "**References**\n",
      "\n",
      "   - Belsley, Kuh & Welsch, 'Regression diagnostics: Identifying Influential Data and Sources of Collinearity', Wiley, 1980. 244-261.\n",
      "   - Quinlan,R. (1993). Combining Instance-Based and Model-Based Learning. In Proceedings on the Tenth International Conference of Machine Learning, 236-243, University of Massachusetts, Amherst. Morgan Kaufmann.\n",
      "   - many more! (see http://archive.ics.uci.edu/ml/datasets/Housing)\n",
      "\n"
     ]
    }
   ],
   "source": [
    "print(bdata.keys())\n",
    "print(bdata.feature_names)\n",
    "print(bdata.data.shape)\n",
    "print(bdata.target.shape)\n",
    "# uncomment the following if you want to see a lengthy description of the dataset\n",
    "print(bdata.DESCR)"
   ]
  },
  {
   "cell_type": "markdown",
   "metadata": {},
   "source": [
    "---\n",
    "\n",
    "##Part 1: Descriptive analysis\n",
    "\n",
    "Before beginning the \"real\" work, dig into the data a bit do see what you're dealing with.  If you're new to analyzing data in Python, please make sure to read the relevant readings linked to on Canvas before beginning (for instance, [this one](https://github.com/jrjohansson/scientific-python-lectures)).\n",
    "\n",
    "###1.1: Histogram of housing prices\n",
    "\n",
    "Below you will find some very basic code to make a very basic histogram of median housing prices (the \"target\" variable) for your dataset.  Your first task is to make this graph look pretty by doing the following:\n",
    "\n",
    "1. Add appropriate labels to the x and y axes, make sure to include units\n",
    "2. Change the bin width on the histogram to be $1000\n",
    "3. Remove the axes on the top and right side of the plot window\n",
    "4. Change the color of the bars to be green, and remove the black borders from the bars\n"
   ]
  },
  {
   "cell_type": "code",
   "execution_count": null,
   "metadata": {
    "collapsed": false
   },
   "outputs": [
    {
     "data": {
      "image/png": "[encoded data removed]",
      "text/plain": [
       "<matplotlib.figure.Figure at 0x124c06320>"
      ]
     },
     "metadata": {},
     "output_type": "display_data"
    }
   ],
   "source": [
    "# prepare IPython to work with matplotlib and import the library to something convenient\n",
    "%matplotlib inline  \n",
    "import matplotlib.pyplot as plt  \n",
    "\n",
    "# edit the code below to make the graph look good\n",
    "fig = plt.figure()\n",
    "ax = fig.add_axes([0.1, 0.1, 0.8, 0.8])\n",
    "ax.hist(bdata.target, bins = (max(bdata.target)-min(bdata.target)), facecolor='green', edgecolor = \"none\")\n",
    "ax.set_xlabel('median housing prices ($1000)')\n",
    "ax.set_ylabel('count (number of houses)')\n",
    "ax.spines['top'].set_color('none')\n",
    "ax.spines['right'].set_color('none')\n",
    "ax.tick_params(axis='x', top='off')     \n",
    "ax.tick_params(axis='y', right='off')"
   ]
  },
  {
   "cell_type": "markdown",
   "metadata": {},
   "source": [
    "###1.2: Scatter plot of housing prices and crime\n",
    "\n",
    "Use matplotlib to create a scatter plot that shows the relationship between the median value of the home (y-axis) and the per-capita crime rate (x-axis).  Properly label your axes, and make sure that your graphic looks polished and professional.\n"
   ]
  },
  {
   "cell_type": "code",
   "execution_count": null,
   "metadata": {
    "collapsed": false
   },
   "outputs": [
    {
     "data": {
      "image/png": "[encoded data removed]",
      "text/plain": [
       "<matplotlib.figure.Figure at 0x1259646d8>"
      ]
     },
     "metadata": {},
     "output_type": "display_data"
    }
   ],
   "source": [
    "# enter your code below\n",
    "plt.plot(bdata.data[:, [0]], bdata.target, \"o\")\n",
    "plt.ylabel('median housing prices ($1000)')\n",
    "plt.xlabel('per-capita crime rate')\n",
    "plt.title('Relationship between median house value and crime rate')\n",
    "plt.gca().spines['top'].set_visible(False)\n",
    "plt.gca().spines['right'].set_visible(False)\n",
    "plt.tick_params(axis='x', top='off')     \n",
    "plt.tick_params(axis='y', right='off')"
   ]
  },
  {
   "cell_type": "markdown",
   "metadata": {},
   "source": [
    "###1.3 Create your own (creative and effective) visualization\n",
    "\n",
    "Use another type of graph or chart to illustrate an interesting pattern in the data.  Be creative in your visualization, and make sure to produce a \"publication-quality\" graph.  Points will be given for useful and creative graphs; points will be deducted for confusing issues like unlabeled axes.  If you're new to data visualization, [this guide](http://pubs.aeaweb.org/doi/pdfplus/10.1257/jep.28.1.209) is a good place to start."
   ]
  },
  {
   "cell_type": "code",
   "execution_count": null,
   "metadata": {
    "collapsed": false
   },
   "outputs": [],
   "source": [
    "# enter your code here\n",
    "data = np.append(bdata.data[:, [3]], bdata.target[:, None], axis=1)\n",
    "plt.boxplot(data)\n",
    "plt.ylabel(\"Median house values in $1000's\")\n",
    "plt.xlabel('Charles River dummy variable (= 1 if tract bounds river; 2 otherwise)')\n",
    "plt.title('Relationship between median house value and proximity to the river')"
   ]
  },
  {
   "cell_type": "markdown",
   "metadata": {},
   "source": [
    "There isn't enough data points for river-bound houses, but my intuition is that those houses will have a higher median value comparing to houses that aren't close to the river."
   ]
  },
  {
   "cell_type": "markdown",
   "metadata": {},
   "source": [
    "---\n",
    "\n",
    "##Part 2: Experimental Setup\n",
    "\n",
    "The goal of the next few sections is to design an experiment to predict the median home value for an instance in the data.\n",
    "\n",
    "###2.1 Begin by writing a function to compute the Root Mean Squared Error for a list of numbers\n",
    "\n",
    "You can find the sqrt function in the Numpy package. Furthermore the details of RMSE can be found on [Wikipedia](http://en.wikipedia.org/wiki/Root-mean-square_deviation)\n",
    "\n"
   ]
  },
  {
   "cell_type": "code",
   "execution_count": null,
   "metadata": {
    "collapsed": false
   },
   "outputs": [],
   "source": [
    "\"\"\"\n",
    "Function\n",
    "--------\n",
    "compute_rmse\n",
    "\n",
    "Given two arrays, one of actual values and one of predicted values,\n",
    "compute the Roote Mean Squared Error\n",
    "\n",
    "Parameters\n",
    "----------\n",
    "predictions : array\n",
    "    Array of numerical values corresponding to predictions for each of the N observations\n",
    "\n",
    "yvalues : array\n",
    "    Array of numerical values corresponding to the actual values for each of the N observations\n",
    "\n",
    "Returns\n",
    "-------\n",
    "rmse : int\n",
    "    Root Mean Squared Error of the prediction\n",
    "\n",
    "Example\n",
    "-------\n",
    ">>> print compute_rmse((2,2,3),(0,2,6)\n",
    "2.08\n",
    "\"\"\"\n",
    "def compute_rmse(predictions, yvalues):\n",
    "    rmse = 0\n",
    "    for i in range(len(predictions)):\n",
    "        tmp = pow((predictions[i] - yvalues[i]),2)\n",
    "        rmse = rmse + tmp\n",
    "    rmse = math.sqrt(rmse/len(predictions))\n",
    "    return rmse\n",
    "\n",
    "print(compute_rmse((2,2,3),(0,2,6)))"
   ]
  },
  {
   "cell_type": "markdown",
   "metadata": {},
   "source": [
    "###2.2 Divide your data into training and testing datasets\n",
    "\n",
    "Randomly select 66% of the data and put this in a training dataset (call this \"bdata_train\"), and place the remaining 34% in a testing dataset (call this \"bdata_test\")\n"
   ]
  },
  {
   "cell_type": "code",
   "execution_count": null,
   "metadata": {
    "collapsed": false
   },
   "outputs": [],
   "source": [
    "# leave the following line untouched, it will help ensure that your \"random\" split is the same \"random\" split used by the rest of the class\n",
    "np.random.seed(seed=13579)\n",
    "# enter your code here\n",
    "from sklearn.cross_validation import train_test_split\n",
    "bdata_train, bdata_test, y_train, y_test = train_test_split(bdata.data, bdata.target, test_size=0.34, random_state=200)"
   ]
  },
  {
   "cell_type": "markdown",
   "metadata": {},
   "source": [
    "###2.3 Use a very bad baseline for prediction, and compute RMSE\n",
    "\n",
    "Create a model that predicts, for every observation x_i, that the median home value is the average (mean) of the median values for all instances in the training set.  Compute the RMSE on the training set.  Now compute the RMSE on the test data set (but use the model you trained on the training set!).  How does RMSE compare for training vs. testing datasets? Is this what you expected, and why?"
   ]
  },
  {
   "cell_type": "code",
   "execution_count": null,
   "metadata": {
    "collapsed": false
   },
   "outputs": [],
   "source": [
    "#RMSE for training set\n",
    "train_pred = np.empty(shape = (333,))\n",
    "train_pred.fill(np.nan)\n",
    "i = 0\n",
    "for lineindex in range(len(bdata_train)):\n",
    "        srtd = sorted(bdata_train[lineindex])\n",
    "\n",
    "        mid_upper = (len(bdata_train[lineindex]))/2\n",
    "        mid_lower = (len(bdata_train[lineindex])+1)/2\n",
    "        if len(bdata_train[lineindex])%2 == 0:\n",
    "            med = (srtd[mid_lower] + srtd[mid_upper])/2.0\n",
    "            train_pred[i] = med\n",
    "        else:\n",
    "            med = np.median(srtd)  \n",
    "            train_pred[i] = med\n",
    "        i+=1\n",
    "        \n",
    "print(compute_rmse(train_pred,y_train))\n",
    "\n",
    "#RMSE for test set\n",
    "test_pred = np.empty(shape = (173,))\n",
    "test_pred.fill(np.nan)\n",
    "j = 0\n",
    "for lineindex in range(len(bdata_test)):\n",
    "        srtd = sorted(bdata_test[lineindex])\n",
    "\n",
    "        mid_upper = (len(bdata_test[lineindex]))/2\n",
    "        mid_lower = (len(bdata_test[lineindex])+1)/2\n",
    "        if len(bdata_test[lineindex])%2 == 0:\n",
    "            med = (srtd[mid_lower] + srtd[mid_upper])/2.0\n",
    "            test_pred[j] = med\n",
    "        else:\n",
    "            med = np.median(srtd)  \n",
    "            test_pred[j] = med\n",
    "        j+=1\n",
    "        \n",
    "print(compute_rmse(test_pred,y_test))"
   ]
  },
  {
   "cell_type": "markdown",
   "metadata": {},
   "source": [
    "*Enter your observations here*\n",
    "\n",
    "The computed RMSEs for training vs. testing datasets are similar (18.38 vs 18.92). This is what I expected because the splitting of the original dataset was indeed random and the resulting datasets are similar, thus the MSREs should be similar. "
   ]
  },
  {
   "cell_type": "markdown",
   "metadata": {},
   "source": [
    "---\n",
    "\n",
    "##Part 3: Nearest Neighbors\n"
   ]
  },
  {
   "cell_type": "markdown",
   "metadata": {},
   "source": [
    "###3.1 Nearest Neighbors: Distance function\n",
    "Let's try and build a machine learning algorithm to beat the \"Average Value\" baseline that you computed above.  Soon you will implement the Nearest Neighbor algorithm, but first you need to create a distance metric to measure the distance (and similarity) between two instances.  Write a generic function to compute the L-Norm distance (called the [*p*-norm](http://en.wikipedia.org/wiki/Norm_(mathematics) distance on Wikipedia). Verify that your function works by computing the Euclidean distance between the points (3,4) and (6,8)."
   ]
  },
  {
   "cell_type": "code",
   "execution_count": null,
   "metadata": {
    "collapsed": false
   },
   "outputs": [],
   "source": [
    "\"\"\"\n",
    "Function\n",
    "--------\n",
    "distance\n",
    "\n",
    "Given two instances and a value for L, return the L-Norm distance between them\n",
    "\n",
    "Parameters\n",
    "----------\n",
    "x1, x2 : array\n",
    "    Array of numerical values corresponding to predictions for each of the N observations\n",
    "\n",
    "L: int\n",
    "    Value of L to use in computing distances\n",
    "\n",
    "Returns\n",
    "-------\n",
    "dist : int\n",
    "    The L-norm distance between instances\n",
    "\n",
    "Example\n",
    "-------\n",
    ">>> print distance((3,4),(6,8),2)\n",
    "5\n",
    "\n",
    "\"\"\"\n",
    "def distance(x1, x2, L):\n",
    "    #your code here\n",
    "    dist = 0\n",
    "    for i in range(len(x1)):\n",
    "        temp = pow(abs(x1[i] - x2[i]), L)\n",
    "        dist = dist + temp\n",
    "    dist = pow(dist, 1/L)\n",
    "    return dist\n",
    "print (distance((3,4),(6,8),2))"
   ]
  },
  {
   "cell_type": "markdown",
   "metadata": {},
   "source": [
    "###3.2 Basic Nearest Neighbor algorithm\n",
    "\n",
    "Now things get fun.  Your task is to implement a basic nearest neighbor algorithm from scratch.  Your simple model will use two input features (CRIM and RM) and a single output (MEDV).  In other words, you are modelling the relationship between median home value and crime rates and house size.\n",
    "\n",
    "Use your training data (bdata_train) to \"fit\" your model, although as you know, with Nearest Neighbors there is no real training, you just need to keep your training data in memory.  Write a function that predicts, for each instance in the testing data (bdata_test), the median home value using the nearest neighbor algorithm we discussed in class.  Since this is a small dataset, you can simply compare your test instance to every instance in the training set, and return the MEDV value of the closest training instance.  Have your function take L as an input, where L is passed to the distance function.\n",
    "\n",
    "Compute the RMSE for the Nearest Neighbor predictions on the test set, using the Euclidean distance.  Report an estimate of the total time taken by your code to predict the nearest neighbors for all the values in the test data set."
   ]
  },
  {
   "cell_type": "code",
   "execution_count": null,
   "metadata": {
    "collapsed": false
   },
   "outputs": [],
   "source": [
    "\"\"\"\n",
    "Function\n",
    "--------\n",
    "nneighbor\n",
    "\n",
    "Given the training set and test set, and L, returns the rmse of the predictions made with \n",
    "the nearest neighbor algorithm\n",
    "\n",
    "Parameters\n",
    "----------\n",
    "bdata_train: ndarrays\n",
    "    predictor variables in the training set\n",
    "\n",
    "y_train\n",
    "    outcome/target variable in the training set\n",
    "    \n",
    "bdata_test\n",
    "    predictor variables in the test set\n",
    "    \n",
    "y_test\n",
    "    outcome/target variable in the test set\n",
    "\n",
    "L: int\n",
    "    L-norm when computing distances\n",
    "\n",
    "Returns\n",
    "-------\n",
    "rmse : float\n",
    "    the rmse of the predictions\n",
    "\"\"\"\n",
    "import time\n",
    "\n",
    "def nneighbor(bdata_train, y_train, bdata_test, y_test, L):\n",
    "    start_time = time.time()\n",
    "    #your code here\n",
    "    test_pred = []\n",
    "    for i in range(len(bdata_test)):\n",
    "        mindis = 9999\n",
    "        index = 0\n",
    "        for j in range(len(bdata_train)):\n",
    "            dis = distance(bdata_test[i], bdata_train[j], L)\n",
    "            if mindis > dis:\n",
    "                mindis = dis\n",
    "                index = j\n",
    "        test_pred.append(y_train[index])\n",
    "    \n",
    "    rmse = compute_rmse(test_pred,y_test)\n",
    "    print(\"Time taken: \" + str(round(time.time() - start_time,2)) + \" seconds\")\n",
    "    return rmse\n",
    "\n",
    "nneighbor((bdata_train[:,[0,5]]), y_train, bdata_test[:,[0,5]], y_test, 2)\n"
   ]
  },
  {
   "cell_type": "markdown",
   "metadata": {},
   "source": [
    "###3.3 Results and Normalization\n",
    "\n",
    "If you were being astute, you would have noticed that we never normalized our features -- a big no-no with Nearest Neighbor algorithms.  Write a generic normalization function that takes as input an array of values for a given feature, and returns the normalized array (subtract the mean and divide by the standard deviation).\n",
    "\n",
    "Re-run the Nearest Neighbor algorithm on the normalized dataset (still just using CRIM and RM as input), and compare the RMSE from this method with your previous RMSE evaluations.\n",
    "\n",
    "*NOTE*: To normalize properly, best practice is to compute the mean and standard deviation on the training set, and use these values to normalize the testing dataset. However, for this problem set, it is okay if you separately normalize each dataset using the respective mean and standard deviation."
   ]
  },
  {
   "cell_type": "code",
   "execution_count": null,
   "metadata": {
    "collapsed": false
   },
   "outputs": [],
   "source": [
    "\"\"\"\n",
    "Function\n",
    "--------\n",
    "normalize\n",
    "\n",
    "Given an array of numbers, return an normalized array of numbers\n",
    "\n",
    "Parameters\n",
    "----------\n",
    "raw_data: array\n",
    "    an array of numbers to be normalized\n",
    "    \n",
    "Returns\n",
    "-------\n",
    "normalized_data : array\n",
    "    the normalized array of numbers\n",
    "\"\"\"\n",
    "def normalize(raw_data):\n",
    "    #your code here\n",
    "    normalized_data = np.empty(shape = np.shape(raw_data))\n",
    "    normalized_data.fill(np.nan)\n",
    "    avg = np.mean(raw_data)\n",
    "    sdev = np.std(raw_data)\n",
    "    for i in range(len(raw_data)):\n",
    "        normalized_data[i] = (raw_data[i] - avg)/sdev\n",
    "    return normalized_data\n",
    "\n",
    "#your additional code here\n",
    "bdata_train[:,[0]] = normalize(bdata_train[:,[0]])\n",
    "bdata_train[:,[5]] = normalize(bdata_train[:,[5]])\n",
    "\n",
    "bdata_test[:,[0]] = normalize(bdata_test[:,[0]])\n",
    "bdata_test[:,[5]] = normalize(bdata_test[:,[5]])\n",
    "\n",
    "nneighbor((bdata_train[:,[0,5]]), y_train, bdata_test[:,[0,5]], y_test, 2)"
   ]
  },
  {
   "cell_type": "markdown",
   "metadata": {},
   "source": [
    "*enter your observations here*\n",
    "\n",
    "The RMSE after normalization increased from 7.823 to 9.693. This means that the normalization decreased the predictive propensities of the variables after adjusting for the outliners. "
   ]
  },
  {
   "cell_type": "markdown",
   "metadata": {},
   "source": [
    "###3.4 Optimization\n",
    "\n",
    "A lot of the decisions we've made so far have been arbitrary.  Try to increase the performance of your nearest neighbor algorithm by adding features that you think might be relevant, and by using different values of L in the distance function.  Try a model that uses a different set of 2 features, then try at least one model that uses more than 4 features, then try using a different value of L.  If you're having fun, try a few different combinations of features and L!\n",
    "\n",
    "What combination of features and distance function provide the lowest RMSE?  Do your decisions affect the running time of the algorithm?"
   ]
  },
  {
   "cell_type": "code",
   "execution_count": null,
   "metadata": {
    "collapsed": false
   },
   "outputs": [],
   "source": [
    "# enter your code here\n",
    "print(nneighbor((bdata_train[:,[7,8]]), y_train, bdata_test[:,[7,8]], y_test, 2))\n",
    "print(nneighbor((bdata_train), y_train, bdata_test, y_test, 2))\n",
    "print(nneighbor((bdata_train), y_train, bdata_test, y_test, 1))\n",
    "print(nneighbor((bdata_train[:,[0,7,8]]), y_train, bdata_test[:,[0,7,8]], y_test, 1))\n",
    "print(nneighbor((bdata_train[:,[0,5,7,8]]), y_train, bdata_test[:,[0,5,7,8]], y_test, 1))\n"
   ]
  },
  {
   "cell_type": "markdown",
   "metadata": {},
   "source": [
    "*enter your observations here*\n",
    "\n",
    "Among the features I have tried, the combination of CRIM (per capita crime rate by town), RM (average number of rooms per dwelling), DIS (distances to employment centres), RAD (accessibility to radial highways) and L1 norm distance function produced the lowest RMSE. \n",
    "My decisions did affected the running time of the algorithm. When more features are added, running time gets longer, when L gets smaller, running time gets longer."
   ]
  },
  {
   "cell_type": "markdown",
   "metadata": {},
   "source": [
    "### 3.5 Cross-Validation\n",
    "\n",
    "The more you tinkered with your features and distance function, the higher the risk that you overfit your training data.  To prevent this sort of overfitting, you need to use cross-validation (see K-fold [cross-validation](http://en.wikipedia.org/wiki/Cross-validation_(statistics)).  Here you must implement a simple k-fold cross-validation algorithm yourself.  The function you write here will be used several more times in this problem set, so do your best to write efficient code! (Note that the sklearn package has a built-in [K-fold](http://scikit-learn.org/stable/modules/cross_validation.html#cross-validation) iterator -- you should *not* be invoking that or any related algorithms in this section of the problem set.)\n",
    "\n",
    "Use 10-fold cross-validation and report the average RMSE for Nearest Neighbors using Euclidean distance with CRIM and RM input features, as well as the total running time for the full run of 10 folds.  In other words, randomly divide your dataset into 10 equally-sized samples, and for each of 10 iterations (the \"folds\"), use 9 samples as \"training data\" (even though there is no training in k-NN!), and the remaining 1 sample for testing.  Compute the RMSE of that particular test set, then move on to the next iteration.  Report the average RMSE across the 10 iterations."
   ]
  },
  {
   "cell_type": "code",
   "execution_count": null,
   "metadata": {
    "collapsed": false
   },
   "outputs": [],
   "source": [
    "# enter your code here\n",
    "def cv10 (bdata, y):\n",
    "    bdata_split = list()\n",
    "    y_split = list()\n",
    "    bdata_copy = list(bdata)\n",
    "    y_copy = list(y)\n",
    "    N = int(len(bdata)/10)\n",
    "    for i in range(10):\n",
    "        fold_x = list()\n",
    "        fold_y = list()\n",
    "        while len(fold_x) < N:\n",
    "            index = randrange(len(bdata_copy))\n",
    "            fold_x.append(bdata_copy.pop(index))\n",
    "            fold_y.append(y_copy.pop(index))            \n",
    "        bdata_split.append(fold_x)\n",
    "        y_split.append(fold_y)\n",
    "    return bdata_split, y_split\n",
    "\n",
    "bdata_cv, y_cv = cv10(bdata.data, bdata.target)\n",
    "\n",
    "RMSE = 0\n",
    "for i in range(len(bdata_cv)):\n",
    "    x_test = np.array(bdata_cv[i])\n",
    "    y_test = np.array(y_cv[i])\n",
    "    x_train = bdata_cv[:i] + bdata_cv[i+1 :]\n",
    "    y_train = y_cv[:i] + y_cv[i+1 :]\n",
    "    X_train_c = x_train[0]\n",
    "    Y_train_c = y_train[0]\n",
    "    for j in range(1,9,1):\n",
    "        X_train_c = np.concatenate((X_train_c, x_train[j]))\n",
    "        Y_train_c = np.concatenate((Y_train_c, y_train[j]))\n",
    "    tmp = nneighbor(X_train_c[:,[0,5]], Y_train_c, x_test[:,[0,5]], y_test, 2)\n",
    "    RMSE = RMSE + tmp\n",
    "RMSE = RMSE/10\n",
    "print(RMSE)"
   ]
  },
  {
   "cell_type": "markdown",
   "metadata": {},
   "source": [
    "###3.6 K-Nearest Neighbors Algorithm\n",
    "\n",
    "Implement the K-Nearest Neighbors algorithm.  Using 10-fold cross validation, report the RMSE for K=3 and the running time of the algorithm."
   ]
  },
  {
   "cell_type": "code",
   "execution_count": null,
   "metadata": {
    "collapsed": false
   },
   "outputs": [],
   "source": [
    "\"\"\"\n",
    "Function\n",
    "--------\n",
    "knn\n",
    "\n",
    "Given the training set and test set, L, and K, returns the rmse of the predictions made with \n",
    "the k nearest neighbor algorithm\n",
    "\n",
    "Parameters\n",
    "----------\n",
    "bdata_train: ndarrays\n",
    "    predictor variables in the training set\n",
    "\n",
    "y_train\n",
    "    outcome/target variable in the training set\n",
    "    \n",
    "bdata_test\n",
    "    predictor variables in the test set\n",
    "    \n",
    "y_test\n",
    "    outcome/target variable in the test set\n",
    "\n",
    "L: int\n",
    "    L-norm when computing distances\n",
    "\n",
    "K: int\n",
    "    number of nearest neighbors\n",
    "\n",
    "Returns\n",
    "-------\n",
    "rmse : float\n",
    "    the rmse of the predictions\n",
    "\"\"\"\n",
    "import operator \n",
    "\n",
    "\n",
    "def knn(bdata_train, y_train, bdata_test, y_test, L, K):\n",
    "    start_time = time.time()\n",
    "    test_pred = []\n",
    "    for i in range(len(bdata_test)):\n",
    "        distances = []\n",
    "        for j in range(len(bdata_train)):\n",
    "            dis = distance(bdata_test[i], bdata_train[j], L)\n",
    "            distances.append((y_train[j],dis)) \n",
    "        distances.sort(key=operator.itemgetter(1))\n",
    "        neighbors = []\n",
    "        for m in range(K):\n",
    "            neighbors.append(distances[m][0])\n",
    "        test_pred.append(sum(neighbors) / float(len(neighbors)))\n",
    "        \n",
    "    rmse = compute_rmse(test_pred, y_test)\n",
    "    print(\"Time taken: \" + str(round(time.time() - start_time,2)) + \" seconds\")\n",
    "    return rmse\n",
    "\n",
    "# enter your additional code here\n",
    "bdata_train, bdata_test, y_train, y_test = train_test_split(bdata.data, bdata.target, test_size=0.34, random_state=200)\n",
    "knn((bdata_train[:,[0,5]]), y_train, bdata_test[:,[0,5]], y_test, 2, 3)"
   ]
  },
  {
   "cell_type": "markdown",
   "metadata": {},
   "source": [
    "###3.7 Using cross validation to find K\n",
    "\n",
    "What is the best choice of K?  Compute the RMSE for values of K between 1 and 25 using 10-fold cross-validation.  Use the following features in your model, and don't forget to normalize: CRIM, ZN, RM, AGE, DIS, TAX.  Create a graph that shows how RMSE changes as K increases from 1 to 25.  Label your axes, and summarize what you see.  What do you think is a reasonable choice of K for this model?\n"
   ]
  },
  {
   "cell_type": "code",
   "execution_count": null,
   "metadata": {
    "collapsed": false
   },
   "outputs": [],
   "source": [
    "# enter your code here\n",
    "for i in [0,1,5,6,7,9]:\n",
    "    bdata.data[:,[i]] = normalize(bdata.data[:,[i]])\n",
    "\n",
    "bdata_cv, y_cv = cv10(bdata.data, bdata.target)\n",
    "RMSE = 0\n",
    "rmse = []\n",
    "start_time = time.time()\n",
    "for K in range(1,25,1):\n",
    "    print(\"When K = \", K)\n",
    "    for i in range(len(bdata_cv)):\n",
    "        x_test = np.array(bdata_cv[i])\n",
    "        y_test = np.array(y_cv[i])\n",
    "        x_train = bdata_cv[:i] + bdata_cv[i+1 :]\n",
    "        y_train = y_cv[:i] + y_cv[i+1 :]\n",
    "        X_train_c = x_train[0]\n",
    "        Y_train_c = y_train[0]\n",
    "        for j in range(1,9,1):\n",
    "            X_train_c = np.concatenate((X_train_c, x_train[j]))\n",
    "            Y_train_c = np.concatenate((Y_train_c, y_train[j]))\n",
    "        tmp = knn(X_train_c[:,[0,1,5,6,7,9]], Y_train_c, x_test[:,[0,1,5,6,7,9]], y_test, 2, K)\n",
    "        RMSE = RMSE + tmp\n",
    "    RMSE = RMSE/10\n",
    "    rmse.append(RMSE)\n",
    "    print(\"the RMSE = \", RMSE)\n",
    "print(\"total time taken: \" + str(round(time.time() - start_time,2)) + \" seconds\")\n",
    "\n",
    "K = range(1,25,1)\n",
    "plt.plot(K, rmse, '-')\n",
    "plt.xlabel(\"K\")\n",
    "plt.ylabel(\"RMSE\")\n",
    "plt.title(\"Relationship between K and RMSE\")"
   ]
  },
  {
   "cell_type": "markdown",
   "metadata": {},
   "source": [
    "*Enter your observations here*\n",
    "\n",
    "The RMSE drops dramatically when K ranges from 1 to 4, and increases when K is larger than 6. I think a reasonable choice for K is between 4,5,6. The rmses corresponding to these Ks are pretty similar. When k is 6, rmse is the lowest which is 5.46. when k is 4, rmse = 5.48, when k is 5, rmse = 5.49. I would pick 6, but the other two are not too far away from it either."
   ]
  },
  {
   "cell_type": "code",
   "execution_count": null,
   "metadata": {
    "collapsed": true
   },
   "outputs": [],
   "source": []
  }
 ],
 "metadata": {
  "kernelspec": {
   "display_name": "Python 3",
   "language": "python",
   "name": "python3"
  },
  "language_info": {
   "codemirror_mode": {
    "name": "ipython",
    "version": 3
   },
   "file_extension": ".py",
   "mimetype": "text/x-python",
   "name": "python",
   "nbconvert_exporter": "python",
   "pygments_lexer": "ipython3",
   "version": "3.6.0"
  }
 },
 "nbformat": 4,
 "nbformat_minor": 0
}
