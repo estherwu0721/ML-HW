{
 "cells": [
  {
   "cell_type": "code",
   "execution_count": 7,
   "metadata": {
    "autoscroll": "json-false",
    "collapsed": false,
    "ein.tags": [
     "worksheet-0"
    ],
    "slideshow": {
     "slide_type": "-"
    }
   },
   "outputs": [],
   "source": [
    "import numpy as np\n",
    "import scipy.special as ss\n",
    "from sklearn.neural_network import MLPRegressor\n",
    "import matplotlib.pyplot as plt\n",
    "%matplotlib inline"
   ]
  },
  {
   "cell_type": "code",
   "execution_count": 2,
   "metadata": {
    "autoscroll": "json-false",
    "collapsed": false,
    "ein.tags": [
     "worksheet-0"
    ],
    "slideshow": {
     "slide_type": "-"
    }
   },
   "outputs": [],
   "source": [
    "## Set parameters\n",
    "n = 100\n",
    "# number of observations\n",
    "a1 = np.array([3,3]).T #weight\n",
    "a2 = np.array([3,-3]).T #weight\n"
   ]
  },
  {
   "cell_type": "code",
   "execution_count": 4,
   "metadata": {
    "autoscroll": "json-false",
    "collapsed": false,
    "ein.tags": [
     "worksheet-0"
    ],
    "slideshow": {
     "slide_type": "-"
    }
   },
   "outputs": [
    {
     "name": "stdout",
     "output_type": "stream",
     "text": [
      "[   9.0947033    23.06157192    5.80735894  131.67538289   17.32691819\n",
      "    5.27120505   18.32539217    1.91558368    2.17070764    9.55699645]\n"
     ]
    }
   ],
   "source": [
    "## Data generation\n",
    "X = np.array(np.random.randn(n, 2))\n",
    "Z = np.array(np.random.randn(n))\n",
    "Y = ss.expit(np.matmul(X, a1)) + np.matmul(X, a2)**2 + 0.3*Z #sigmoid transformation\n",
    "print(Y[:10])"
   ]
  },
  {
   "cell_type": "code",
   "execution_count": 24,
   "metadata": {
    "autoscroll": "json-false",
    "collapsed": false,
    "ein.tags": [
     "worksheet-0"
    ],
    "slideshow": {
     "slide_type": "-"
    }
   },
   "outputs": [
    {
     "name": "stdout",
     "output_type": "stream",
     "text": [
      "Estimation results:\n",
      "layers: 4\n",
      "outputs: 1\n",
      "out activation: identity\n",
      "iterations: 21715\n",
      "loss: 0.410355544171\n",
      "coefficients:\n",
      " [array([[-8.02208573,  1.87646597,  0.52713691,  2.29242341, -1.29993218,\n",
      "         1.81007406, -2.27532075,  8.85414289, -2.60711963,  2.96658079],\n",
      "       [ 8.79445848, -2.09233361, -0.97397908, -1.49569496,  0.72221553,\n",
      "        -1.43180077,  2.33889757, -8.55837726,  2.55961885, -3.04733468],\n",
      "       [ 0.31054995, -0.01615139,  4.29476708, -0.3796856 ,  0.40557194,\n",
      "         0.06090442,  0.05567405,  0.44364397, -0.04902116, -0.01387806]]), array([[  2.77815989,   5.79426463,   3.89623361,   2.00411561,\n",
      "          0.91162299,   9.31290798,   5.47426556,   3.85472202,\n",
      "          2.50784408,   5.94976011],\n",
      "       [  7.81817366,   8.40277417,   5.73376463,   8.4048027 ,\n",
      "          8.16528876,   6.15525781,   6.94151385,   5.02530486,\n",
      "          8.95511605,   9.51368331],\n",
      "       [ -3.36025499,  -0.50289454,   0.71322055,  -3.05069303,\n",
      "         -3.45984178,   0.04036975,  -0.15390047,  -0.15502021,\n",
      "         -2.67905566,   0.35521815],\n",
      "       [ 10.30354367,   5.3434142 ,   5.23266523,   8.40431477,\n",
      "          9.96664698,   4.90079784,   5.31598309,   3.49310942,\n",
      "          7.3735188 ,   6.67190795],\n",
      "       [  6.66815996,   4.87024483,   5.62643087,   6.99247404,\n",
      "          6.81827467,   5.75863152,   4.91867242,   5.34073201,\n",
      "          6.81637692,   4.27059737],\n",
      "       [  9.99913235,   5.74023229,   6.03533514,   8.27013089,\n",
      "         10.64236016,   5.90937453,   5.77573273,   3.75198585,\n",
      "          7.35388908,   6.33957199],\n",
      "       [  6.50175014,   5.96379554,   7.13837928,   6.3976254 ,\n",
      "          6.3025121 ,   5.60092542,   4.96118928,   6.66622133,\n",
      "          6.43190753,   5.1024387 ],\n",
      "       [  0.48770077,   4.81630588,   7.08242446,   2.12826238,\n",
      "          0.302905  ,   7.28532663,   7.48498426,   8.13508546,\n",
      "          3.13764501,   2.90067954],\n",
      "       [ -2.06279287,  -1.93134173,  -4.2769024 ,  -2.41574997,\n",
      "         -2.95370149,  -2.93468492,  -3.35958863,  -4.34125179,\n",
      "         -2.47051074,  -1.59587373],\n",
      "       [ -4.77158511,  -5.71707498,  -3.53606884,  -3.9196318 ,\n",
      "         -4.33323944,  -4.48314963,  -3.7242453 ,  -1.54981089,\n",
      "         -3.67882288,  -5.92883573]]), array([[ 15.1647988 ],\n",
      "       [ 15.20392624],\n",
      "       [ 15.43113147],\n",
      "       [ 15.33405957],\n",
      "       [ 15.14525669],\n",
      "       [ 15.39603436],\n",
      "       [ 15.53515914],\n",
      "       [ 15.25084688],\n",
      "       [ 15.2615011 ],\n",
      "       [ 15.16687323]])]\n",
      "intercepts:\n",
      " [array([-1.90807913, -5.91678871,  1.55420617, -6.84698955, -6.1190664 ,\n",
      "       -6.24424427, -5.83098027, -2.34135942,  2.78213473,  3.24316302]), array([-5.30573735, -4.74681405, -5.12118376, -5.65571605, -5.96294161,\n",
      "       -4.16419658, -4.802005  , -4.78806934, -5.0524093 , -4.98247068]), array([ 1.19446319])]\n",
      "score: 0.999193292661\n"
     ]
    },
    {
     "data": {
      "image/png": "[encoded data removed]",
      "text/plain": [
       "<matplotlib.figure.Figure at 0x1031edb70>"
      ]
     },
     "metadata": {},
     "output_type": "display_data"
    }
   ],
   "source": [
    "## Fit multi-layer perceptron (MLP) predicts numbers\n",
    "design = np.column_stack((X, Z))\n",
    "net = MLPRegressor(hidden_layer_sizes = (10,10), activation = \"logistic\", max_iter=35000, alpha=1e-4, tol=1e-6)\n",
    "#alpha regularization parameter\n",
    "res = net.fit(design, Y)\n",
    "print (\"Estimation results:\")\n",
    "print (\"layers:\", net.n_layers_)\n",
    "print (\"outputs:\", net.n_outputs_)\n",
    "print (\"out activation:\", net.out_activation_)\n",
    "print (\"iterations:\", net.n_iter_)\n",
    "print (\"loss:\", net.loss_)\n",
    "print (\"coefficients:\\n\", net.coefs_)\n",
    "print (\"intercepts:\\n\", net.intercepts_)\n",
    "print (\"score:\", net.score(design, Y))\n",
    "\n",
    "plt.scatter(Y, net.predict(design))\n",
    "plt.xlabel(\"Observed\")\n",
    "plt.ylabel(\"Predicted\")\n",
    "plt.show()\n"
   ]
  },
  {
   "cell_type": "code",
   "execution_count": 25,
   "metadata": {
    "autoscroll": "json-false",
    "collapsed": false,
    "ein.tags": [
     "worksheet-0"
    ],
    "slideshow": {
     "slide_type": "-"
    }
   },
   "outputs": [
    {
     "name": "stdout",
     "output_type": "stream",
     "text": [
      "score: 0.956984987336\n"
     ]
    },
    {
     "data": {
      "image/png": "[encoded data removed]",
      "text/plain": [
       "<matplotlib.figure.Figure at 0x114286748>"
      ]
     },
     "metadata": {},
     "output_type": "display_data"
    }
   ],
   "source": [
    "### Now predict on a larger dataset\n",
    "nt = 1000\n",
    "Xt = np.array(np.random.randn(nt, 2))\n",
    "Zt = np.array(np.random.randn(nt))\n",
    "Yt = ss.expit(np.matmul(Xt, a1)) + np.matmul(Xt, a2)**2 + 0.3*Zt\n",
    "designt = np.column_stack((Xt, Zt))\n",
    "hatY = net.predict(designt)\n",
    "print(\"score:\", net.score(designt, Yt))\n",
    "\n",
    "plt.scatter(Yt, hatY)\n",
    "plt.xlabel(\"Observed\")\n",
    "plt.ylabel(\"Predicted\")\n",
    "plt.show()"
   ]
  },
  {
   "cell_type": "code",
   "execution_count": 0,
   "metadata": {
    "autoscroll": "json-false",
    "collapsed": false,
    "ein.tags": [
     "worksheet-0"
    ],
    "slideshow": {
     "slide_type": "-"
    }
   },
   "outputs": [],
   "source": []
  }
 ],
 "metadata": {
  "kernelspec": {
   "display_name": "Python 3",
   "language": "python",
   "name": "python3"
  },
  "language_info": {
   "codemirror_mode": {
    "name": "ipython",
    "version": 3
   },
   "file_extension": ".py",
   "mimetype": "text/x-python",
   "name": "python",
   "nbconvert_exporter": "python",
   "pygments_lexer": "ipython3",
   "version": "3.5.1"
  }
 },
 "nbformat": 4,
 "nbformat_minor": 0
}
