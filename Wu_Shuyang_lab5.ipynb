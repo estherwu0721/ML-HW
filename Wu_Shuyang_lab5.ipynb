{
 "cells": [
  {
   "cell_type": "markdown",
   "metadata": {},
   "source": [
    "# Lab 7: Decision Trees in Python\n",
    "\n",
    "- **Author:** Li Zeng ([lizeng@uw.edu](mailto:lizeng@uw.edu))\n",
    "- **Date:** 21 Feb 2016\n",
    "- **Course:** INFX 574"
   ]
  },
  {
   "cell_type": "markdown",
   "metadata": {},
   "source": [
    "### Topics:\n",
    "1. Decision Tree Classification\n",
    "2. Decision Tree Regression"
   ]
  },
  {
   "cell_type": "markdown",
   "metadata": {},
   "source": [
    "### References: \n",
    " * [Scikit Learn Regression Trees](http://scikit-learn.org/stable/modules/tree.html)\n",
    " * [Scikit Learn Ensemble Methods](http://scikit-learn.org/stable/modules/ensemble.html)\n",
    " * [Introduction to Statistical Learning, Lab #7](http://www-bcf.usc.edu/~gareth/ISL/Chapter%208%20Lab.txt)"
   ]
  },
  {
   "cell_type": "markdown",
   "metadata": {
    "collapsed": true
   },
   "source": [
    "### 1. Decision Trees"
   ]
  },
  {
   "cell_type": "code",
   "execution_count": 74,
   "metadata": {
    "collapsed": false
   },
   "outputs": [],
   "source": [
    "from sklearn.datasets import load_iris\n",
    "from sklearn import tree\n",
    "from sklearn.cross_validation import train_test_split"
   ]
  },
  {
   "cell_type": "code",
   "execution_count": 75,
   "metadata": {
    "collapsed": false
   },
   "outputs": [],
   "source": [
    "iris = load_iris()\n",
    "#print(iris)"
   ]
  },
  {
   "cell_type": "code",
   "execution_count": 76,
   "metadata": {
    "collapsed": false
   },
   "outputs": [
    {
     "data": {
      "text/plain": [
       "['sepal length (cm)',\n",
       " 'sepal width (cm)',\n",
       " 'petal length (cm)',\n",
       " 'petal width (cm)']"
      ]
     },
     "execution_count": 76,
     "metadata": {},
     "output_type": "execute_result"
    }
   ],
   "source": [
    "iris.feature_names"
   ]
  },
  {
   "cell_type": "code",
   "execution_count": 77,
   "metadata": {
    "collapsed": false
   },
   "outputs": [
    {
     "name": "stdout",
     "output_type": "stream",
     "text": [
      "(150, 4)\n"
     ]
    }
   ],
   "source": [
    "print(iris.data.shape)"
   ]
  },
  {
   "cell_type": "markdown",
   "metadata": {},
   "source": [
    "#### Build a decision tree classifier"
   ]
  },
  {
   "cell_type": "code",
   "execution_count": 78,
   "metadata": {
    "collapsed": true
   },
   "outputs": [],
   "source": [
    "X_train, X_test, y_train, y_test = train_test_split(iris.data, iris.target, test_size=0.33, random_state=42)"
   ]
  },
  {
   "cell_type": "code",
   "execution_count": 79,
   "metadata": {
    "collapsed": false
   },
   "outputs": [
    {
     "name": "stdout",
     "output_type": "stream",
     "text": [
      "(100, 4) (100,)\n",
      "(50, 4) (50,)\n"
     ]
    }
   ],
   "source": [
    "print(X_train.shape, y_train.shape)\n",
    "print(X_test.shape, y_test.shape)"
   ]
  },
  {
   "cell_type": "code",
   "execution_count": 80,
   "metadata": {
    "collapsed": true
   },
   "outputs": [],
   "source": [
    "clf1 = tree.DecisionTreeClassifier()\n",
    "clf1 = clf1.fit(X_train, y_train)"
   ]
  },
  {
   "cell_type": "code",
   "execution_count": 81,
   "metadata": {
    "collapsed": false
   },
   "outputs": [
    {
     "data": {
      "text/plain": [
       "0.97999999999999998"
      ]
     },
     "execution_count": 81,
     "metadata": {},
     "output_type": "execute_result"
    }
   ],
   "source": [
    "clf1.score(X_test, y_test)"
   ]
  },
  {
   "cell_type": "markdown",
   "metadata": {},
   "source": [
    "#### Perfect performance? Try cross-validation"
   ]
  },
  {
   "cell_type": "code",
   "execution_count": 82,
   "metadata": {
    "collapsed": true
   },
   "outputs": [],
   "source": [
    "from sklearn.cross_validation import cross_val_score"
   ]
  },
  {
   "cell_type": "code",
   "execution_count": 83,
   "metadata": {
    "collapsed": false
   },
   "outputs": [
    {
     "data": {
      "text/plain": [
       "array([ 1.        ,  0.81818182,  1.        ,  0.63636364,  1.        ,\n",
       "        1.        ,  1.        ,  0.88888889,  1.        ,  0.88888889])"
      ]
     },
     "execution_count": 83,
     "metadata": {},
     "output_type": "execute_result"
    }
   ],
   "source": [
    "clf2 = tree.DecisionTreeClassifier()\n",
    "cross_val_score(clf2, X_train, y_train, cv=10)"
   ]
  },
  {
   "cell_type": "code",
   "execution_count": 84,
   "metadata": {
    "collapsed": false
   },
   "outputs": [
    {
     "data": {
      "text/plain": [
       "0.93232323232323233"
      ]
     },
     "execution_count": 84,
     "metadata": {},
     "output_type": "execute_result"
    }
   ],
   "source": [
    "cross_val_score(clf2, X_train, y_train, cv=10).mean()"
   ]
  },
  {
   "cell_type": "markdown",
   "metadata": {},
   "source": [
    "#### Play with model parameters"
   ]
  },
  {
   "cell_type": "code",
   "execution_count": 85,
   "metadata": {
    "collapsed": false
   },
   "outputs": [],
   "source": [
    "param_value = [2,5,10,15,20,30,40,50,60, 70, 80]\n",
    "X_train, X_test, y_train, y_test = train_test_split(iris.data, iris.target, test_size=0.33, random_state=42)"
   ]
  },
  {
   "cell_type": "code",
   "execution_count": 86,
   "metadata": {
    "collapsed": false
   },
   "outputs": [
    {
     "name": "stdout",
     "output_type": "stream",
     "text": [
      "2 0.932323232323\n",
      "5 0.922323232323\n",
      "10 0.922323232323\n",
      "15 0.922323232323\n",
      "20 0.922323232323\n",
      "30 0.932323232323\n",
      "40 0.911212121212\n",
      "50 0.911212121212\n",
      "60 0.911212121212\n",
      "70 0.660909090909\n",
      "80 0.660909090909\n"
     ]
    }
   ],
   "source": [
    "for value in param_value:\n",
    "    clf_split = tree.DecisionTreeClassifier(min_samples_split = value)\n",
    "    print(value, cross_val_score(clf_split, X_train, y_train, cv=10).mean())"
   ]
  },
  {
   "cell_type": "code",
   "execution_count": 87,
   "metadata": {
    "collapsed": false
   },
   "outputs": [
    {
     "name": "stdout",
     "output_type": "stream",
     "text": [
      "2 0.913232323232\n",
      "5 0.932323232323\n",
      "10 0.921212121212\n",
      "15 0.921212121212\n",
      "20 0.921212121212\n",
      "30 0.795353535354\n",
      "40 0.639797979798\n",
      "50 0.349090909091\n",
      "60 0.349090909091\n",
      "70 0.349090909091\n",
      "80 0.349090909091\n"
     ]
    }
   ],
   "source": [
    "for value in param_value:\n",
    "    clf_leaf = tree.DecisionTreeClassifier(min_samples_split = 2, min_samples_leaf = value)\n",
    "    print(value, cross_val_score(clf_leaf, X_train, y_train, cv=10).mean())"
   ]
  },
  {
   "cell_type": "markdown",
   "metadata": {},
   "source": [
    "Cross-validation helps to decide the value of parameters"
   ]
  },
  {
   "cell_type": "code",
   "execution_count": 88,
   "metadata": {
    "collapsed": false
   },
   "outputs": [
    {
     "name": "stdout",
     "output_type": "stream",
     "text": [
      "0.932323232323\n"
     ]
    }
   ],
   "source": [
    "clf_good = tree.DecisionTreeClassifier(min_samples_split = 2, min_samples_leaf = 5)\n",
    "print(cross_val_score(clf_good, X_train, y_train, cv=10).mean())"
   ]
  },
  {
   "cell_type": "markdown",
   "metadata": {},
   "source": [
    "#### Performance vs. Train/Test Proportion"
   ]
  },
  {
   "cell_type": "code",
   "execution_count": 89,
   "metadata": {
    "collapsed": true
   },
   "outputs": [],
   "source": [
    "%matplotlib inline  \n",
    "import matplotlib.pyplot as plt  \n",
    "from pylab import *"
   ]
  },
  {
   "cell_type": "code",
   "execution_count": 90,
   "metadata": {
    "collapsed": true
   },
   "outputs": [],
   "source": [
    "test_size = np.arange(0.1, 1, 0.05)"
   ]
  },
  {
   "cell_type": "code",
   "execution_count": 91,
   "metadata": {
    "collapsed": false
   },
   "outputs": [],
   "source": [
    "clf3 = tree.DecisionTreeClassifier()\n",
    "test_score_ls = []\n",
    "for size in test_size:\n",
    "    X_train, X_test, y_train, y_test = train_test_split(iris.data, iris.target, test_size=size, random_state=42)\n",
    "    clf3 = clf3.fit(X_train, y_train)\n",
    "    test_score_ls.append(clf3.score(X_test, y_test))"
   ]
  },
  {
   "cell_type": "code",
   "execution_count": 92,
   "metadata": {
    "collapsed": false
   },
   "outputs": [
    {
     "name": "stdout",
     "output_type": "stream",
     "text": [
      "[ 1.          1.          1.          1.          1.          1.\n",
      "  0.96721311  0.97058824  0.93421053  0.90361446  0.96703297  0.89795918\n",
      "  0.9245283   0.92920354  0.9338843   0.9375      0.94117647  0.72027972]\n"
     ]
    }
   ],
   "source": [
    "test_score_ls = np.asarray(test_score_ls)\n",
    "print(test_score_ls)"
   ]
  },
  {
   "cell_type": "code",
   "execution_count": 93,
   "metadata": {
    "collapsed": false
   },
   "outputs": [
    {
     "data": {
      "image/png": "[encoded data removed]",
      "text/plain": [
       "<matplotlib.figure.Figure at 0x10c1dc1d0>"
      ]
     },
     "metadata": {},
     "output_type": "display_data"
    }
   ],
   "source": [
    "matplotlib.rcParams.update({'font.size': 15, 'font.family': 'STIXGeneral', 'mathtext.fontset': 'stix'})\n",
    "fig, ax = plt.subplots()\n",
    "ax.plot(test_size, test_score_ls, color = 'black')\n",
    "\n",
    "ax.set_xlabel('Test set size')\n",
    "ax.set_ylabel('Accuracy')\n",
    "\n",
    "ax.xaxis.set_ticks_position('bottom')\n",
    "ax.yaxis.set_ticks_position('left')"
   ]
  },
  {
   "cell_type": "markdown",
   "metadata": {},
   "source": [
    "#### Feature Importance"
   ]
  },
  {
   "cell_type": "code",
   "execution_count": 94,
   "metadata": {
    "collapsed": true
   },
   "outputs": [],
   "source": [
    "import pandas as pd"
   ]
  },
  {
   "cell_type": "code",
   "execution_count": 95,
   "metadata": {
    "collapsed": true
   },
   "outputs": [],
   "source": [
    "X_train, X_test, y_train, y_test = train_test_split(iris.data, iris.target, test_size= 0.33, random_state=42)\n",
    "clf_good = tree.DecisionTreeClassifier()\n",
    "fitted = clf_good.fit(X_train, y_train)"
   ]
  },
  {
   "cell_type": "code",
   "execution_count": 96,
   "metadata": {
    "collapsed": false
   },
   "outputs": [],
   "source": [
    "feature_df = pd.DataFrame(list(zip(iris.feature_names, fitted.feature_importances_)), columns = ['Feature', 'Importance'])"
   ]
  },
  {
   "cell_type": "code",
   "execution_count": 97,
   "metadata": {
    "collapsed": false
   },
   "outputs": [
    {
     "data": {
      "text/html": [
       "<div>\n",
       "<table border=\"1\" class=\"dataframe\">\n",
       "  <thead>\n",
       "    <tr style=\"text-align: right;\">\n",
       "      <th></th>\n",
       "      <th>Feature</th>\n",
       "      <th>Importance</th>\n",
       "    </tr>\n",
       "  </thead>\n",
       "  <tbody>\n",
       "    <tr>\n",
       "      <th>0</th>\n",
       "      <td>sepal length (cm)</td>\n",
       "      <td>0.000000</td>\n",
       "    </tr>\n",
       "    <tr>\n",
       "      <th>1</th>\n",
       "      <td>sepal width (cm)</td>\n",
       "      <td>0.035046</td>\n",
       "    </tr>\n",
       "    <tr>\n",
       "      <th>2</th>\n",
       "      <td>petal length (cm)</td>\n",
       "      <td>0.073948</td>\n",
       "    </tr>\n",
       "    <tr>\n",
       "      <th>3</th>\n",
       "      <td>petal width (cm)</td>\n",
       "      <td>0.891007</td>\n",
       "    </tr>\n",
       "  </tbody>\n",
       "</table>\n",
       "</div>"
      ],
      "text/plain": [
       "             Feature  Importance\n",
       "0  sepal length (cm)    0.000000\n",
       "1   sepal width (cm)    0.035046\n",
       "2  petal length (cm)    0.073948\n",
       "3   petal width (cm)    0.891007"
      ]
     },
     "execution_count": 97,
     "metadata": {},
     "output_type": "execute_result"
    }
   ],
   "source": [
    "feature_df"
   ]
  },
  {
   "cell_type": "code",
   "execution_count": 98,
   "metadata": {
    "collapsed": true
   },
   "outputs": [],
   "source": [
    "x_ax = np.arange(len(feature_df))\n",
    "y_ax = feature_df.Importance"
   ]
  },
  {
   "cell_type": "code",
   "execution_count": 99,
   "metadata": {
    "collapsed": false,
    "scrolled": false
   },
   "outputs": [
    {
     "data": {
      "image/png": "[encoded data removed]",
      "text/plain": [
       "<matplotlib.figure.Figure at 0x117c217f0>"
      ]
     },
     "metadata": {},
     "output_type": "display_data"
    }
   ],
   "source": [
    "matplotlib.rcParams.update({'font.size': 15, 'font.family': 'STIXGeneral', 'mathtext.fontset': 'stix'})\n",
    "fig, ax = plt.subplots()\n",
    "width = 1\n",
    "ax.bar(x_ax + 0.1, y_ax, width = 0.8, color = \"pink\", alpha = 0.5)\n",
    "\n",
    "ax.set_title('Feature Importance')\n",
    "ax.set_xlabel('Feature Name')\n",
    "ax.set_ylabel('Importance Value')\n",
    "xTickMarks = feature_df.Feature\n",
    "xTickPos = x_ax + 0.5\n",
    "ax.set_xticks(xTickPos)\n",
    "ax.set_xticklabels(xTickMarks, rotation = 45)\n",
    "ax.spines['top'].set_color(\"none\")\n",
    "ax.xaxis.set_ticks_position('bottom')\n",
    "\n",
    "ax.spines['right'].set_color(\"none\")\n",
    "ax.yaxis.set_ticks_position('left')"
   ]
  },
  {
   "cell_type": "code",
   "execution_count": 100,
   "metadata": {
    "collapsed": true
   },
   "outputs": [],
   "source": [
    "X_train, X_test, y_train, y_test = train_test_split(iris.data, iris.target, test_size= 0.33, random_state=42)\n",
    "clf_good = tree.DecisionTreeClassifier(min_samples_split = 2, min_samples_leaf = 5)\n",
    "fitted = clf_good.fit(X_train, y_train)"
   ]
  },
  {
   "cell_type": "code",
   "execution_count": 101,
   "metadata": {
    "collapsed": false
   },
   "outputs": [
    {
     "name": "stdout",
     "output_type": "stream",
     "text": [
      "             Feature  Importance\n",
      "0  sepal length (cm)    0.005566\n",
      "1   sepal width (cm)    0.000000\n",
      "2  petal length (cm)    0.051722\n",
      "3   petal width (cm)    0.942713\n"
     ]
    }
   ],
   "source": [
    "feature_df = pd.DataFrame(list(zip(iris.feature_names, fitted.feature_importances_)), columns = ['Feature', 'Importance'])\n",
    "print(feature_df)"
   ]
  },
  {
   "cell_type": "markdown",
   "metadata": {},
   "source": [
    "#### Visualize decision tree"
   ]
  },
  {
   "cell_type": "code",
   "execution_count": 102,
   "metadata": {
    "collapsed": false
   },
   "outputs": [],
   "source": [
    "from sklearn.tree import export_graphviz"
   ]
  },
  {
   "cell_type": "code",
   "execution_count": 103,
   "metadata": {
    "collapsed": true
   },
   "outputs": [],
   "source": [
    "def visualize_tree(tree, feature_names, filename):\n",
    "    \"\"\"Create tree .dot file using graphviz.\n",
    "\n",
    "    Args\n",
    "    ----\n",
    "    tree -- scikit-learn DecsisionTree.\n",
    "    feature_names -- list of feature names.\n",
    "    \"\"\"\n",
    "    with open(filename, 'w') as f:\n",
    "        export_graphviz(tree, out_file=f,\n",
    "                        feature_names=feature_names)\n"
   ]
  },
  {
   "cell_type": "markdown",
   "metadata": {},
   "source": [
    "Create tree structure as .dot file. Then, use dot file parser to generate tree graph"
   ]
  },
  {
   "cell_type": "code",
   "execution_count": 104,
   "metadata": {
    "collapsed": false
   },
   "outputs": [],
   "source": [
    "visualize_tree(clf1, iris.feature_names, \"iris.dot\")"
   ]
  },
  {
   "cell_type": "markdown",
   "metadata": {
    "collapsed": true
   },
   "source": [
    "### 2. Decision Tree Regressor"
   ]
  },
  {
   "cell_type": "code",
   "execution_count": 105,
   "metadata": {
    "collapsed": true
   },
   "outputs": [],
   "source": [
    "from sklearn.tree import DecisionTreeRegressor\n",
    "from sklearn.datasets import load_boston"
   ]
  },
  {
   "cell_type": "code",
   "execution_count": 106,
   "metadata": {
    "collapsed": false
   },
   "outputs": [
    {
     "data": {
      "text/plain": [
       "array(['CRIM', 'ZN', 'INDUS', 'CHAS', 'NOX', 'RM', 'AGE', 'DIS', 'RAD',\n",
       "       'TAX', 'PTRATIO', 'B', 'LSTAT'], \n",
       "      dtype='<U7')"
      ]
     },
     "execution_count": 106,
     "metadata": {},
     "output_type": "execute_result"
    }
   ],
   "source": [
    "boston = load_boston()\n",
    "boston.feature_names"
   ]
  },
  {
   "cell_type": "markdown",
   "metadata": {},
   "source": [
    "Version 1 - use all features"
   ]
  },
  {
   "cell_type": "code",
   "execution_count": 107,
   "metadata": {
    "collapsed": false
   },
   "outputs": [
    {
     "data": {
      "text/plain": [
       "0.7320607138663342"
      ]
     },
     "execution_count": 107,
     "metadata": {},
     "output_type": "execute_result"
    }
   ],
   "source": [
    "regressor = DecisionTreeRegressor(random_state=0)\n",
    "X_train, X_test, y_train, y_test = train_test_split(boston.data, boston.target, test_size=0.33, random_state=42)\n",
    "fitted_v1 = regressor.fit(X_train, y_train)\n",
    "fitted_v1.score(X_test, y_test)"
   ]
  },
  {
   "cell_type": "code",
   "execution_count": 108,
   "metadata": {
    "collapsed": false
   },
   "outputs": [
    {
     "name": "stdout",
     "output_type": "stream",
     "text": [
      "    Feature  Importance\n",
      "0      CRIM    0.016259\n",
      "1        ZN    0.000466\n",
      "2     INDUS    0.007973\n",
      "3      CHAS    0.000402\n",
      "4       NOX    0.007457\n",
      "5        RM    0.215085\n",
      "6       AGE    0.005461\n",
      "7       DIS    0.101315\n",
      "8       RAD    0.000142\n",
      "9       TAX    0.029349\n",
      "10  PTRATIO    0.008107\n",
      "11        B    0.019019\n",
      "12    LSTAT    0.588964\n"
     ]
    }
   ],
   "source": [
    "feature_df_boston = pd.DataFrame(list(zip(boston.feature_names, fitted_v1.feature_importances_)), columns = ['Feature', 'Importance'])\n",
    "print(feature_df_boston)"
   ]
  },
  {
   "cell_type": "markdown",
   "metadata": {},
   "source": [
    "Version 2 - use 4 features: CRIM, ZN, INDUS and CHAS"
   ]
  },
  {
   "cell_type": "code",
   "execution_count": 109,
   "metadata": {
    "collapsed": false
   },
   "outputs": [
    {
     "data": {
      "text/plain": [
       "0.13828516423440818"
      ]
     },
     "execution_count": 109,
     "metadata": {},
     "output_type": "execute_result"
    }
   ],
   "source": [
    "regressor = DecisionTreeRegressor(random_state=0)\n",
    "X_train, X_test, y_train, y_test = train_test_split(boston.data[:, 0:4], boston.target, test_size=0.33, random_state=42)\n",
    "fitted_v2 = regressor.fit(X_train, y_train)\n",
    "fitted_v2.score(X_test, y_test)"
   ]
  },
  {
   "cell_type": "markdown",
   "metadata": {},
   "source": [
    "Visualize the decision tree built by four features from Boston data"
   ]
  },
  {
   "cell_type": "code",
   "execution_count": 110,
   "metadata": {
    "collapsed": false
   },
   "outputs": [],
   "source": [
    "visualize_tree(fitted_v2, boston.feature_names[0:4], \"boston.dot\")"
   ]
  },
  {
   "cell_type": "markdown",
   "metadata": {},
   "source": [
    "### Exercise\n",
    "Work in a group of 2-3 to improve the current decision tree models for predicting Boston house prices.\n",
    "You could consider feature selection, parameter configuration, train/test split proportion, etc.\n",
    "How does the model perform? How do you interpret the model?"
   ]
  },
  {
   "cell_type": "code",
   "execution_count": 111,
   "metadata": {
    "collapsed": false
   },
   "outputs": [
    {
     "data": {
      "text/plain": [
       "\"\\nimport pygraphviz as pgv\\nimport networkx as nx\\nGtmp = pgv.AGraph['boston.dot']\\nG = nx.Graph(Gtmp)\\nnx.draw(G)\\nplt.show()\\n\""
      ]
     },
     "execution_count": 111,
     "metadata": {},
     "output_type": "execute_result"
    }
   ],
   "source": [
    "# Edit me!\n",
    "\"\"\"\n",
    "import pygraphviz as pgv\n",
    "import networkx as nx\n",
    "Gtmp = pgv.AGraph['boston.dot']\n",
    "G = nx.Graph(Gtmp)\n",
    "nx.draw(G)\n",
    "plt.show()\n",
    "\"\"\""
   ]
  },
  {
   "cell_type": "code",
   "execution_count": 112,
   "metadata": {
    "collapsed": false
   },
   "outputs": [
    {
     "data": {
      "text/plain": [
       "0.50373147061870238"
      ]
     },
     "execution_count": 112,
     "metadata": {},
     "output_type": "execute_result"
    }
   ],
   "source": [
    "regressor = DecisionTreeRegressor(random_state=0)\n",
    "X_train, X_test, y_train, y_test = train_test_split(boston.data[:, 2:3], boston.target, test_size=0.33, random_state=42)\n",
    "fitted_v3 = regressor.fit(X_train, y_train)\n",
    "fitted_v3.score(X_test, y_test)"
   ]
  },
  {
   "cell_type": "code",
   "execution_count": 113,
   "metadata": {
    "collapsed": false
   },
   "outputs": [
    {
     "data": {
      "text/plain": [
       "0.41356809879870055"
      ]
     },
     "execution_count": 113,
     "metadata": {},
     "output_type": "execute_result"
    }
   ],
   "source": [
    "regressor = DecisionTreeRegressor(random_state=0)\n",
    "X_train, X_test, y_train, y_test = train_test_split(boston.data[:, 2:3], boston.target, test_size=0.20, random_state=42)\n",
    "fitted_v4 = regressor.fit(X_train, y_train)\n",
    "fitted_v4.score(X_test, y_test)"
   ]
  },
  {
   "cell_type": "code",
   "execution_count": 114,
   "metadata": {
    "collapsed": false
   },
   "outputs": [
    {
     "data": {
      "text/plain": [
       "0.098100205651676431"
      ]
     },
     "execution_count": 114,
     "metadata": {},
     "output_type": "execute_result"
    }
   ],
   "source": [
    "regressor = DecisionTreeRegressor(random_state=0)\n",
    "X_train, X_test, y_train, y_test = train_test_split(boston.data[:, 0:3], boston.target, test_size=0.33, random_state=42)\n",
    "fitted_v4 = regressor.fit(X_train, y_train)\n",
    "fitted_v4.score(X_test, y_test)"
   ]
  },
  {
   "cell_type": "code",
   "execution_count": 115,
   "metadata": {
    "collapsed": false
   },
   "outputs": [
    {
     "data": {
      "text/plain": [
       "0.13987559686249174"
      ]
     },
     "execution_count": 115,
     "metadata": {},
     "output_type": "execute_result"
    }
   ],
   "source": [
    "regressor = DecisionTreeRegressor(random_state=0)\n",
    "X_train, X_test, y_train, y_test = train_test_split(boston.data[:, 0:3], boston.target, test_size=0.20, random_state=42)\n",
    "fitted_v4 = regressor.fit(X_train, y_train)\n",
    "fitted_v4.score(X_test, y_test)"
   ]
  },
  {
   "cell_type": "code",
   "execution_count": null,
   "metadata": {
    "collapsed": true
   },
   "outputs": [],
   "source": []
  }
 ],
 "metadata": {
  "kernelspec": {
   "display_name": "Python 3",
   "language": "python",
   "name": "python3"
  },
  "language_info": {
   "codemirror_mode": {
    "name": "ipython",
    "version": 3
   },
   "file_extension": ".py",
   "mimetype": "text/x-python",
   "name": "python",
   "nbconvert_exporter": "python",
   "pygments_lexer": "ipython3",
   "version": "3.5.1"
  }
 },
 "nbformat": 4,
 "nbformat_minor": 0
}
