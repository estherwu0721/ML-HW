{
 "cells": [
  {
   "cell_type": "code",
   "execution_count": null,
   "metadata": {
    "collapsed": true
   },
   "outputs": [],
   "source": [
    "#Name: Shuyang Wu\n",
    "#Date: 1/12/2017\n",
    "#Class Section: C"
   ]
  },
  {
   "cell_type": "code",
   "execution_count": 2,
   "metadata": {
    "collapsed": true
   },
   "outputs": [],
   "source": [
    "import numpy as np\n",
    "import pandas as pd\n",
    "from collections import Counter\n",
    "import matplotlib.pyplot as plt\n",
    "%matplotlib inline"
   ]
  },
  {
   "cell_type": "markdown",
   "metadata": {},
   "source": [
    "## Class Activity 1:  Getting Started"
   ]
  },
  {
   "cell_type": "markdown",
   "metadata": {},
   "source": [
    "Write down the grade calculation code in the following cell."
   ]
  },
  {
   "cell_type": "code",
   "execution_count": 16,
   "metadata": {
    "collapsed": false
   },
   "outputs": [
    {
     "name": "stdout",
     "output_type": "stream",
     "text": [
      "Enter your marks 99\n",
      "Mark = 99, Grade = A\n"
     ]
    }
   ],
   "source": [
    "#TODO Add Grade Calculation Code here\n",
    "mark = int(input('Enter your marks '))\n",
    "grade = \"F\"\n",
    "if mark > 90:\n",
    "    grade = \"A\"\n",
    "elif mark > 80:\n",
    "    grade = 'B'\n",
    "else:\n",
    "    grade = 'F'\n",
    "print('Mark = %d, Grade = %s'%(mark, grade))"
   ]
  },
  {
   "cell_type": "markdown",
   "metadata": {},
   "source": [
    "## Class Activity 2: List"
   ]
  },
  {
   "cell_type": "code",
   "execution_count": 23,
   "metadata": {
    "collapsed": true
   },
   "outputs": [],
   "source": [
    "lst=[1,2,2,4,5,6]"
   ]
  },
  {
   "cell_type": "code",
   "execution_count": 62,
   "metadata": {
    "collapsed": true
   },
   "outputs": [],
   "source": [
    "def mean_lst(lst):\n",
    "    return np.mean(lst)\n",
    "def mode_lst(lst):\n",
    "    return Counter(lst).most_common()[0][0]"
   ]
  },
  {
   "cell_type": "code",
   "execution_count": 15,
   "metadata": {
    "collapsed": false
   },
   "outputs": [],
   "source": [
    "def custom_mean(lst1):\n",
    "    s = 0\n",
    "    for i in lst1:\n",
    "        s = s + i\n",
    "    mean = s/lst1.size\n",
    "    return mean"
   ]
  },
  {
   "cell_type": "code",
   "execution_count": 64,
   "metadata": {
    "collapsed": false
   },
   "outputs": [
    {
     "name": "stdout",
     "output_type": "stream",
     "text": [
      "3.33333333333 3.33333333333\n"
     ]
    },
    {
     "data": {
      "text/plain": [
       "True"
      ]
     },
     "execution_count": 64,
     "metadata": {},
     "output_type": "execute_result"
    }
   ],
   "source": [
    "a=mean_lst(lst)\n",
    "b=custom_mean(lst)\n",
    "print a,b\n",
    "mean_lst(lst)==custom_mean(lst)"
   ]
  },
  {
   "cell_type": "markdown",
   "metadata": {},
   "source": [
    "## Class Activity 3 : Mode of a List"
   ]
  },
  {
   "cell_type": "code",
   "execution_count": 21,
   "metadata": {
    "collapsed": true
   },
   "outputs": [],
   "source": [
    "def custom_mode(lst1):\n",
    "    #TODO Add Your Code here\n",
    "    d = {}\n",
    "    n = 0\n",
    "    for i in lst1:\n",
    "        if i in d:\n",
    "            d[i]+=1\n",
    "        else:\n",
    "            d[i]=1\n",
    "    ma = 0;\n",
    "    mode = 0;\n",
    "    for i in d:\n",
    "        if d[i] > ma:\n",
    "            ma = d[i]\n",
    "            mode = i\n",
    "    return mode"
   ]
  },
  {
   "cell_type": "code",
   "execution_count": 24,
   "metadata": {
    "collapsed": false
   },
   "outputs": [
    {
     "data": {
      "text/plain": [
       "2"
      ]
     },
     "execution_count": 24,
     "metadata": {},
     "output_type": "execute_result"
    }
   ],
   "source": [
    "custom_mode(lst)"
   ]
  },
  {
   "cell_type": "code",
   "execution_count": 28,
   "metadata": {
    "collapsed": false
   },
   "outputs": [
    {
     "data": {
      "text/plain": [
       "2"
      ]
     },
     "execution_count": 28,
     "metadata": {},
     "output_type": "execute_result"
    }
   ],
   "source": [
    "from statistics import mode\n",
    "mode(lst)"
   ]
  },
  {
   "cell_type": "code",
   "execution_count": 29,
   "metadata": {
    "collapsed": false
   },
   "outputs": [
    {
     "data": {
      "text/plain": [
       "True"
      ]
     },
     "execution_count": 29,
     "metadata": {},
     "output_type": "execute_result"
    }
   ],
   "source": [
    "mode(lst)==custom_mode(lst)"
   ]
  },
  {
   "cell_type": "markdown",
   "metadata": {},
   "source": [
    "# Class Activity 4: Classes"
   ]
  },
  {
   "cell_type": "code",
   "execution_count": null,
   "metadata": {
    "collapsed": false
   },
   "outputs": [],
   "source": [
    "class CustomClass:\n",
    "    print(‘Constructor Called’)\n",
    "    def factorial(n): \n",
    "        if n<=1:\n",
    "            return 1\n",
    "        else: \n",
    "            return n*factorial(n-1)\n",
    "    def permutations(n,r):\n",
    "        \n"
   ]
  },
  {
   "cell_type": "code",
   "execution_count": null,
   "metadata": {
    "collapsed": true
   },
   "outputs": [],
   "source": [
    "c=CustomClass()"
   ]
  },
  {
   "cell_type": "code",
   "execution_count": 81,
   "metadata": {
    "collapsed": false
   },
   "outputs": [
    {
     "data": {
      "text/plain": [
       "True"
      ]
     },
     "execution_count": 81,
     "metadata": {},
     "output_type": "execute_result"
    }
   ],
   "source": [
    "c.factorial(5)==120"
   ]
  },
  {
   "cell_type": "code",
   "execution_count": 83,
   "metadata": {
    "collapsed": false
   },
   "outputs": [
    {
     "data": {
      "text/plain": [
       "True"
      ]
     },
     "execution_count": 83,
     "metadata": {},
     "output_type": "execute_result"
    }
   ],
   "source": [
    "c.permutations(5,3)==60"
   ]
  },
  {
   "cell_type": "code",
   "execution_count": 86,
   "metadata": {
    "collapsed": false
   },
   "outputs": [
    {
     "data": {
      "text/plain": [
       "True"
      ]
     },
     "execution_count": 86,
     "metadata": {},
     "output_type": "execute_result"
    }
   ],
   "source": [
    "c.combinations(5,3)==10"
   ]
  },
  {
   "cell_type": "markdown",
   "metadata": {},
   "source": [
    "## Class Activity 5: Plotting Pop"
   ]
  },
  {
   "cell_type": "code",
   "execution_count": 3,
   "metadata": {
    "collapsed": false
   },
   "outputs": [
    {
     "data": {
      "image/png": "[encoded data removed]",
      "text/plain": [
       "<matplotlib.figure.Figure at 0x114a67320>"
      ]
     },
     "metadata": {},
     "output_type": "display_data"
    },
    {
     "data": {
      "image/png": "[encoded data removed]",
      "text/plain": [
       "<matplotlib.figure.Figure at 0x1172af2b0>"
      ]
     },
     "metadata": {},
     "output_type": "display_data"
    }
   ],
   "source": [
    "#TODO : Add your code here\n",
    "from pandas import DataFrame, read_csv\n",
    "import matplotlib.pyplot as plt\n",
    "import pandas as pd\n",
    "\n",
    "names = ['john','bob','david','mary']\n",
    "heights = [5.6,5.7,5.8,5.7]\n",
    "data = {'names':names,'heights':heights}\n",
    "df = DataFrame(data)\n",
    "\n",
    "df.plot()\n",
    "plt.show()\n",
    "\n",
    "df.index = df['names'] #have names on x-axis\n",
    "\n",
    "weights = [160,150,140,130]\n",
    "df['weights']=weights\n",
    "df.describe()\n",
    "\n",
    "plt.scatter(df['heights'],df['weights'])\n",
    "plt.show()"
   ]
  },
  {
   "cell_type": "code",
   "execution_count": 2,
   "metadata": {
    "collapsed": false
   },
   "outputs": [
    {
     "data": {
      "text/plain": [
       "5.7999999999999998"
      ]
     },
     "execution_count": 2,
     "metadata": {},
     "output_type": "execute_result"
    }
   ],
   "source": [
    "df['heights'].max()"
   ]
  },
  {
   "cell_type": "code",
   "execution_count": 3,
   "metadata": {
    "collapsed": false
   },
   "outputs": [
    {
     "data": {
      "text/html": [
       "<div>\n",
       "<table border=\"1\" class=\"dataframe\">\n",
       "  <thead>\n",
       "    <tr style=\"text-align: right;\">\n",
       "      <th></th>\n",
       "      <th>heights</th>\n",
       "      <th>names</th>\n",
       "      <th>weights</th>\n",
       "    </tr>\n",
       "    <tr>\n",
       "      <th>names</th>\n",
       "      <th></th>\n",
       "      <th></th>\n",
       "      <th></th>\n",
       "    </tr>\n",
       "  </thead>\n",
       "  <tbody>\n",
       "    <tr>\n",
       "      <th>david</th>\n",
       "      <td>5.8</td>\n",
       "      <td>david</td>\n",
       "      <td>140</td>\n",
       "    </tr>\n",
       "  </tbody>\n",
       "</table>\n",
       "</div>"
      ],
      "text/plain": [
       "       heights  names  weights\n",
       "names                         \n",
       "david      5.8  david      140"
      ]
     },
     "execution_count": 3,
     "metadata": {},
     "output_type": "execute_result"
    }
   ],
   "source": [
    "df[df['heights']==df ['heights'].max()]"
   ]
  },
  {
   "cell_type": "code",
   "execution_count": 10,
   "metadata": {
    "collapsed": false
   },
   "outputs": [
    {
     "data": {
      "text/plain": [
       "5.7"
      ]
     },
     "execution_count": 10,
     "metadata": {},
     "output_type": "execute_result"
    }
   ],
   "source": [
    "df['heights'].mean()"
   ]
  },
  {
   "cell_type": "code",
   "execution_count": 4,
   "metadata": {
    "collapsed": false
   },
   "outputs": [
    {
     "name": "stdout",
     "output_type": "stream",
     "text": [
      "       heights\n",
      "names         \n",
      "Bob        5.8\n",
      "David      6.0\n",
      "John       5.7\n",
      "Mary       5.5\n"
     ]
    },
    {
     "data": {
      "image/png": "[encoded data removed]",
      "text/plain": [
       "<matplotlib.figure.Figure at 0x1178a1860>"
      ]
     },
     "metadata": {},
     "output_type": "display_data"
    }
   ],
   "source": [
    "## Group by\n",
    "names=['Bob','John','David','Mary','Bob']\n",
    "heights = [5.8,5.7,6,5.5,5.8]\n",
    "data={'names':names, 'heights':heights}\n",
    "frame = DataFrame(data)\n",
    "df= frame.groupby(frame['names'])\n",
    "df = df.mean()\n",
    "print(df)\n",
    "df.plot()\n",
    "plt.ylim(ymin=0)\n",
    "plt.ylim(ymax=7)\n",
    "plt.show()"
   ]
  },
  {
   "cell_type": "code",
   "execution_count": 21,
   "metadata": {
    "collapsed": false
   },
   "outputs": [
    {
     "name": "stdout",
     "output_type": "stream",
     "text": [
      "             pop\n",
      "state  year     \n",
      "Nevada 2001  2.4\n",
      "       2002  2.9\n",
      "Ohio   2000  1.5\n",
      "       2001  1.7\n",
      "       2002  3.6\n"
     ]
    },
    {
     "data": {
      "image/png": "[encoded data removed]",
      "text/plain": [
       "<matplotlib.figure.Figure at 0x117d14e80>"
      ]
     },
     "metadata": {},
     "output_type": "display_data"
    }
   ],
   "source": [
    "data={'state':['Ohio','Ohio','Ohio','Nevada','Nevada'],'year':[2000,2001,2002,2001,2002],'pop':[1.5,1.7,3.6,2.4,2.9]}\n",
    "data = DataFrame(data)\n",
    "d = data.groupby(['state','year']).mean()\n",
    "print(d)\n",
    "d.plot(kind = \"bar\")\n",
    "plt.show()"
   ]
  },
  {
   "cell_type": "markdown",
   "metadata": {},
   "source": [
    "## Regression Code"
   ]
  },
  {
   "cell_type": "code",
   "execution_count": 22,
   "metadata": {
    "collapsed": false
   },
   "outputs": [
    {
     "data": {
      "image/png": "[encoded data removed]",
      "text/plain": [
       "<matplotlib.figure.Figure at 0x1179828d0>"
      ]
     },
     "metadata": {},
     "output_type": "display_data"
    },
    {
     "name": "stdout",
     "output_type": "stream",
     "text": [
      "                            OLS Regression Results                            \n",
      "==============================================================================\n",
      "Dep. Variable:                      y   R-squared:                       0.931\n",
      "Model:                            OLS   Adj. R-squared:                  0.927\n",
      "Method:                 Least Squares   F-statistic:                     255.5\n",
      "Date:                Fri, 13 Jan 2017   Prob (F-statistic):           1.79e-12\n",
      "Time:                        18:27:11   Log-Likelihood:                -44.368\n",
      "No. Observations:                  20   AIC:                             90.74\n",
      "Df Residuals:                      19   BIC:                             91.73\n",
      "Df Model:                           1                                         \n",
      "Covariance Type:            nonrobust                                         \n",
      "==============================================================================\n",
      "                 coef    std err          t      P>|t|      [95.0% Conf. Int.]\n",
      "------------------------------------------------------------------------------\n",
      "x1             0.7340      0.046     15.985      0.000         0.638     0.830\n",
      "==============================================================================\n",
      "Omnibus:                        1.591   Durbin-Watson:                   1.400\n",
      "Prob(Omnibus):                  0.451   Jarque-Bera (JB):                0.988\n",
      "Skew:                          -0.540   Prob(JB):                        0.610\n",
      "Kurtosis:                       2.868   Cond. No.                         1.00\n",
      "==============================================================================\n",
      "\n",
      "Warnings:\n",
      "[1] Standard Errors assume that the covariance matrix of the errors is correctly specified.\n"
     ]
    },
    {
     "data": {
      "image/png": "[encoded data removed]",
      "text/plain": [
       "<matplotlib.figure.Figure at 0x11a8a1e10>"
      ]
     },
     "metadata": {},
     "output_type": "display_data"
    }
   ],
   "source": [
    "import scipy.stats as stats\n",
    "import statsmodels.api as sm\n",
    "import numpy as np\n",
    "import matplotlib.pyplot as plt\n",
    "\n",
    "\n",
    "x = np.array(range(20))\n",
    "y = 3 + 0.5 * x + 2 * np.random.randn(20)\n",
    "#plot the data\n",
    "plt.plot(x, y, 'bo')\n",
    "plt.show()\n",
    "\n",
    "results = sm.OLS(y, x).fit()\n",
    "print(results.summary())\n",
    "\n",
    "slope= results.params[0]\n",
    "plt.plot(x, y, 'bo')\n",
    "plt.hold(True)\n",
    "# Plot a line\n",
    "y =  slope * x\n",
    "plt.plot(x, y, 'r-')\n",
    "plt.show()"
   ]
  },
  {
   "cell_type": "code",
   "execution_count": null,
   "metadata": {
    "collapsed": true
   },
   "outputs": [],
   "source": []
  },
  {
   "cell_type": "code",
   "execution_count": null,
   "metadata": {
    "collapsed": true
   },
   "outputs": [],
   "source": []
  }
 ],
 "metadata": {
  "kernelspec": {
   "display_name": "Python 3",
   "language": "python",
   "name": "python3"
  },
  "language_info": {
   "codemirror_mode": {
    "name": "ipython",
    "version": 3
   },
   "file_extension": ".py",
   "mimetype": "text/x-python",
   "name": "python",
   "nbconvert_exporter": "python",
   "pygments_lexer": "ipython3",
   "version": "3.5.1"
  }
 },
 "nbformat": 4,
 "nbformat_minor": 0
}
